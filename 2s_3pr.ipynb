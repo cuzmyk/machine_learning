{
  "nbformat": 4,
  "nbformat_minor": 0,
  "metadata": {
    "colab": {
      "provenance": [],
      "collapsed_sections": [
        "cY-IVs-11lcN",
        "2hJWx7inecOh"
      ],
      "include_colab_link": true
    },
    "kernelspec": {
      "name": "python3",
      "display_name": "Python 3"
    },
    "language_info": {
      "name": "python"
    }
  },
  "cells": [
    {
      "cell_type": "markdown",
      "metadata": {
        "id": "view-in-github",
        "colab_type": "text"
      },
      "source": [
        "<a href=\"https://colab.research.google.com/github/cuzmyk/machine_learning/blob/main/2s_3pr.ipynb\" target=\"_parent\"><img src=\"https://colab.research.google.com/assets/colab-badge.svg\" alt=\"Open In Colab\"/></a>"
      ]
    },
    {
      "cell_type": "markdown",
      "source": [
        "# Задание №1. Использование глубокой сверточной нейронной сети для классификации предметов одежды на примере датасета Fashion MNIST\n"
      ],
      "metadata": {
        "id": "cY-IVs-11lcN"
      }
    },
    {
      "cell_type": "markdown",
      "source": [
        "**В качестве интерфейса для работы с моделями используйте [Gradio](https://colab.research.google.com/drive/18EM8mrpURStkmbxWjZybWbWh23Si5b4A#scrollTo=-uu_VR8H2K4h)**"
      ],
      "metadata": {
        "id": "tl-m4deYZmbh"
      }
    },
    {
      "cell_type": "markdown",
      "source": [
        "[Техническая документация по датасету](https://www.kaggle.com/datasets/zalando-research/fashionmnist)"
      ],
      "metadata": {
        "id": "20Vy9kORZplL"
      }
    },
    {
      "cell_type": "markdown",
      "source": [
        "## 1.1. Устанавливаем необходимые зависимости"
      ],
      "metadata": {
        "id": "btqKiaPYZ88p"
      }
    },
    {
      "cell_type": "code",
      "execution_count": null,
      "metadata": {
        "id": "vhuZudFB1Y89"
      },
      "outputs": [],
      "source": [
        "from keras.datasets import fashion_mnist # импорт исходного датасета\n",
        "from keras.models import Sequential\n",
        "\n",
        "from keras.layers import Conv2D, MaxPooling2D, Dense, Flatten, AveragePooling2D\n",
        "\n",
        "from keras.optimizers import Adam, SGD\n",
        "import matplotlib.pyplot as plt\n",
        "import numpy as np\n",
        "import pandas as pd\n",
        "import matplotlib.pyplot as plt\n",
        "import os\n",
        "os.environ['TF_CPP_MIN_LOG_LEVEL']='2'"
      ]
    },
    {
      "cell_type": "code",
      "source": [
        "# Импортируем LabelBinarizer для преобразования текстовых меток в векторы\n",
        "# (например, \"кошка\" -> [1, 0, 0], \"собака\" -> [0, 1, 0], \"панда\" -> [0, 0, 1])\n",
        "from sklearn.preprocessing import LabelBinarizer\n",
        "\n",
        "# Импортируем train_test_split для разделения данных на обучающую и тестовую выборки\n",
        "from sklearn.model_selection import train_test_split\n",
        "\n",
        "# Импортируем classification_report для оценки качества классификации\n",
        "from sklearn.metrics import classification_report\n",
        "\n",
        "# Импортируем Sequential для создания последовательной модели нейронной сети\n",
        "from keras.models import Sequential\n",
        "\n",
        "# Импортируем Dense для создания плотных слоев нейронной сети\n",
        "from keras.layers import Dense\n",
        "\n",
        "# Импортируем SGD и Adam для оптимизации обучения нейронной сети\n",
        "from keras.optimizers import SGD, Adam\n",
        "\n",
        "# Импортируем paths из imutils для удобной работы с путями к изображениям\n",
        "from imutils import paths\n",
        "\n",
        "# Импортируем pyplot из matplotlib для визуализации данных\n",
        "import matplotlib.pyplot as plt\n",
        "\n",
        "# Импортируем numpy для работы с массивами данных\n",
        "import numpy as np\n",
        "\n",
        "# Импортируем random для генерации случайных чисел\n",
        "import random\n",
        "\n",
        "# Импортируем pickle для сериализации и десериализации данных\n",
        "import pickle\n",
        "\n",
        "# Импортируем cv2 для работы с изображениями\n",
        "import cv2\n",
        "\n",
        "# Импортируем os для работы с файловой системой\n",
        "import os\n",
        "\n",
        "# Импортируем cv2_imshow из google.colab.patches для отображения изображений в Colab\n",
        "from google.colab.patches import cv2_imshow\n",
        "import keras\n",
        "from keras import backend as K"
      ],
      "metadata": {
        "id": "038gElCJHBqJ"
      },
      "execution_count": null,
      "outputs": []
    },
    {
      "cell_type": "markdown",
      "source": [
        "## 1.2. Разделяем данные на обучающую и тестовую выборку"
      ],
      "metadata": {
        "id": "VGDdR_nnaWJx"
      }
    },
    {
      "cell_type": "code",
      "source": [
        "num_classes = 10\n",
        "batch_size = 10\n",
        "epoch = 20\n",
        "img_rows, img_cols = 28,28"
      ],
      "metadata": {
        "id": "4hddFGEILmYO"
      },
      "execution_count": null,
      "outputs": []
    },
    {
      "cell_type": "code",
      "source": [
        "(trainX, trainy), (testX, testy) = fashion_mnist.load_data()\n",
        "\n",
        "if K.image_data_format() == 'channels_first':\n",
        "    trainX=trainX.reshape(trainX.shape[0],1,img_rows,img_cols)\n",
        "    testX =testX.reshape(testX.shape[0],1,img_rows,img_cols)\n",
        "    input_shape=(1,img_rows,img_cols)\n",
        "else:\n",
        "    trainX=trainX.reshape(trainX.shape[0],img_rows,img_cols,1)\n",
        "    testX =testX.reshape(testX.shape[0],img_rows,img_cols,1)\n",
        "    input_shape=(img_rows,img_cols,1)\n",
        "\n",
        "trainX = trainX.astype('float32')\n",
        "testX = testX.astype('float32')\n",
        "trainX /= 255\n",
        "testX /= 255\n",
        "\n",
        "print('Train: X = ', trainX.shape)\n",
        "print('Test: X = ', testX.shape)\n",
        "print('Train: X = ', trainX.shape)\n",
        "print('Test: X = ', testX.shape)"
      ],
      "metadata": {
        "colab": {
          "base_uri": "https://localhost:8080/"
        },
        "id": "BOi1_2reaay_",
        "outputId": "42ebbf4c-04fc-450b-cc50-d733d7c3efad"
      },
      "execution_count": null,
      "outputs": [
        {
          "output_type": "stream",
          "name": "stdout",
          "text": [
            "Train: X =  (60000, 28, 28, 1)\n",
            "Test: X =  (10000, 28, 28, 1)\n",
            "Train: X =  (60000, 28, 28, 1)\n",
            "Test: X =  (10000, 28, 28, 1)\n"
          ]
        }
      ]
    },
    {
      "cell_type": "code",
      "source": [
        "trainy = keras.utils.to_categorical(trainy,num_classes=num_classes)\n",
        "testy = keras.utils.to_categorical(testy,num_classes=num_classes)"
      ],
      "metadata": {
        "id": "PiqrQquzLsg_"
      },
      "execution_count": null,
      "outputs": []
    },
    {
      "cell_type": "markdown",
      "source": [
        "## 1.3. Визуализируем часть данных из датасета"
      ],
      "metadata": {
        "id": "zqsyByyEaa8F"
      }
    },
    {
      "cell_type": "code",
      "source": [
        "for i in range(1, 10):\n",
        "    plt.subplot(3, 3, i)\n",
        "    plt.imshow(trainX[i], cmap=plt.get_cmap('gray'))\n",
        "\n",
        "plt.show()"
      ],
      "metadata": {
        "colab": {
          "base_uri": "https://localhost:8080/",
          "height": 433
        },
        "id": "FhPYAoXCbHUC",
        "outputId": "291d66d1-fd75-4b3d-b34a-6141380809d8"
      },
      "execution_count": null,
      "outputs": [
        {
          "output_type": "display_data",
          "data": {
            "text/plain": [
              "<Figure size 640x480 with 9 Axes>"
            ],
            "image/png": "[encoded data removed]"
          },
          "metadata": {}
        }
      ]
    },
    {
      "cell_type": "markdown",
      "source": [
        "## 1.4. Создаём архитектуру нейронной сети и компилируем модель"
      ],
      "metadata": {
        "id": "2vi6xrt3bHbU"
      }
    },
    {
      "cell_type": "code",
      "source": [
        "import numpy as np\n",
        "import pandas as pd\n",
        "import matplotlib.pyplot as plt\n",
        "from tensorflow import keras\n",
        "import os\n",
        "os.environ['TF_CPP_MIN_LOG_LEVEL']='2'\n",
        "import keras\n",
        "from keras.datasets import fashion_mnist\n",
        "from keras.models import Sequential\n",
        "from keras.layers import Dense, Dropout, Flatten\n",
        "from keras.layers import Conv2D, MaxPooling2D\n",
        "from keras import backend as K"
      ],
      "metadata": {
        "id": "AczzRRwLL2nR"
      },
      "execution_count": null,
      "outputs": []
    },
    {
      "cell_type": "code",
      "source": [
        "model = Sequential()\n",
        "model.add(Conv2D(32,kernel_size=(3,3),activation='relu',input_shape=input_shape))\n",
        "model.add(Conv2D(64,kernel_size=(3,3),activation='relu'))\n",
        "model.add(MaxPooling2D(pool_size=(2,2)))\n",
        "model.add(Flatten())\n",
        "model.add(Dense(128,activation='relu'))\n",
        "model.add(Dropout(0.5))\n",
        "model.add(Dense(num_classes,activation='softmax'))\n",
        "model.summary()"
      ],
      "metadata": {
        "id": "f14ixzoFbHiF",
        "outputId": "abb05217-1bd0-4c45-f954-2c6517c2392c",
        "colab": {
          "base_uri": "https://localhost:8080/"
        }
      },
      "execution_count": null,
      "outputs": [
        {
          "output_type": "stream",
          "name": "stdout",
          "text": [
            "Model: \"sequential_8\"\n",
            "_________________________________________________________________\n",
            " Layer (type)                Output Shape              Param #   \n",
            "=================================================================\n",
            " conv2d_5 (Conv2D)           (None, 26, 26, 32)        320       \n",
            "                                                                 \n",
            " conv2d_6 (Conv2D)           (None, 24, 24, 64)        18496     \n",
            "                                                                 \n",
            " max_pooling2d (MaxPooling2  (None, 12, 12, 64)        0         \n",
            " D)                                                              \n",
            "                                                                 \n",
            " flatten (Flatten)           (None, 9216)              0         \n",
            "                                                                 \n",
            " dense (Dense)               (None, 128)               1179776   \n",
            "                                                                 \n",
            " dropout (Dropout)           (None, 128)               0         \n",
            "                                                                 \n",
            " dense_1 (Dense)             (None, 10)                1290      \n",
            "                                                                 \n",
            "=================================================================\n",
            "Total params: 1199882 (4.58 MB)\n",
            "Trainable params: 1199882 (4.58 MB)\n",
            "Non-trainable params: 0 (0.00 Byte)\n",
            "_________________________________________________________________\n"
          ]
        }
      ]
    },
    {
      "cell_type": "markdown",
      "source": [
        "## 1.5. Обучаем модель"
      ],
      "metadata": {
        "id": "iaWXTPf_bpdc"
      }
    },
    {
      "cell_type": "code",
      "source": [
        "# Ваш код\n",
        "INIT_LR = 0.0000005\n",
        "EPOCHS = 5"
      ],
      "metadata": {
        "id": "uFaRiZGKcB-n"
      },
      "execution_count": null,
      "outputs": []
    },
    {
      "cell_type": "code",
      "source": [
        "#Компилируем модель, используя Adam как оптимизатор и категориальную кросс-энтропию\n",
        "#в качестве функции потерь (для бинарной классификации следует использовать\n",
        "#binary_crossentropy):\n",
        "opt = Adam(learning_rate=INIT_LR)\n",
        "\n",
        "model.compile(loss=\"categorical_crossentropy\", optimizer=opt,\n",
        "\t\t\t\t\t\t\t\t\t\t\t\t\t\t\t\t\t\t\t\t\tmetrics=[\"accuracy\"])"
      ],
      "metadata": {
        "id": "zhJuuPOHM255"
      },
      "execution_count": null,
      "outputs": []
    },
    {
      "cell_type": "code",
      "source": [
        "# обавляем колбэки\n",
        "from keras.callbacks import EarlyStopping, ModelCheckpoint\n",
        "\n",
        "early_stopping = EarlyStopping(patience=5) # Остановка обучения, если\n",
        "                                             # валидационная точность не\n",
        "                                             # улучшается в течение 5 эпох\n",
        "checkpoint = ModelCheckpoint(filepath=\"best_model.h5\",\n",
        "                             monitor=\"val_accuracy\",\n",
        "                             save_best_only=True,\n",
        "                             verbose=0) # Сохранение модели\n",
        "                                         # только при улучшении\n",
        "                                         # валидационной точности"
      ],
      "metadata": {
        "id": "IVZFet37NNVc"
      },
      "execution_count": null,
      "outputs": []
    },
    {
      "cell_type": "code",
      "source": [
        "#Запустим процесс обучения модели\n",
        "H = model.fit(trainX, trainy,\n",
        "              validation_data=(testX, testy),\n",
        "              epochs=EPOCHS,\n",
        "              batch_size=batch_size,\n",
        "              callbacks=[early_stopping, checkpoint])"
      ],
      "metadata": {
        "id": "B_wIWcmxNW2h",
        "outputId": "51917e44-8822-440a-b010-7f0a87cb8bb5",
        "colab": {
          "base_uri": "https://localhost:8080/"
        }
      },
      "execution_count": null,
      "outputs": [
        {
          "output_type": "stream",
          "name": "stdout",
          "text": [
            "Epoch 1/5\n",
            "6000/6000 [==============================] - 239s 40ms/step - loss: 1.0876 - accuracy: 0.6399 - val_loss: 0.9126 - val_accuracy: 0.7180\n",
            "Epoch 2/5\n",
            "6000/6000 [==============================] - 239s 40ms/step - loss: 0.9916 - accuracy: 0.6647 - val_loss: 0.8320 - val_accuracy: 0.7369\n",
            "Epoch 3/5\n",
            "6000/6000 [==============================] - 240s 40ms/step - loss: 0.9250 - accuracy: 0.6857 - val_loss: 0.7783 - val_accuracy: 0.7458\n",
            "Epoch 4/5\n",
            "6000/6000 [==============================] - 241s 40ms/step - loss: 0.8756 - accuracy: 0.7014 - val_loss: 0.7396 - val_accuracy: 0.7542\n",
            "Epoch 5/5\n",
            "6000/6000 [==============================] - 239s 40ms/step - loss: 0.8345 - accuracy: 0.7127 - val_loss: 0.7098 - val_accuracy: 0.7597\n"
          ]
        }
      ]
    },
    {
      "cell_type": "markdown",
      "source": [
        "## 1.6. Анализируем обученную модель. Строим график (графики) обучения"
      ],
      "metadata": {
        "id": "tKqwhetycC7b"
      }
    },
    {
      "cell_type": "code",
      "source": [
        "# Загружаем лучшую модель:\n",
        "from keras.models import load_model\n",
        "\n",
        "model = load_model(\"/content/best_model.h5\")"
      ],
      "metadata": {
        "id": "H2CKO7-vcNhk"
      },
      "execution_count": null,
      "outputs": []
    },
    {
      "cell_type": "code",
      "source": [
        "# Определите имена классов\n",
        "class_names = [\"T-shirt/top\", \"Trouser\", \"Pullover\", \"Dress\", \"Coat\",\n",
        "               \"Sandal\", \"Shirt\", \"Sneaker\", \"Bag\", \"Ankle boot\"]\n",
        "\n",
        "# Выведите отчет о классификации\n",
        "print(classification_report(testy.argmax(axis=1), predictions.argmax(axis=1), target_names=class_names))"
      ],
      "metadata": {
        "id": "M3Lm4tPLYsvO",
        "outputId": "f19bb028-4966-4fba-b7d3-ef64aa4fde11",
        "colab": {
          "base_uri": "https://localhost:8080/"
        }
      },
      "execution_count": null,
      "outputs": [
        {
          "output_type": "stream",
          "name": "stdout",
          "text": [
            "              precision    recall  f1-score   support\n",
            "\n",
            " T-shirt/top       0.74      0.78      0.76      1000\n",
            "     Trouser       0.98      0.91      0.94      1000\n",
            "    Pullover       0.59      0.57      0.58      1000\n",
            "       Dress       0.71      0.86      0.78      1000\n",
            "        Coat       0.51      0.70      0.59      1000\n",
            "      Sandal       0.91      0.86      0.88      1000\n",
            "       Shirt       0.46      0.19      0.26      1000\n",
            "     Sneaker       0.83      0.88      0.85      1000\n",
            "         Bag       0.90      0.92      0.91      1000\n",
            "  Ankle boot       0.89      0.93      0.91      1000\n",
            "\n",
            "    accuracy                           0.76     10000\n",
            "   macro avg       0.75      0.76      0.75     10000\n",
            "weighted avg       0.75      0.76      0.75     10000\n",
            "\n"
          ]
        }
      ]
    },
    {
      "cell_type": "code",
      "source": [
        "# Выведем матрицу ошибок\n",
        "from sklearn.metrics import confusion_matrix\n",
        "import seaborn as sns\n",
        "\n",
        "# Получим прогнозы по валидационным даннным\n",
        "Y_pred = model.predict(testX, batch_size=10)\n",
        "\n",
        "# Преобразуем вероятности в метки классов\n",
        "Y_pred = Y_pred.argmax(axis=1)\n",
        "Y_val = testy.argmax(axis=1)\n",
        "\n",
        "# Вычисляем матрицу ошибок\n",
        "conf_mat = confusion_matrix(Y_val, Y_pred)\n",
        "\n",
        "# Визуализируем матрицу ошибок\n",
        "sns.heatmap(conf_mat, annot=True, fmt=\"d\", cmap=\"YlGnBu\")\n",
        "plt.show()"
      ],
      "metadata": {
        "id": "5nWLH6uiN27w",
        "outputId": "b58441e8-c8d4-4a7a-ddac-85655066519e",
        "colab": {
          "base_uri": "https://localhost:8080/",
          "height": 448
        }
      },
      "execution_count": null,
      "outputs": [
        {
          "output_type": "stream",
          "name": "stdout",
          "text": [
            "1000/1000 [==============================] - 10s 10ms/step\n"
          ]
        },
        {
          "output_type": "display_data",
          "data": {
            "text/plain": [
              "<Figure size 640x480 with 2 Axes>"
            ],
            "image/png": "[encoded data removed]"
          },
          "metadata": {}
        }
      ]
    },
    {
      "cell_type": "code",
      "source": [
        "# строим графики потерь и точности\n",
        "N = np.arange(0, EPOCHS)\n",
        "plt.style.use(\"ggplot\")\n",
        "plt.figure()\n",
        "plt.plot(N, H.history[\"loss\"], label=\"train_loss\")\n",
        "plt.plot(N, H.history[\"val_loss\"], label=\"val_loss\")\n",
        "plt.plot(N, H.history[\"accuracy\"], label=\"train_acc\")\n",
        "plt.plot(N, H.history[\"val_accuracy\"], label=\"val_acc\")\n",
        "plt.title(\"Training Loss and Accuracy (Simple NN)\")\n",
        "plt.xlabel(\"Epoch #\")\n",
        "plt.ylabel(\"Loss/Accuracy\")\n",
        "plt.legend()\n",
        "plt.savefig('plot.png')"
      ],
      "metadata": {
        "id": "780A5kmdN2-c",
        "outputId": "762b3609-eea5-4bb7-ca4a-87495730f26e",
        "colab": {
          "base_uri": "https://localhost:8080/",
          "height": 477
        }
      },
      "execution_count": null,
      "outputs": [
        {
          "output_type": "display_data",
          "data": {
            "text/plain": [
              "<Figure size 640x480 with 1 Axes>"
            ],
            "image/png": "[encoded data removed]"
          },
          "metadata": {}
        }
      ]
    },
    {
      "cell_type": "markdown",
      "source": [
        "## 1.7. Загружаем свои изображения. С помощью функции predict() получаем предсказание нейронной сети"
      ],
      "metadata": {
        "id": "ov2Y-9lNbHoP"
      }
    },
    {
      "cell_type": "markdown",
      "source": [
        "\n",
        "\n",
        "> Требуется получить предсказания минимум по 5 изображениям, каждое из которых относится к разному классу. Не забудьте добавить метки к каждому классу (для этого можно просто создать список строк, каждая из которых будет соответствовать классу с определенным индексом см. [тех.док.](https://www.kaggle.com/datasets/zalando-research/fashionmnist)). Процент уверенности нейронной сети в своём предсказании выводить обязательно.\n",
        "\n"
      ],
      "metadata": {
        "id": "KaPVxLTQdK8E"
      }
    },
    {
      "cell_type": "code",
      "source": [
        "\n",
        "import cv2\n",
        "from google.colab.patches import cv2_imshow\n",
        "\n",
        "# Добавляем интерфейс для загрузки изображений напрямую из блокнота\n",
        "from google.colab import files\n",
        "uploaded = files.upload()\n",
        "\n",
        "\n",
        "labels = {\n",
        "    0 : 'T-shirt/top',\n",
        "    1 : 'Trouser',\n",
        "    2 : 'Pullover',\n",
        "    3 : 'Dress',\n",
        "    4 : 'Coat',\n",
        "    5 : 'Sandal',\n",
        "    6 : 'Shirt',\n",
        "    7 : 'Sneaker',\n",
        "    8 : 'Bag',\n",
        "    9 : 'Ankle boot'\n",
        "}\n",
        "# загружаем входное изображение, меняем его размер на необходимый и выводим его\n",
        "\n",
        "image = cv2.imread(list(uploaded.keys())[0], cv2.IMREAD_GRAYSCALE) # Преобразование изображения в оттенки серого при считывании\n",
        "image = cv2.resize(image, (28, 28)) # Изменение разрешения изображения\n",
        "image = cv2.bitwise_not(image) # Инверсия цветов (если в оригинале цифра написана черным цветом на белом фоне)\n",
        "orig = image\n",
        "image = image.reshape(-1, 28, 28, 1) # Приводим изображение из вида (28,28) в вид (1, 28, 28, 1)\n",
        "\n",
        "cv2_imshow(orig)"
      ],
      "metadata": {
        "id": "oMCskxEYepNC",
        "outputId": "8dca18c5-bae4-470b-dd22-68e12843ebd5",
        "colab": {
          "base_uri": "https://localhost:8080/",
          "height": 101
        }
      },
      "execution_count": null,
      "outputs": [
        {
          "output_type": "display_data",
          "data": {
            "text/plain": [
              "<IPython.core.display.HTML object>"
            ],
            "text/html": [
              "\n",
              "     <input type=\"file\" id=\"files-8cdbb180-6c47-46f3-9f77-8fae26f6da76\" name=\"files[]\" multiple disabled\n",
              "        style=\"border:none\" />\n",
              "     <output id=\"result-8cdbb180-6c47-46f3-9f77-8fae26f6da76\">\n",
              "      Upload widget is only available when the cell has been executed in the\n",
              "      current browser session. Please rerun this cell to enable.\n",
              "      </output>\n",
              "      <script>// Copyright 2017 Google LLC\n",
              "//\n",
              "// Licensed under the Apache License, Version 2.0 (the \"License\");\n",
              "// you may not use this file except in compliance with the License.\n",
              "// You may obtain a copy of the License at\n",
              "//\n",
              "//      http://www.apache.org/licenses/LICENSE-2.0\n",
              "//\n",
              "// Unless required by applicable law or agreed to in writing, software\n",
              "// distributed under the License is distributed on an \"AS IS\" BASIS,\n",
              "// WITHOUT WARRANTIES OR CONDITIONS OF ANY KIND, either express or implied.\n",
              "// See the License for the specific language governing permissions and\n",
              "// limitations under the License.\n",
              "\n",
              "/**\n",
              " * @fileoverview Helpers for google.colab Python module.\n",
              " */\n",
              "(function(scope) {\n",
              "function span(text, styleAttributes = {}) {\n",
              "  const element = document.createElement('span');\n",
              "  element.textContent = text;\n",
              "  for (const key of Object.keys(styleAttributes)) {\n",
              "    element.style[key] = styleAttributes[key];\n",
              "  }\n",
              "  return element;\n",
              "}\n",
              "\n",
              "// Max number of bytes which will be uploaded at a time.\n",
              "const MAX_PAYLOAD_SIZE = 100 * 1024;\n",
              "\n",
              "function _uploadFiles(inputId, outputId) {\n",
              "  const steps = uploadFilesStep(inputId, outputId);\n",
              "  const outputElement = document.getElementById(outputId);\n",
              "  // Cache steps on the outputElement to make it available for the next call\n",
              "  // to uploadFilesContinue from Python.\n",
              "  outputElement.steps = steps;\n",
              "\n",
              "  return _uploadFilesContinue(outputId);\n",
              "}\n",
              "\n",
              "// This is roughly an async generator (not supported in the browser yet),\n",
              "// where there are multiple asynchronous steps and the Python side is going\n",
              "// to poll for completion of each step.\n",
              "// This uses a Promise to block the python side on completion of each step,\n",
              "// then passes the result of the previous step as the input to the next step.\n",
              "function _uploadFilesContinue(outputId) {\n",
              "  const outputElement = document.getElementById(outputId);\n",
              "  const steps = outputElement.steps;\n",
              "\n",
              "  const next = steps.next(outputElement.lastPromiseValue);\n",
              "  return Promise.resolve(next.value.promise).then((value) => {\n",
              "    // Cache the last promise value to make it available to the next\n",
              "    // step of the generator.\n",
              "    outputElement.lastPromiseValue = value;\n",
              "    return next.value.response;\n",
              "  });\n",
              "}\n",
              "\n",
              "/**\n",
              " * Generator function which is called between each async step of the upload\n",
              " * process.\n",
              " * @param {string} inputId Element ID of the input file picker element.\n",
              " * @param {string} outputId Element ID of the output display.\n",
              " * @return {!Iterable<!Object>} Iterable of next steps.\n",
              " */\n",
              "function* uploadFilesStep(inputId, outputId) {\n",
              "  const inputElement = document.getElementById(inputId);\n",
              "  inputElement.disabled = false;\n",
              "\n",
              "  const outputElement = document.getElementById(outputId);\n",
              "  outputElement.innerHTML = '';\n",
              "\n",
              "  const pickedPromise = new Promise((resolve) => {\n",
              "    inputElement.addEventListener('change', (e) => {\n",
              "      resolve(e.target.files);\n",
              "    });\n",
              "  });\n",
              "\n",
              "  const cancel = document.createElement('button');\n",
              "  inputElement.parentElement.appendChild(cancel);\n",
              "  cancel.textContent = 'Cancel upload';\n",
              "  const cancelPromise = new Promise((resolve) => {\n",
              "    cancel.onclick = () => {\n",
              "      resolve(null);\n",
              "    };\n",
              "  });\n",
              "\n",
              "  // Wait for the user to pick the files.\n",
              "  const files = yield {\n",
              "    promise: Promise.race([pickedPromise, cancelPromise]),\n",
              "    response: {\n",
              "      action: 'starting',\n",
              "    }\n",
              "  };\n",
              "\n",
              "  cancel.remove();\n",
              "\n",
              "  // Disable the input element since further picks are not allowed.\n",
              "  inputElement.disabled = true;\n",
              "\n",
              "  if (!files) {\n",
              "    return {\n",
              "      response: {\n",
              "        action: 'complete',\n",
              "      }\n",
              "    };\n",
              "  }\n",
              "\n",
              "  for (const file of files) {\n",
              "    const li = document.createElement('li');\n",
              "    li.append(span(file.name, {fontWeight: 'bold'}));\n",
              "    li.append(span(\n",
              "        `(${file.type || 'n/a'}) - ${file.size} bytes, ` +\n",
              "        `last modified: ${\n",
              "            file.lastModifiedDate ? file.lastModifiedDate.toLocaleDateString() :\n",
              "                                    'n/a'} - `));\n",
              "    const percent = span('0% done');\n",
              "    li.appendChild(percent);\n",
              "\n",
              "    outputElement.appendChild(li);\n",
              "\n",
              "    const fileDataPromise = new Promise((resolve) => {\n",
              "      const reader = new FileReader();\n",
              "      reader.onload = (e) => {\n",
              "        resolve(e.target.result);\n",
              "      };\n",
              "      reader.readAsArrayBuffer(file);\n",
              "    });\n",
              "    // Wait for the data to be ready.\n",
              "    let fileData = yield {\n",
              "      promise: fileDataPromise,\n",
              "      response: {\n",
              "        action: 'continue',\n",
              "      }\n",
              "    };\n",
              "\n",
              "    // Use a chunked sending to avoid message size limits. See b/62115660.\n",
              "    let position = 0;\n",
              "    do {\n",
              "      const length = Math.min(fileData.byteLength - position, MAX_PAYLOAD_SIZE);\n",
              "      const chunk = new Uint8Array(fileData, position, length);\n",
              "      position += length;\n",
              "\n",
              "      const base64 = btoa(String.fromCharCode.apply(null, chunk));\n",
              "      yield {\n",
              "        response: {\n",
              "          action: 'append',\n",
              "          file: file.name,\n",
              "          data: base64,\n",
              "        },\n",
              "      };\n",
              "\n",
              "      let percentDone = fileData.byteLength === 0 ?\n",
              "          100 :\n",
              "          Math.round((position / fileData.byteLength) * 100);\n",
              "      percent.textContent = `${percentDone}% done`;\n",
              "\n",
              "    } while (position < fileData.byteLength);\n",
              "  }\n",
              "\n",
              "  // All done.\n",
              "  yield {\n",
              "    response: {\n",
              "      action: 'complete',\n",
              "    }\n",
              "  };\n",
              "}\n",
              "\n",
              "scope.google = scope.google || {};\n",
              "scope.google.colab = scope.google.colab || {};\n",
              "scope.google.colab._files = {\n",
              "  _uploadFiles,\n",
              "  _uploadFilesContinue,\n",
              "};\n",
              "})(self);\n",
              "</script> "
            ]
          },
          "metadata": {}
        },
        {
          "output_type": "stream",
          "name": "stdout",
          "text": [
            "Saving Без названия (4).jpeg to Без названия (4).jpeg\n"
          ]
        },
        {
          "output_type": "display_data",
          "data": {
            "text/plain": [
              "<PIL.Image.Image image mode=L size=28x28>"
            ],
            "image/png": "[encoded data removed]"
          },
          "metadata": {}
        }
      ]
    },
    {
      "cell_type": "code",
      "source": [
        "# делаем предсказание на изображении\n",
        "predict = model.predict(image)\n",
        "print(predict)"
      ],
      "metadata": {
        "id": "xE52bMf6Z7uG",
        "outputId": "11a1c98f-e047-415d-cc7e-32bc85f63aab",
        "colab": {
          "base_uri": "https://localhost:8080/"
        }
      },
      "execution_count": null,
      "outputs": [
        {
          "output_type": "stream",
          "name": "stdout",
          "text": [
            "1/1 [==============================] - 0s 28ms/step\n",
            "[[0. 0. 0. 0. 0. 0. 0. 0. 1. 0.]]\n"
          ]
        }
      ]
    },
    {
      "cell_type": "code",
      "source": [
        "i = predict.argmax(axis=1)[0]\n",
        "print(f\" {labels[i]}\")\n"
      ],
      "metadata": {
        "id": "C47pYxnFaBwu",
        "outputId": "cd2f20f4-305f-47b7-9139-65a6619ec29c",
        "colab": {
          "base_uri": "https://localhost:8080/"
        }
      },
      "execution_count": null,
      "outputs": [
        {
          "output_type": "stream",
          "name": "stdout",
          "text": [
            " Bag\n"
          ]
        }
      ]
    },
    {
      "cell_type": "markdown",
      "source": [
        "# Задание №2. Использование глубокой сверточной нейронной сети для классификации изображений по своему датасету"
      ],
      "metadata": {
        "id": "2hJWx7inecOh"
      }
    },
    {
      "cell_type": "markdown",
      "source": [
        "\n",
        "## 2.1.  Используя датасет, собранный для предыдущей работы, разработайте и обучите **свою** модель глубокой  **сверточной** нейронной сети для классификации изображений\n",
        "\n",
        "\n",
        "\n",
        "\n",
        "\n"
      ],
      "metadata": {
        "id": "TBAfQRXTewQp"
      }
    },
    {
      "cell_type": "code",
      "source": [
        "import os\n",
        "import numpy as np\n",
        "import matplotlib.pyplot as plt\n",
        "import cv2\n",
        "from google.colab.patches import cv2_imshow\n",
        "from tensorflow import keras\n",
        "from google.colab import files\n",
        "from io import BytesIO\n",
        "from PIL import Image\n",
        "from urllib.request import urlopen\n",
        "import pickle\n",
        "from sklearn.model_selection import train_test_split\n",
        "from keras.models import Sequential\n",
        "from keras.layers import Dense, Flatten\n",
        "from tensorflow.keras.optimizers import Adam\n",
        "from imutils import paths\n",
        "import os\n",
        "import tensorflow as tf\n",
        "import random"
      ],
      "metadata": {
        "id": "2r9DEUG2_hSb"
      },
      "execution_count": null,
      "outputs": []
    },
    {
      "cell_type": "code",
      "source": [
        "\n",
        "from sklearn.model_selection import train_test_split\n",
        "from sklearn.preprocessing import LabelBinarizer\n",
        "import keras\n",
        "from keras.layers import Conv2D, AveragePooling2D, Flatten, Dense\n",
        "import pathlib\n",
        "from tensorflow.keras.preprocessing import image_dataset_from_directory"
      ],
      "metadata": {
        "id": "Fyyt8xeahTgg"
      },
      "execution_count": null,
      "outputs": []
    },
    {
      "cell_type": "code",
      "source": [
        "from google.colab import drive\n",
        "drive.mount('/content/drive')"
      ],
      "metadata": {
        "colab": {
          "base_uri": "https://localhost:8080/"
        },
        "id": "eam3qzIrbAnq",
        "outputId": "830d859f-18bc-44fb-8ecb-39bf8432b1d0"
      },
      "execution_count": null,
      "outputs": [
        {
          "output_type": "stream",
          "name": "stdout",
          "text": [
            "Drive already mounted at /content/drive; to attempt to forcibly remount, call drive.mount(\"/content/drive\", force_remount=True).\n"
          ]
        }
      ]
    },
    {
      "cell_type": "code",
      "source": [
        "img_height, img_width = 32, 32  # Размер изображения для LeNet\n",
        "batch_size = 32"
      ],
      "metadata": {
        "id": "neifIj6Sr3qc"
      },
      "execution_count": null,
      "outputs": []
    },
    {
      "cell_type": "code",
      "source": [
        "# Ваш код\n",
        "# Собираем список путей к каждому изображению и перемешиваем их\n",
        "imagePaths = sorted(list(paths.list_images(\"/content/drive/MyDrive/content/anim2/\")))\n",
        "print(imagePaths[10].split(os.path.sep)[-2])\n",
        "random.shuffle(imagePaths)"
      ],
      "metadata": {
        "colab": {
          "base_uri": "https://localhost:8080/"
        },
        "id": "14zye1r4bR3n",
        "outputId": "4d9f9e64-e341-4883-ad3e-b30a8bbc9058"
      },
      "execution_count": null,
      "outputs": [
        {
          "output_type": "stream",
          "name": "stdout",
          "text": [
            "cats\n"
          ]
        }
      ]
    },
    {
      "cell_type": "code",
      "source": [
        "# Путь к данным\n",
        "data_dir = \"/content/drive/MyDrive/content/anim2/\""
      ],
      "metadata": {
        "id": "hlLRa6ZKr7mo"
      },
      "execution_count": null,
      "outputs": []
    },
    {
      "cell_type": "code",
      "source": [
        "# Функция для загрузки изображений и меток\n",
        "def load_images(imagePaths, compression_size=32):\n",
        "    data = []\n",
        "    labels = []\n",
        "\n",
        "    for imagePath in imagePaths:\n",
        "        # Загрузка изображения\n",
        "        image = cv2.imread(imagePath)\n",
        "\n",
        "        # Изменение разрешения изображения\n",
        "        image = cv2.resize(image, (compression_size, compression_size))\n",
        "\n",
        "        # Добавление изображения в список\n",
        "        data.append(image)\n",
        "\n",
        "        # Извлечение метки класса из пути к изображению\n",
        "        label = imagePath.split(os.path.sep)[-2]\n",
        "\n",
        "        # Добавление метки в список\n",
        "        labels.append(label)\n",
        "\n",
        "    return data, labels"
      ],
      "metadata": {
        "id": "D2R-_CMJbldl"
      },
      "execution_count": null,
      "outputs": []
    },
    {
      "cell_type": "code",
      "source": [
        "# Загрузка и подготовка данных\n",
        "compression_size = 32\n",
        "data, labels = load_images(imagePaths, compression_size)"
      ],
      "metadata": {
        "id": "YrsXJ2zbtEm4"
      },
      "execution_count": null,
      "outputs": []
    },
    {
      "cell_type": "code",
      "source": [
        "# Преобразование в массив numpy и нормализация данных\n",
        "data = np.array(data, dtype=\"float32\") / 255.0\n",
        "labels = np.array(labels)"
      ],
      "metadata": {
        "id": "1oNRlpjotEp2"
      },
      "execution_count": null,
      "outputs": []
    },
    {
      "cell_type": "code",
      "source": [
        "# Импортируем LabelBinarizer для преобразования текстовых меток в векторы\n",
        "# (например, \"кошка\" -> [1, 0, 0], \"собака\" -> [0, 1, 0], \"панда\" -> [0, 0, 1])\n",
        "from sklearn.preprocessing import LabelBinarizer"
      ],
      "metadata": {
        "id": "5QvLWS_efh6z"
      },
      "execution_count": null,
      "outputs": []
    },
    {
      "cell_type": "code",
      "source": [
        "# Преобразование меток в бинарные векторы\n",
        "lb = LabelBinarizer()\n",
        "labels = lb.fit_transform(labels)"
      ],
      "metadata": {
        "id": "IfQTtCjAtEsf"
      },
      "execution_count": null,
      "outputs": []
    },
    {
      "cell_type": "code",
      "source": [
        "# Разделение данных на тренировочные и тестовые наборы\n",
        "X_train, X_val, Y_train, Y_val = train_test_split(data, labels, test_size=0.25, random_state=42)\n"
      ],
      "metadata": {
        "id": "xCfOjxKDtEu8"
      },
      "execution_count": null,
      "outputs": []
    },
    {
      "cell_type": "code",
      "source": [
        "# Добавление размерности для каналов (как в mnist)\n",
        "X_train = np.expand_dims(X_train, axis=-1)\n",
        "X_val = np.expand_dims(X_val, axis=-1)\n",
        "\n",
        "# Проверка формы данных\n",
        "print(X_train.shape)\n",
        "print(X_val.shape)"
      ],
      "metadata": {
        "colab": {
          "base_uri": "https://localhost:8080/"
        },
        "id": "_P1XWcM2tExG",
        "outputId": "33674eff-d30f-40cb-a57f-e14bb4ba0c0b"
      },
      "execution_count": null,
      "outputs": [
        {
          "output_type": "stream",
          "name": "stdout",
          "text": [
            "(45, 32, 32, 3, 1)\n",
            "(15, 32, 32, 3, 1)\n"
          ]
        }
      ]
    },
    {
      "cell_type": "code",
      "source": [
        "# Реализация архитектуры сверточной нейронной сети LeNet-5\n",
        "model = Sequential([\n",
        "    Conv2D(6, (5, 5), strides=(1, 1), activation='tanh', input_shape=(compression_size, compression_size, 3)),\n",
        "    AveragePooling2D(pool_size=(2, 2), strides=(2, 2)),\n",
        "    Conv2D(16, (5, 5), strides=(1, 1), activation='tanh'),\n",
        "    AveragePooling2D(pool_size=(2, 2), strides=(2, 2)),\n",
        "    Flatten(),\n",
        "    Dense(units=120, activation='tanh'),\n",
        "    Dense(units=84, activation='tanh'),\n",
        "    Dense(units=len(lb.classes_), activation='softmax')\n",
        "])\n",
        "\n",
        "model.summary()"
      ],
      "metadata": {
        "colab": {
          "base_uri": "https://localhost:8080/"
        },
        "id": "imYqEetltLR0",
        "outputId": "dbd48d22-50cf-4f1b-f2a8-a50d200588ef"
      },
      "execution_count": null,
      "outputs": [
        {
          "output_type": "stream",
          "name": "stdout",
          "text": [
            "Model: \"sequential_9\"\n",
            "_________________________________________________________________\n",
            " Layer (type)                Output Shape              Param #   \n",
            "=================================================================\n",
            " conv2d_14 (Conv2D)          (None, 28, 28, 6)         456       \n",
            "                                                                 \n",
            " average_pooling2d_14 (Aver  (None, 14, 14, 6)         0         \n",
            " agePooling2D)                                                   \n",
            "                                                                 \n",
            " conv2d_15 (Conv2D)          (None, 10, 10, 16)        2416      \n",
            "                                                                 \n",
            " average_pooling2d_15 (Aver  (None, 5, 5, 16)          0         \n",
            " agePooling2D)                                                   \n",
            "                                                                 \n",
            " flatten_8 (Flatten)         (None, 400)               0         \n",
            "                                                                 \n",
            " dense_25 (Dense)            (None, 120)               48120     \n",
            "                                                                 \n",
            " dense_26 (Dense)            (None, 84)                10164     \n",
            "                                                                 \n",
            " dense_27 (Dense)            (None, 3)                 255       \n",
            "                                                                 \n",
            "=================================================================\n",
            "Total params: 61411 (239.89 KB)\n",
            "Trainable params: 61411 (239.89 KB)\n",
            "Non-trainable params: 0 (0.00 Byte)\n",
            "_________________________________________________________________\n"
          ]
        }
      ]
    },
    {
      "cell_type": "markdown",
      "source": [
        "## 2.2.   Ознакомьтесь с современными архитектурами сверточных нейронных сетей: [см. ссылку](https://medium.com/aiguys/how-cnn-architectures-evolved-c53d3819fef8). На основе рассмотренных архитектур, реализуйте (частично повторяя основные паттерны проектирования) и обучите модель сверточной нейронной сети. Укажите архитектуру, которой Вы \"вдохновились\""
      ],
      "metadata": {
        "id": "tzFK3GXZ_hjw"
      }
    },
    {
      "cell_type": "code",
      "source": [
        "# Компиляция модели\n",
        "INIT_LR = 0.0000005\n",
        "EPOCHS = 10\n",
        "model.compile(optimizer=Adam(learning_rate=INIT_LR), loss='categorical_crossentropy', metrics=['accuracy'])\n"
      ],
      "metadata": {
        "id": "ZrPowaYMtLUP"
      },
      "execution_count": null,
      "outputs": []
    },
    {
      "cell_type": "code",
      "source": [
        "# Обучение модели с использованием ранней остановки и сохранения лучшей модели\n",
        "#LeNet-5\n",
        "from keras.callbacks import EarlyStopping, ModelCheckpoint\n",
        "\n",
        "early_stopping = EarlyStopping(patience=5)\n",
        "checkpoint = ModelCheckpoint(filepath=\"best_model2.h5\", monitor=\"val_accuracy\", save_best_only=True, verbose=0)\n"
      ],
      "metadata": {
        "id": "VuQw8j_mtLW2"
      },
      "execution_count": null,
      "outputs": []
    },
    {
      "cell_type": "code",
      "source": [
        "H = model.fit(X_train, Y_train,\n",
        "              validation_data=(X_val, Y_val),\n",
        "              epochs=EPOCHS,\n",
        "              batch_size=10,\n",
        "              callbacks=[early_stopping, checkpoint])"
      ],
      "metadata": {
        "colab": {
          "base_uri": "https://localhost:8080/"
        },
        "id": "bFXnNrr5tLZi",
        "outputId": "c7fc7244-e624-4306-a882-e865467066e7"
      },
      "execution_count": null,
      "outputs": [
        {
          "output_type": "stream",
          "name": "stdout",
          "text": [
            "Epoch 1/10\n",
            "5/5 [==============================] - 4s 203ms/step - loss: 1.0799 - accuracy: 0.3778 - val_loss: 1.0877 - val_accuracy: 0.4000\n",
            "Epoch 2/10\n",
            "1/5 [=====>........................] - ETA: 0s - loss: 1.0941 - accuracy: 0.3000"
          ]
        },
        {
          "output_type": "stream",
          "name": "stderr",
          "text": [
            "/usr/local/lib/python3.10/dist-packages/keras/src/engine/training.py:3103: UserWarning: You are saving your model as an HDF5 file via `model.save()`. This file format is considered legacy. We recommend using instead the native Keras format, e.g. `model.save('my_model.keras')`.\n",
            "  saving_api.save_model(\n"
          ]
        },
        {
          "output_type": "stream",
          "name": "stdout",
          "text": [
            "5/5 [==============================] - 0s 64ms/step - loss: 1.0798 - accuracy: 0.3778 - val_loss: 1.0877 - val_accuracy: 0.4000\n",
            "Epoch 3/10\n",
            "5/5 [==============================] - 0s 104ms/step - loss: 1.0797 - accuracy: 0.3778 - val_loss: 1.0877 - val_accuracy: 0.4000\n",
            "Epoch 4/10\n",
            "5/5 [==============================] - 0s 101ms/step - loss: 1.0796 - accuracy: 0.3778 - val_loss: 1.0877 - val_accuracy: 0.4000\n",
            "Epoch 5/10\n",
            "5/5 [==============================] - 0s 107ms/step - loss: 1.0795 - accuracy: 0.3778 - val_loss: 1.0876 - val_accuracy: 0.4000\n",
            "Epoch 6/10\n",
            "5/5 [==============================] - 0s 110ms/step - loss: 1.0794 - accuracy: 0.3778 - val_loss: 1.0876 - val_accuracy: 0.4000\n",
            "Epoch 7/10\n",
            "5/5 [==============================] - 0s 100ms/step - loss: 1.0794 - accuracy: 0.3778 - val_loss: 1.0876 - val_accuracy: 0.4000\n",
            "Epoch 8/10\n",
            "5/5 [==============================] - 0s 103ms/step - loss: 1.0793 - accuracy: 0.3778 - val_loss: 1.0876 - val_accuracy: 0.4000\n",
            "Epoch 9/10\n",
            "5/5 [==============================] - 0s 76ms/step - loss: 1.0792 - accuracy: 0.3778 - val_loss: 1.0876 - val_accuracy: 0.4000\n",
            "Epoch 10/10\n",
            "5/5 [==============================] - 0s 43ms/step - loss: 1.0792 - accuracy: 0.3778 - val_loss: 1.0875 - val_accuracy: 0.4000\n"
          ]
        }
      ]
    },
    {
      "cell_type": "code",
      "source": [],
      "metadata": {
        "id": "glk3cH3LhtbB"
      },
      "execution_count": null,
      "outputs": []
    },
    {
      "cell_type": "markdown",
      "source": [
        "## 2.3. Сохраните полученные модели"
      ],
      "metadata": {
        "id": "C102cowZ_kFP"
      }
    },
    {
      "cell_type": "code",
      "source": [
        "# Загружаем лучшую модель:\n",
        "from keras.models import load_model\n",
        "\n",
        "model = load_model(\"/content/best_model2.h5\")"
      ],
      "metadata": {
        "id": "q0kTWweuuOTT"
      },
      "execution_count": null,
      "outputs": []
    },
    {
      "cell_type": "code",
      "source": [],
      "metadata": {
        "id": "xiAyxCnv_l5r"
      },
      "execution_count": null,
      "outputs": []
    },
    {
      "cell_type": "markdown",
      "source": [
        "## 2.4. Загрузите обученную модель из прошлой практической работы\n"
      ],
      "metadata": {
        "id": "T5xCMEpR_mCE"
      }
    },
    {
      "cell_type": "code",
      "source": [
        "# Ваш код"
      ],
      "metadata": {
        "id": "s0nepRUE_n_G"
      },
      "execution_count": null,
      "outputs": []
    },
    {
      "cell_type": "markdown",
      "source": [
        "\n",
        "## 2.5. Сравните между собой точной всех трёх моделей, подавая на вход одинаковые изображения (15 разных изображений). Сравните предсказания каждой из моделей и сделайте выводы"
      ],
      "metadata": {
        "id": "d55xgm9z_oGZ"
      }
    },
    {
      "cell_type": "code",
      "source": [
        "# Ваш код"
      ],
      "metadata": {
        "id": "uPaP6z5A_89n"
      },
      "execution_count": null,
      "outputs": []
    },
    {
      "cell_type": "markdown",
      "source": [
        "# Задание №3*. Использование глубокой сверточной нейронной сети для восстановления изображения"
      ],
      "metadata": {
        "id": "FiYiEH3N1qH4"
      }
    },
    {
      "cell_type": "markdown",
      "source": [
        "## 3.1. Работа с данными"
      ],
      "metadata": {
        "id": "Rr7OISUBKMvp"
      }
    },
    {
      "cell_type": "markdown",
      "metadata": {
        "id": "PJVARGYG_xwQ"
      },
      "source": [
        "Будем работать с набором данным `fetch_olivetti_faces` из `sklearn`."
      ]
    },
    {
      "cell_type": "markdown",
      "source": [
        "### 3.1.1. Переведите векторы в настоящие изображения из двух размерностей"
      ],
      "metadata": {
        "id": "kl-BK6WjX-Fc"
      }
    },
    {
      "cell_type": "code",
      "source": [
        "pip install --upgrade scikit-learn"
      ],
      "metadata": {
        "colab": {
          "base_uri": "https://localhost:8080/"
        },
        "id": "ZNwnisDlwpHl",
        "outputId": "d0f97bb3-55e6-4ebd-abea-2aba758bffe1"
      },
      "execution_count": null,
      "outputs": [
        {
          "output_type": "stream",
          "name": "stdout",
          "text": [
            "Requirement already satisfied: scikit-learn in /usr/local/lib/python3.10/dist-packages (1.2.2)\n",
            "Collecting scikit-learn\n",
            "  Downloading scikit_learn-1.5.0-cp310-cp310-manylinux_2_17_x86_64.manylinux2014_x86_64.whl (13.3 MB)\n",
            "\u001b[2K     \u001b[90m━━━━━━━━━━━━━━━━━━━━━━━━━━━━━━━━━━━━━━━━\u001b[0m \u001b[32m13.3/13.3 MB\u001b[0m \u001b[31m48.1 MB/s\u001b[0m eta \u001b[36m0:00:00\u001b[0m\n",
            "\u001b[?25hRequirement already satisfied: numpy>=1.19.5 in /usr/local/lib/python3.10/dist-packages (from scikit-learn) (1.25.2)\n",
            "Requirement already satisfied: scipy>=1.6.0 in /usr/local/lib/python3.10/dist-packages (from scikit-learn) (1.11.4)\n",
            "Requirement already satisfied: joblib>=1.2.0 in /usr/local/lib/python3.10/dist-packages (from scikit-learn) (1.4.2)\n",
            "Requirement already satisfied: threadpoolctl>=3.1.0 in /usr/local/lib/python3.10/dist-packages (from scikit-learn) (3.5.0)\n",
            "Installing collected packages: scikit-learn\n",
            "  Attempting uninstall: scikit-learn\n",
            "    Found existing installation: scikit-learn 1.2.2\n",
            "    Uninstalling scikit-learn-1.2.2:\n",
            "      Successfully uninstalled scikit-learn-1.2.2\n",
            "Successfully installed scikit-learn-1.5.0\n"
          ]
        }
      ]
    },
    {
      "cell_type": "code",
      "source": [
        "from sklearn.datasets import fetch_olivetti_faces\n"
      ],
      "metadata": {
        "id": "R10388A4w_cI"
      },
      "execution_count": null,
      "outputs": []
    },
    {
      "cell_type": "code",
      "source": [
        "from sklearn.model_selection import train_test_split"
      ],
      "metadata": {
        "id": "KMeUKAZkxGJz"
      },
      "execution_count": null,
      "outputs": []
    },
    {
      "cell_type": "code",
      "source": [
        "data, _ = fetch_olivetti_faces(return_X_y=True)\n",
        "train, test = train_test_split(data, test_size=0.2, random_state=4)"
      ],
      "metadata": {
        "id": "uWD9ztJr_xwQ",
        "colab": {
          "base_uri": "https://localhost:8080/"
        },
        "outputId": "5af8c6a8-035f-4695-dffe-67f54f6d76ba"
      },
      "execution_count": null,
      "outputs": [
        {
          "output_type": "stream",
          "name": "stdout",
          "text": [
            "downloading Olivetti faces from https://ndownloader.figshare.com/files/5976027 to /root/scikit_learn_data\n"
          ]
        }
      ]
    },
    {
      "cell_type": "code",
      "source": [
        "train.shape"
      ],
      "metadata": {
        "colab": {
          "base_uri": "https://localhost:8080/"
        },
        "id": "BweSEFYmX8df",
        "outputId": "2df37744-193a-4e4b-8b0c-d0512cca4d3d"
      },
      "execution_count": null,
      "outputs": [
        {
          "output_type": "execute_result",
          "data": {
            "text/plain": [
              "(320, 4096)"
            ]
          },
          "metadata": {},
          "execution_count": 5
        }
      ]
    },
    {
      "cell_type": "code",
      "source": [
        "print(\"Train shape:\", train.shape)\n",
        "print(\"Test shape:\", test.shape)"
      ],
      "metadata": {
        "colab": {
          "base_uri": "https://localhost:8080/"
        },
        "id": "ZFSI2EHsyD1y",
        "outputId": "e35370a2-c1d4-4975-faab-4e6a20315ea4"
      },
      "execution_count": null,
      "outputs": [
        {
          "output_type": "stream",
          "name": "stdout",
          "text": [
            "Train shape: (320, 4096)\n",
            "Test shape: (80, 4096)\n"
          ]
        }
      ]
    },
    {
      "cell_type": "markdown",
      "source": [
        "Сейчас изображение - это вектор, имеющий размерность 4096."
      ],
      "metadata": {
        "id": "cFHMUzpMXzNH"
      }
    },
    {
      "cell_type": "code",
      "source": [
        "# Ваш код здесь\n",
        "\n",
        "train = train.reshape((train.shape[0], 64, 64))\n",
        "test = test.reshape((test.shape[0], 64, 64))\n",
        "\n",
        "test.shape"
      ],
      "metadata": {
        "colab": {
          "base_uri": "https://localhost:8080/"
        },
        "id": "_ku9ipjhX6CB",
        "outputId": "6959458e-bbf3-43e1-cac2-15846f8bbea0"
      },
      "execution_count": null,
      "outputs": [
        {
          "output_type": "execute_result",
          "data": {
            "text/plain": [
              "(80, 64, 64)"
            ]
          },
          "metadata": {},
          "execution_count": 7
        }
      ]
    },
    {
      "cell_type": "markdown",
      "source": [
        "### 3.1.2. Отрисуйте несколько примеров"
      ],
      "metadata": {
        "id": "8Vrbf_SYYEaM"
      }
    },
    {
      "cell_type": "code",
      "source": [
        "import matplotlib.pyplot as plt\n",
        "\n",
        "\n",
        "fig, ax = plt.subplots(1, 5, figsize=(15, 10))\n",
        "\n",
        "for i in range(5):\n",
        "    ax[i].imshow(train[i], cmap='gray')\n",
        "    ax[i].axis('off')"
      ],
      "metadata": {
        "colab": {
          "base_uri": "https://localhost:8080/",
          "height": 153
        },
        "id": "OiUzTMu2Ymqo",
        "outputId": "826f97d4-a0a6-49fc-fbcb-56504cb51283"
      },
      "execution_count": null,
      "outputs": [
        {
          "output_type": "display_data",
          "data": {
            "text/plain": [
              "<Figure size 1500x1000 with 5 Axes>"
            ],
            "image/png": "[encoded data removed]"
          },
          "metadata": {}
        }
      ]
    },
    {
      "cell_type": "markdown",
      "source": [
        "Поделим данные на X и y, где X - это верхняя часть лица человека, на этом модель будет обучаться, а y - это нижняя часть лица человека - её будем предсказывать."
      ],
      "metadata": {
        "id": "MDbWz6kIDIdq"
      }
    },
    {
      "cell_type": "code",
      "source": [
        "n_pixels = train.shape[1]\n",
        "\n",
        "# Upper half of the faces\n",
        "X_train = train[:, :(n_pixels + 1) // 2, :]\n",
        "# Lower half of the faces\n",
        "y_train = train[:, n_pixels // 2:, :]\n",
        "\n",
        "\n",
        "X_test = test[:, :(n_pixels + 1) // 2, :]\n",
        "y_test = test[:, n_pixels // 2:, :]"
      ],
      "metadata": {
        "id": "0Y31rNs8AkHw"
      },
      "execution_count": null,
      "outputs": []
    },
    {
      "cell_type": "code",
      "source": [
        "X_train.shape"
      ],
      "metadata": {
        "colab": {
          "base_uri": "https://localhost:8080/"
        },
        "id": "Gn8OgMu5Znnh",
        "outputId": "9706575e-047a-481c-cbaf-6bef7a3ff0c1"
      },
      "execution_count": null,
      "outputs": [
        {
          "output_type": "execute_result",
          "data": {
            "text/plain": [
              "(320, 32, 64)"
            ]
          },
          "metadata": {},
          "execution_count": 10
        }
      ]
    },
    {
      "cell_type": "markdown",
      "source": [
        "Вот один пример обучающей пары."
      ],
      "metadata": {
        "id": "7q4nmYnMDTzY"
      }
    },
    {
      "cell_type": "code",
      "source": [
        "import matplotlib.pyplot as plt\n",
        "\n",
        "idx = 0\n",
        "\n",
        "fig, ax = plt.subplots(1, 2, figsize=(15, 8))\n",
        "ax[0].imshow(X_train[idx], cmap='gray')\n",
        "ax[0].set_title('X')\n",
        "ax[1].imshow(y_train[idx], cmap='gray')\n",
        "ax[1].set_title('y')\n",
        "ax[0].axis('off')\n",
        "ax[1].axis('off')\n",
        "\n",
        "plt.show()"
      ],
      "metadata": {
        "colab": {
          "base_uri": "https://localhost:8080/",
          "height": 206
        },
        "outputId": "1485b687-d925-497f-ca8e-4dad4a6dc7bf",
        "id": "GYpecml0_xwS"
      },
      "execution_count": null,
      "outputs": [
        {
          "output_type": "display_data",
          "data": {
            "text/plain": [
              "<Figure size 1500x800 with 2 Axes>"
            ],
            "image/png": "[encoded data removed]"
          },
          "metadata": {}
        }
      ]
    },
    {
      "cell_type": "markdown",
      "source": [
        "### 3.1.3. Измените размерность y\n",
        "Остается только изменить размерность y, т.к. сейчас $y$ - картинка 32x64, а выход нейронной сети у нас будет одномерный и равный 32 * 64 = 2048."
      ],
      "metadata": {
        "id": "-MQUIAGaeIaI"
      }
    },
    {
      "cell_type": "code",
      "source": [
        "y_train_n = y_train.reshape(y_train.shape[0], 32 * 64)\n",
        "y_test_n = y_test.reshape(y_test.shape[0], 32 * 64)\n",
        "\n",
        "y_train_n.shape"
      ],
      "metadata": {
        "id": "NTsrtRfkdhAE",
        "colab": {
          "base_uri": "https://localhost:8080/"
        },
        "outputId": "2d145e70-3a5d-41e8-d523-9eccea0c3b71"
      },
      "execution_count": null,
      "outputs": [
        {
          "output_type": "execute_result",
          "data": {
            "text/plain": [
              "(320, 2048)"
            ]
          },
          "metadata": {},
          "execution_count": 12
        }
      ]
    },
    {
      "cell_type": "code",
      "source": [
        "import numpy as np"
      ],
      "metadata": {
        "id": "ugnDRDxrxpM9"
      },
      "execution_count": null,
      "outputs": []
    },
    {
      "cell_type": "code",
      "source": [
        "X_train = np.array(X_train).astype('float32')\n",
        "X_test = np.array(X_test).astype('float32')\n",
        "y_train = np.array(y_train).astype('float32')\n",
        "y_test = np.array(y_test).astype('float32')\n",
        "\n",
        "X_train = np.expand_dims(X_train, axis=-1)\n",
        "X_test = np.expand_dims(X_test, axis=-1)\n",
        "y_train = np.expand_dims(y_train, axis=-1)\n",
        "y_test = np.expand_dims(y_test, axis=-1)"
      ],
      "metadata": {
        "id": "86v8t0-xxlXz"
      },
      "execution_count": null,
      "outputs": []
    },
    {
      "cell_type": "code",
      "source": [
        "X_train.shape"
      ],
      "metadata": {
        "colab": {
          "base_uri": "https://localhost:8080/"
        },
        "id": "Zd5LZ9nMyygH",
        "outputId": "595cf5b0-0f81-4a9a-eff7-c8057a8bb621"
      },
      "execution_count": null,
      "outputs": [
        {
          "output_type": "execute_result",
          "data": {
            "text/plain": [
              "(320, 32, 64, 1)"
            ]
          },
          "metadata": {},
          "execution_count": 17
        }
      ]
    },
    {
      "cell_type": "code",
      "source": [
        "import pandas as pd\n",
        "import matplotlib.pyplot as plt\n",
        "import os"
      ],
      "metadata": {
        "id": "e2FdoLwnyEtL"
      },
      "execution_count": null,
      "outputs": []
    },
    {
      "cell_type": "markdown",
      "source": [
        "## 3.2. Создайте архитектуру для этой задачи"
      ],
      "metadata": {
        "id": "TaoQfXrzGkV5"
      }
    },
    {
      "cell_type": "code",
      "source": [
        "from tensorflow.keras.models import Sequential\n",
        "from tensorflow.keras.layers import Conv2D, MaxPooling2D, Flatten, Dense, Dropout, AveragePooling2D\n",
        "from tensorflow.keras.optimizers import Adamax"
      ],
      "metadata": {
        "id": "O0cB3seMGkV_"
      },
      "execution_count": null,
      "outputs": []
    },
    {
      "cell_type": "code",
      "source": [
        "# Создаем модель\n",
        "\n",
        "model = Sequential([\n",
        "    Conv2D(512, (3,3), padding='same', activation='relu', input_shape=(32, 64, 1)),\n",
        "    MaxPooling2D(pool_size=(2,2), strides=(2,2)),\n",
        "    Conv2D(256, (5,5), padding='same', activation='relu'),\n",
        "    MaxPooling2D(pool_size=(2,2), strides=(2,2)),\n",
        "    Conv2D(128, (5,5), padding='same', activation='relu'),\n",
        "\n",
        "    Flatten(),\n",
        "\n",
        "#    Dense(4096, activation='relu'),\n",
        "    Dense(2048, activation='sigmoid')\n",
        "])\n",
        "model.summary()"
      ],
      "metadata": {
        "colab": {
          "base_uri": "https://localhost:8080/"
        },
        "id": "wrQkBHdM0g0c",
        "outputId": "dec499f8-8179-4831-dff5-bb6f09c49c9c"
      },
      "execution_count": null,
      "outputs": [
        {
          "output_type": "stream",
          "name": "stdout",
          "text": [
            "Model: \"sequential\"\n",
            "_________________________________________________________________\n",
            " Layer (type)                Output Shape              Param #   \n",
            "=================================================================\n",
            " conv2d (Conv2D)             (None, 32, 64, 512)       5120      \n",
            "                                                                 \n",
            " max_pooling2d (MaxPooling2  (None, 16, 32, 512)       0         \n",
            " D)                                                              \n",
            "                                                                 \n",
            " conv2d_1 (Conv2D)           (None, 16, 32, 256)       3277056   \n",
            "                                                                 \n",
            " max_pooling2d_1 (MaxPoolin  (None, 8, 16, 256)        0         \n",
            " g2D)                                                            \n",
            "                                                                 \n",
            " conv2d_2 (Conv2D)           (None, 8, 16, 128)        819328    \n",
            "                                                                 \n",
            " flatten (Flatten)           (None, 16384)             0         \n",
            "                                                                 \n",
            " dense (Dense)               (None, 2048)              33556480  \n",
            "                                                                 \n",
            "=================================================================\n",
            "Total params: 37657984 (143.65 MB)\n",
            "Trainable params: 37657984 (143.65 MB)\n",
            "Non-trainable params: 0 (0.00 Byte)\n",
            "_________________________________________________________________\n"
          ]
        }
      ]
    },
    {
      "cell_type": "markdown",
      "source": [
        "## 3.3. Скомпилируйте сеть\n",
        "\n",
        "Подберите нужную функцию потерь и метрику. Оптимизатор можете использовать 'adam'"
      ],
      "metadata": {
        "id": "jvwQpCIsGkWA"
      }
    },
    {
      "cell_type": "code",
      "source": [
        "# Компиляция модели\n",
        "model.compile(optimizer='adam', loss='mse', metrics=['mae'])"
      ],
      "metadata": {
        "id": "NwoUip0-GkWA"
      },
      "execution_count": null,
      "outputs": []
    },
    {
      "cell_type": "markdown",
      "source": [
        "## 3.4. Обучите нейросеть\n",
        "\n",
        "Выберите нужное количество эпох.\n"
      ],
      "metadata": {
        "id": "QQDeimPrGkWA"
      }
    },
    {
      "cell_type": "code",
      "source": [
        "EPOCHS = 10\n",
        "batch_size = 10"
      ],
      "metadata": {
        "id": "tgerBE7L0x3f"
      },
      "execution_count": null,
      "outputs": []
    },
    {
      "cell_type": "code",
      "source": [
        "# Выбираем одинаковое количество образцов из X_train и y_train_n_3d\n",
        "num_samples = min(X_train.shape[0], y_train_n_3d.shape[0])\n",
        "X_train_subset = X_train[:num_samples]\n",
        "y_train_n_3d_subset = y_train_n_3d[:num_samples]"
      ],
      "metadata": {
        "id": "BYtOaFxm3G8p"
      },
      "execution_count": null,
      "outputs": []
    },
    {
      "cell_type": "code",
      "source": [
        "# Изменяем форму y_train_n обратно на 3D\n",
        "y_train_n_3d = y_train_n.reshape(y_train.shape[0], 32, 64)\n",
        "\n",
        "# Проверяем размеры после изменения формы\n",
        "print(\"X_train shape:\", X_train.shape)\n",
        "print(\"y_train_n_3d shape:\", y_train_n_3d.shape)\n"
      ],
      "metadata": {
        "colab": {
          "base_uri": "https://localhost:8080/"
        },
        "id": "5SXScf9Y1w2u",
        "outputId": "0a56b19b-8fb7-4944-9ce5-080450f1f734"
      },
      "execution_count": null,
      "outputs": [
        {
          "output_type": "stream",
          "name": "stdout",
          "text": [
            "X_train shape: (320, 32, 64)\n",
            "y_train_n_3d shape: (320, 32, 64)\n"
          ]
        }
      ]
    },
    {
      "cell_type": "code",
      "source": [
        "history = model.fit(X_train, y_train_n, validation_data=(X_test, y_test_n),\n",
        "\tepochs=EPOCHS, batch_size=batch_size, verbose=0)"
      ],
      "metadata": {
        "id": "y2WSKlcP5Ev3"
      },
      "execution_count": null,
      "outputs": []
    },
    {
      "cell_type": "markdown",
      "source": [
        "## 3.5. Сделайте предсказания на тестовых данных"
      ],
      "metadata": {
        "id": "_y_TeRgPHDoA"
      }
    },
    {
      "cell_type": "code",
      "source": [
        "# Ваш код здесь\n",
        "preds = model.predict(X_test)"
      ],
      "metadata": {
        "id": "UoypDLtvHDoA",
        "colab": {
          "base_uri": "https://localhost:8080/"
        },
        "outputId": "cfd55294-7293-4a08-a6aa-c9ab54ef2033"
      },
      "execution_count": null,
      "outputs": [
        {
          "output_type": "stream",
          "name": "stdout",
          "text": [
            "3/3 [==============================] - 5s 2s/step\n"
          ]
        }
      ]
    },
    {
      "cell_type": "markdown",
      "source": [
        "## 3.6. Посчитайте метрику качества на тестовых данных"
      ],
      "metadata": {
        "id": "RUgzV344HDoB"
      }
    },
    {
      "cell_type": "code",
      "source": [
        "# Ваш код здесь\n",
        "\n",
        "from sklearn.metrics import mean_absolute_error\n",
        "\n",
        "mean_absolute_error(preds, y_test_n)"
      ],
      "metadata": {
        "id": "ZcUmYJetHDoB",
        "colab": {
          "base_uri": "https://localhost:8080/"
        },
        "outputId": "c9e83bf5-7c84-4551-f63f-4efb08a57a57"
      },
      "execution_count": null,
      "outputs": [
        {
          "output_type": "execute_result",
          "data": {
            "text/plain": [
              "0.08453456"
            ]
          },
          "metadata": {},
          "execution_count": 29
        }
      ]
    },
    {
      "cell_type": "markdown",
      "source": [
        "## 3.7. Преобразуйте предсказанные векторы в двумерное изображение (поменяйте их размерность)"
      ],
      "metadata": {
        "id": "gHWdJ-WmNYZB"
      }
    },
    {
      "cell_type": "code",
      "source": [
        "!pip install ipyplot"
      ],
      "metadata": {
        "colab": {
          "base_uri": "https://localhost:8080/"
        },
        "id": "jT2Ds4yy5hSd",
        "outputId": "14a5488e-25cb-4867-af73-47fd21acf59f"
      },
      "execution_count": null,
      "outputs": [
        {
          "output_type": "stream",
          "name": "stdout",
          "text": [
            "Collecting ipyplot\n",
            "  Downloading ipyplot-1.1.2-py3-none-any.whl (13 kB)\n",
            "Requirement already satisfied: IPython in /usr/local/lib/python3.10/dist-packages (from ipyplot) (7.34.0)\n",
            "Requirement already satisfied: numpy in /usr/local/lib/python3.10/dist-packages (from ipyplot) (1.25.2)\n",
            "Requirement already satisfied: pillow in /usr/local/lib/python3.10/dist-packages (from ipyplot) (9.4.0)\n",
            "Collecting shortuuid (from ipyplot)\n",
            "  Downloading shortuuid-1.0.13-py3-none-any.whl (10 kB)\n",
            "Requirement already satisfied: setuptools>=18.5 in /usr/local/lib/python3.10/dist-packages (from IPython->ipyplot) (67.7.2)\n",
            "Collecting jedi>=0.16 (from IPython->ipyplot)\n",
            "  Downloading jedi-0.19.1-py2.py3-none-any.whl (1.6 MB)\n",
            "\u001b[2K     \u001b[90m━━━━━━━━━━━━━━━━━━━━━━━━━━━━━━━━━━━━━━━━\u001b[0m \u001b[32m1.6/1.6 MB\u001b[0m \u001b[31m16.2 MB/s\u001b[0m eta \u001b[36m0:00:00\u001b[0m\n",
            "\u001b[?25hRequirement already satisfied: decorator in /usr/local/lib/python3.10/dist-packages (from IPython->ipyplot) (4.4.2)\n",
            "Requirement already satisfied: pickleshare in /usr/local/lib/python3.10/dist-packages (from IPython->ipyplot) (0.7.5)\n",
            "Requirement already satisfied: traitlets>=4.2 in /usr/local/lib/python3.10/dist-packages (from IPython->ipyplot) (5.7.1)\n",
            "Requirement already satisfied: prompt-toolkit!=3.0.0,!=3.0.1,<3.1.0,>=2.0.0 in /usr/local/lib/python3.10/dist-packages (from IPython->ipyplot) (3.0.43)\n",
            "Requirement already satisfied: pygments in /usr/local/lib/python3.10/dist-packages (from IPython->ipyplot) (2.16.1)\n",
            "Requirement already satisfied: backcall in /usr/local/lib/python3.10/dist-packages (from IPython->ipyplot) (0.2.0)\n",
            "Requirement already satisfied: matplotlib-inline in /usr/local/lib/python3.10/dist-packages (from IPython->ipyplot) (0.1.7)\n",
            "Requirement already satisfied: pexpect>4.3 in /usr/local/lib/python3.10/dist-packages (from IPython->ipyplot) (4.9.0)\n",
            "Requirement already satisfied: parso<0.9.0,>=0.8.3 in /usr/local/lib/python3.10/dist-packages (from jedi>=0.16->IPython->ipyplot) (0.8.4)\n",
            "Requirement already satisfied: ptyprocess>=0.5 in /usr/local/lib/python3.10/dist-packages (from pexpect>4.3->IPython->ipyplot) (0.7.0)\n",
            "Requirement already satisfied: wcwidth in /usr/local/lib/python3.10/dist-packages (from prompt-toolkit!=3.0.0,!=3.0.1,<3.1.0,>=2.0.0->IPython->ipyplot) (0.2.13)\n",
            "Installing collected packages: shortuuid, jedi, ipyplot\n",
            "Successfully installed ipyplot-1.1.2 jedi-0.19.1 shortuuid-1.0.13\n"
          ]
        }
      ]
    },
    {
      "cell_type": "code",
      "source": [
        "import ipyplot"
      ],
      "metadata": {
        "colab": {
          "base_uri": "https://localhost:8080/"
        },
        "id": "u0c1-A3k5ctZ",
        "outputId": "808f9ff1-f975-45e4-a258-d92709d7a6e9"
      },
      "execution_count": null,
      "outputs": [
        {
          "output_type": "stream",
          "name": "stdout",
          "text": [
            "\n",
            "        WARNING! Google Colab Environment detected!\n",
            "        You might encounter issues while running in Google Colab environment.\n",
            "        If images are not displaying properly please try setting `force_b64` param to `True`.\n",
            "        \n"
          ]
        }
      ]
    },
    {
      "cell_type": "code",
      "source": [
        "# Ваш код здесь\n",
        "preds = np.array([pred.reshape((32, 64)) for pred in preds])\n",
        "\n",
        "img_count = 10\n",
        "\n",
        "ipyplot.plot_images(preds[:img_count], [str(x) for x in range(img_count)], max_images=img_count, img_width=200)\n",
        "plt.show()"
      ],
      "metadata": {
        "id": "3HvIZh6AIHHM",
        "colab": {
          "base_uri": "https://localhost:8080/",
          "height": 628
        },
        "outputId": "c86db5ba-a3f1-46c9-c4c5-1548b4d2fe6f"
      },
      "execution_count": null,
      "outputs": [
        {
          "output_type": "display_data",
          "data": {
            "text/plain": [
              "<IPython.core.display.HTML object>"
            ],
            "text/html": [
              "\n",
              "    <style>\n",
              "        #ipyplot-html-viewer-toggle-gP87YQQcYP8bh9pLaTe2EQ {\n",
              "            position: absolute;\n",
              "            top: -9999px;\n",
              "            left: -9999px;\n",
              "            visibility: hidden;\n",
              "        }\n",
              "\n",
              "        #ipyplot-html-viewer-label-gP87YQQcYP8bh9pLaTe2EQ { \n",
              "            position: relative;\n",
              "            display: inline-block;\n",
              "            cursor: pointer;\n",
              "            color: blue;\n",
              "            text-decoration: underline;\n",
              "        }\n",
              "\n",
              "        #ipyplot-html-viewer-textarea-gP87YQQcYP8bh9pLaTe2EQ {\n",
              "            background: lightgrey;\n",
              "            width: 100%;\n",
              "            height: 0px;\n",
              "            display: none;\n",
              "        }\n",
              "\n",
              "        #ipyplot-html-viewer-toggle-gP87YQQcYP8bh9pLaTe2EQ:checked ~ #ipyplot-html-viewer-textarea-gP87YQQcYP8bh9pLaTe2EQ {\n",
              "            height: 200px;\n",
              "            display: block;\n",
              "        }\n",
              "\n",
              "        #ipyplot-html-viewer-toggle-gP87YQQcYP8bh9pLaTe2EQ:checked + #ipyplot-html-viewer-label-gP87YQQcYP8bh9pLaTe2EQ:after {\n",
              "            content: \"hide html\";\n",
              "            position: absolute;\n",
              "            top: 0;\n",
              "            left: 0;\n",
              "            right: 0;\n",
              "            bottom: 0;\n",
              "            background: white;\n",
              "            cursor: pointer;\n",
              "            color: blue;\n",
              "            text-decoration: underline;\n",
              "        }\n",
              "    </style>\n",
              "    <div>\n",
              "        <input type=\"checkbox\" id=\"ipyplot-html-viewer-toggle-gP87YQQcYP8bh9pLaTe2EQ\">\n",
              "        <label id=\"ipyplot-html-viewer-label-gP87YQQcYP8bh9pLaTe2EQ\" for=\"ipyplot-html-viewer-toggle-gP87YQQcYP8bh9pLaTe2EQ\">show html</label>\n",
              "        <textarea id=\"ipyplot-html-viewer-textarea-gP87YQQcYP8bh9pLaTe2EQ\" readonly>\n",
              "            \n",
              "        <style>\n",
              "        #ipyplot-imgs-container-div-Swg3QyCFZDgfjaDn78CPtV {\n",
              "            width: 100%;\n",
              "            height: 100%;\n",
              "            margin: 0%;\n",
              "            overflow: auto;\n",
              "            position: relative;\n",
              "            overflow-y: scroll;\n",
              "        }\n",
              "\n",
              "        div.ipyplot-placeholder-div-Swg3QyCFZDgfjaDn78CPtV {\n",
              "            width: 200px;\n",
              "            display: inline-block;\n",
              "            margin: 3px;\n",
              "            position: relative;\n",
              "        }\n",
              "\n",
              "        div.ipyplot-content-div-Swg3QyCFZDgfjaDn78CPtV {\n",
              "            width: 200px;\n",
              "            background: white;\n",
              "            display: inline-block;\n",
              "            vertical-align: top;\n",
              "            text-align: center;\n",
              "            position: relative;\n",
              "            border: 2px solid #ddd;\n",
              "            top: 0;\n",
              "            left: 0;\n",
              "        }\n",
              "\n",
              "        div.ipyplot-content-div-Swg3QyCFZDgfjaDn78CPtV span.ipyplot-img-close {\n",
              "            display: none;\n",
              "        }\n",
              "\n",
              "        div.ipyplot-content-div-Swg3QyCFZDgfjaDn78CPtV span {\n",
              "            width: 100%;\n",
              "            height: 100%;\n",
              "            position: absolute;\n",
              "            top: 0;\n",
              "            left: 0;\n",
              "        }\n",
              "\n",
              "        div.ipyplot-content-div-Swg3QyCFZDgfjaDn78CPtV img {\n",
              "            width: 200px;\n",
              "        }\n",
              "\n",
              "        div.ipyplot-content-div-Swg3QyCFZDgfjaDn78CPtV span.ipyplot-img-close:hover {\n",
              "            cursor: zoom-out;\n",
              "        }\n",
              "        div.ipyplot-content-div-Swg3QyCFZDgfjaDn78CPtV span.ipyplot-img-expand:hover {\n",
              "            cursor: zoom-in;\n",
              "        }\n",
              "\n",
              "        div[id^=ipyplot-content-div-Swg3QyCFZDgfjaDn78CPtV]:target {\n",
              "            transform: scale(2.5);\n",
              "            transform-origin: left top;\n",
              "            z-index: 5000;\n",
              "            top: 0;\n",
              "            left: 0;\n",
              "            position: absolute;\n",
              "        }\n",
              "\n",
              "        div[id^=ipyplot-content-div-Swg3QyCFZDgfjaDn78CPtV]:target span.ipyplot-img-close {\n",
              "            display: block;\n",
              "        }\n",
              "\n",
              "        div[id^=ipyplot-content-div-Swg3QyCFZDgfjaDn78CPtV]:target span.ipyplot-img-expand {\n",
              "            display: none;\n",
              "        }\n",
              "        </style>\n",
              "    <div id=\"ipyplot-imgs-container-div-Swg3QyCFZDgfjaDn78CPtV\">\n",
              "    <div class=\"ipyplot-placeholder-div-Swg3QyCFZDgfjaDn78CPtV\">\n",
              "        <div id=\"ipyplot-content-div-Swg3QyCFZDgfjaDn78CPtV-fKZ5zxokiVKxbKatyWEpeH\" class=\"ipyplot-content-div-Swg3QyCFZDgfjaDn78CPtV\">\n",
              "            <h4 style=\"font-size: 12px; word-wrap: break-word;\">0</h4>\n",
              "            <img src=\"data:image/png;base64,iVBORw0KGgoAAAANSUhEUgAAAEAAAAAgCAAAAACH9iFYAAAEPklEQVR4nCXVwXUlyQ0EwEwU6jfJ2V3d5L8Bsktn6e2Qv7sAZOqgcCL4rz/+/FzytuFpd1gQzzO//3OXV4/n/P3EX3/988+vZDiG4gS26rn//vd/c0ZahkiI0ZRHk0zsj++3hXaKofFMgQsGw0GMhH6P8v0hyiY5UM1MqOxrKROqd3l2ro8Bujg5aZomAQPvFvOcliEQlmemZZGhQX4c5znqX+tzcpVcYmcoYhKwy4OTzzmdMkKa0Zw2A57uuf7QlbNnkLmv/aLRMbOpQGe3a+Y++fOPM7QUI3fpiHTwFieuz4vPEytfa1+vNQAYz7WJQLOnu6qzu49oh+h6BuNN0lUziuMcKd1r1LYBRUdeWMA89ZSQPfP+ssOhOUcQa+985rkHfYpJs4aaXDtEL3qUhKb7uTkZ530JHQueGdks7ue5399Voarac4buc10glkRY3jNT55xhzn09X0A5AQjVAIb1vs/jwk/p6PFLe0f0hpZrkTqvqT71nMmf9VGzW0UbcabHetjTdrutCuWsRZLwPso1r2VMS3VXTZ6fX++OaHnMoKeuFbJEt4cbs+K1gvvFsJa1woRrpupUnezn/novYk7YBBEgHVNSOK6zqwkCsIdrQC0w0eW+S+fJd7/f768VqI1YqsEKi4xumiqmPObHMbcY7hWMoHnue/rc+f11//waYM0QgifLR3p/3r0wGLTxzVfE4VqVGaHFaPV5n36eO3/z+/XcrxC1LEOKM+2+gXod1iiD7mJIZ58rFzXZZ+o99/1z8uf1/et9Z1g2qg6E8KvD0UB4K+MFaLyDNGPq6ry7+8b3z9PK+rnq+zxm05RGZC6F7yN34yA8pqX1iUnXxVG5prvv01Zqzn29N3PIGIYMUqadfU45RgMm+Ln0FV2dZ5fn6aozPUh135/fL7rBLWYHI9BM8daHTRL8eAG5doYC95eOXKffp6RIYs5zv8lRNviq/dp54rQAIYYOGMgVr43KNYamQvf77bIrNXV07ljQ2SZfuZaWc3lAg7MnLpmxk9x7So1pl+/TM4jUVN/uei5ZTOe2lmN/nbV0Ps9oO2yaYTLplqvH9fSZ9kpJ3x/3C8wGDESaMK61rnN2JxqGckd6Ddvd8DmT5+mW6LTb9b0j3iYbr8DLKpv7cIdhdpqLsVYRGg1mSvrdJSuU4cH79+evMncP1jY5hkdaNbK8nDCJsTngdFdj7uqRjbSb5+f2UKFG8RUblA3WnJFB14uGpOiDGT3qHkdoAOd4qe6nLnhmqchFIYwwyMDAtiEdYLql6umZ8SIwYPYi23Nqj3rlIdgvR0QDLY8tLJkLFqd81MftFinLzAmKqnvP1WvIB7rw/6caEhviAAiyFnSOeojDJXAUStBJ2YYDaKx2gJUWoJly75C1zhZr3vOIbgRXl+xxhiO1BuHeskIlTWo0R3If6omEYgD5QTUZTXGOHRj+DxCpk+oUZXpBAAAAAElFTkSuQmCC\"/>\n",
              "            <a href=\"#!\">\n",
              "                <span class=\"ipyplot-img-close\"/>\n",
              "            </a>\n",
              "            <a href=\"#ipyplot-content-div-Swg3QyCFZDgfjaDn78CPtV-fKZ5zxokiVKxbKatyWEpeH\">\n",
              "                <span class=\"ipyplot-img-expand\"/>\n",
              "            </a>\n",
              "        </div>\n",
              "    </div>\n",
              "    \n",
              "    <div class=\"ipyplot-placeholder-div-Swg3QyCFZDgfjaDn78CPtV\">\n",
              "        <div id=\"ipyplot-content-div-Swg3QyCFZDgfjaDn78CPtV-S2zzR3BYjvwo4QfjVoYxni\" class=\"ipyplot-content-div-Swg3QyCFZDgfjaDn78CPtV\">\n",
              "            <h4 style=\"font-size: 12px; word-wrap: break-word;\">1</h4>\n",
              "            <img src=\"data:image/png;base64,iVBORw0KGgoAAAANSUhEUgAAAEAAAAAgCAAAAACH9iFYAAAD9klEQVR4nC3VS7JkSw0EwAhJp+p2Y8YEdsqmmfJ7VZmSIhjAEnzk/Nuvv/z1lzMykLG5hFM63f2J308FMr//+OLPf3oDFZsQAFP0+f7rn3//1O49v4iIyHQIAHZ0vmfxxyd+IurdezaJh2s4SBuMhTTfW3Venu8DGgINCOERae0fg+eVqBhk398pizJtG8bMfDqq9vbcNAtpyAZgi4WVWjqv2hSL3KAMYBOBXQv3DLe83TNBgxtcKITAmrGZaThjFfEipgCFuHTa6vPdadS3vtNZpAYLbmzA9AXyZRmaYtD0zv+dgAXN3KseVs9uJwFkehmO9eKMGa+cS2kep5udyyBoR+7K6r6tLg++r/WW5UHIAdlrM1CvEm1hEztNRjACY49nZrrnlvf89HteG5ANcSFbDNOZueRtBchdOhLMxw1oRrozU+PdmRwkYHsBriWkHBvYNLZSopvhfaSwsZ7b53zPVLdudzlXDzELY42NkYYKriccguEl4bR+0FaPduegevqs5A52rC1hbWuMfotC8gZSRNsMVW6TbXn6HrtCUq84D1UYWN0C5RMIzH1jhjRsLJ8N6wUvRup7NVHafr6/u3AfaofedaMG4yC9CEhwfRymkUyA9Lg/d1ZRUt/3ntoJYk3ZzjHLmwUwMzi5BEwosCsYPdvn7pq1unX+83zfnvIugOfpkvlShpEiflaZsWl4GNJip/vz+e7atRu3zklRba0Z3FzpApUCHjyxtlhp71OAJ690v32+Ey5v6U5rh5C8b4HAo4b2tyOYacKjSjtNary3u7d7mC4KmttfMh0ObwbkTNs+E8iIVGWgIlLbjlvS/dx7r+woBj07M04+IhUwMopTK2yud8vIJBSQF7V7uz9HqySLYXo/WVsR5ivs4Bor05BLsNIJA9ICmpjT/T23xNoqGInpLgcZYBLIRWIh212bacCRBkMhte69pw1HuEAqsL547XlqnncTEZxaBTxi+gmHSccEV9b5ntMXiBCLRUMU1EpVOUUjSzOg8NhOEoVkLiCPdO69bTIgVpZvbUArQt+opkg4nlxihXAQzIChHVzPuX3vSghjK3OtBEaRkzfqFhcJBAmgJkjkAvDM7mLuPd1yCBvc+glU0oYkic+//S4FqRBsC2JS8MS21QvrnN0p4CiAoo2kNxcy1RPzCxWW/xdIbK6Cxuz4jns+uxKCRnpRpp+sZXGk1Elav8axZQmGVtgHtKSV5+7MBjNJcuyiiIcFRV36pk2hKqLhYZjugCyQXsztWRFRcniprRSTzIoo7GqBs6p3BimuRGEhAWlrZmcABp9pxyJQdFa/n9cjv/t6L2xnb5AGJoRlLEFKc3rEQtOCwMDqvxpaRq2T1fhqAAAAAElFTkSuQmCC\"/>\n",
              "            <a href=\"#!\">\n",
              "                <span class=\"ipyplot-img-close\"/>\n",
              "            </a>\n",
              "            <a href=\"#ipyplot-content-div-Swg3QyCFZDgfjaDn78CPtV-S2zzR3BYjvwo4QfjVoYxni\">\n",
              "                <span class=\"ipyplot-img-expand\"/>\n",
              "            </a>\n",
              "        </div>\n",
              "    </div>\n",
              "    \n",
              "    <div class=\"ipyplot-placeholder-div-Swg3QyCFZDgfjaDn78CPtV\">\n",
              "        <div id=\"ipyplot-content-div-Swg3QyCFZDgfjaDn78CPtV-H5cqZNPjkvQi5jdWc9Uvxw\" class=\"ipyplot-content-div-Swg3QyCFZDgfjaDn78CPtV\">\n",
              "            <h4 style=\"font-size: 12px; word-wrap: break-word;\">2</h4>\n",
              "            <img src=\"data:image/png;base64,iVBORw0KGgoAAAANSUhEUgAAAEAAAAAgCAAAAACH9iFYAAAEhElEQVR4nAXB2ZJcuQ0FwIOFvNWLwvM2EfPd/kzbUktddUkCOHCm/Pv9nx8PYBDkqr2y21UK8vvXdTW/fs1P+8+3/vX3ACjFGmN+6Pt0A/f++fRAFZqjAUqyS10EynqX10/h6SO4eARmYSViAkkP6xSP55P+/Mhi81gXGxkwKw7r4Nvizfit4+Ny+bw+oVuPl7Q0UAKctdu8uPtYV3ez2QpCe7+hQdNHfOugyMN+/Guo1GG6OlRMpYXnhPhZ+ww0tJlkCxtdElECvPGcodNkPH64Ycyc7GGjHtJARW3C/3d9VnVDULp2JFvJEQ3IaOANUwZ0CKMzLYFURZVUSxx2OZ4RewKWUudORA1WUcwwsLaEK6V7KYo7SvTwMatb5JwTuH2c/RoYVehcL68lKFjAt1g02GZVCTXHjsV+n9xuinJ24Lx8YAfR0sUqYxZChKeMrWqyR65dui88er9wFBgR7wrJjD5ZTj21TbtNxBfOzWxBNmBqEnfc8aev+5p3f9eoB7cZ2SBZcV7LnzM31TJB+LXI+1RDgLkfHcUlBx1WmaiwbmYR6c7syDuP/35/rIrZpeyxWtCes32GPTgsFHiv1FFuLzEdMM3WTqo071hPz+f73helzFa7uqpcbPdWDJu2J84VbXlGEw9x1UcLkNbx2vX69mVfHz8+nu9IeqgMvKnE9sbm1XlndEkP6lG8c2qbikCkwTjs+ONL55/FONp9EExxfasYOfZTwQFJR7vPpoqqNlyM42jwdfi6w1+P5+Pn51/3o3fhgOLXuIadnlfollUml/iYMnSHbFNI5UTO7995v170MH7+9++QMGYz24aoqyMkHMLJ8iED4nOMRZVEl4T06677eW91lmI9P82S3YlE9tWFPLG3nC2cAODSpL/1SUShgOTOr3snXLr3/P5UaZZ2G6CVUJYO7v2ipU/BFLBDpQ9NsK+MOPuOFaLdss7+uiOYIpKtKk0TyBwqQoWkTdU5xEEKooWVe5177WpRAZK4vypXJvHW1PF2CfqOlRSgU/ZuE5OBiq6Kw18Z6/fCgcLdSrr9/v1eCRrNRFSzS7MzRPcMnZ0hQDBAoAI78zujMgFXQJDoL5coszU0dIgNyqkPpdYwuwYaaQkYm5STr9rPF3cMd5rGOjn4soC15JXHWu1iS0hd1Xo9ML3RelhkAnH6ZNQtSnEhiis+xiYh4fNY32ImqjqbLo5LzGDCjMzIKuQdFXX2EU0H2K8IMd5C5ZwhFj0bqkgxoD3NQ03yziJ7dzRzF6XVQO82qXMK6EyF3YPjcGYLGNvC4hrpNdaI01yaxElGu72qhtCrtLglypU5trEeO43dmpHIpHHZGilbI6uqb1qygWEQBDyMIgoQF6TG8oIK11XIOiHo+yGQlNlVt0SfOlWm5/JsqaKjhROnA1eOOkp8XyPRFFTtKZnPK81Z0N29OpRQO28XTKlCB3p4z36UftQShBqrmKrK7tWZjy1jwa7q3AdLpdvbvTlvEg6I6Rjjve4xT6pXa2oMlWxkdOElj6Nyh1VFVNtV2RhB8Mri/wFy+zbXRm3E0AAAAABJRU5ErkJggg==\"/>\n",
              "            <a href=\"#!\">\n",
              "                <span class=\"ipyplot-img-close\"/>\n",
              "            </a>\n",
              "            <a href=\"#ipyplot-content-div-Swg3QyCFZDgfjaDn78CPtV-H5cqZNPjkvQi5jdWc9Uvxw\">\n",
              "                <span class=\"ipyplot-img-expand\"/>\n",
              "            </a>\n",
              "        </div>\n",
              "    </div>\n",
              "    \n",
              "    <div class=\"ipyplot-placeholder-div-Swg3QyCFZDgfjaDn78CPtV\">\n",
              "        <div id=\"ipyplot-content-div-Swg3QyCFZDgfjaDn78CPtV-WzUYzX3Qmz7g2icuionV2N\" class=\"ipyplot-content-div-Swg3QyCFZDgfjaDn78CPtV\">\n",
              "            <h4 style=\"font-size: 12px; word-wrap: break-word;\">3</h4>\n",
              "            <img src=\"data:image/png;base64,iVBORw0KGgoAAAANSUhEUgAAAEAAAAAgCAAAAACH9iFYAAAEQklEQVR4nCXUS5YcRw4EQAcCkVVNSgvp/leYg817WlHsygx83Gcxdgiz//z86wrOwkyfc9qGwobhfMonjxy/fuHaX3+/QwKN5sHtG5O///nv78ifgygXYB6yHFjBoKGf9poC6P3Mu4tLcvdYC+bUoLMsvn82WnIaYNK0CdC726G08zwUEP66NnTMnZe5Y0kzc5dWZPeYKEgkB6QvDHbZ62vlOTm2/b3jHVf3mK2JNodMnl3+xH2mXZCR00PJbAnisvDz1F7Tsa/3j9d7WQ1c1jHWTqqMw/h+spfgnNL0jEmDIJauvVZ+zrquvb9+xC4ZNLSguDgzzKKinsNy0AaaLiOXgDZJRGMLfvkrON+QOL1EbZRDXedIsdrSZVhOVYPj4+HNmeN12vc2U4LmSwZL5xjCSE2nAuFzvmAAiTGf0TBY3d0F9smxafp+28tVANo5wKI43TSP01njEN3MYZ1iwJWniazvZDS5V149giYwHr0IVuewKu4fVblBUAs2rTNGa6V9r3luDQfKMMph1peFsAbeo8pTijn3+/UKyacNrRr1tND9cW/ZKjfTPATXWgvhgKuXNOc+VGAysx0jiRQ0Lh3HzQrDa1yzZLpLs+IPunPDhRp15vCJes79/nLDOGAwub3z0qnOl2GljFau3c+8+Hm3w1xQo567+snoPJ+vrqAwGri/EejqPz5zLbzI+TmPXe+H8yzqa2K2IcH6PPXkHbfd/ucxmVqkSL9sv7y3GV+3vBfeMLxfbWz0GNaYs5F33ndNfNa/113hrlary0C/vN32DTBlfl2xes+FSLjaZ2x6+tG/32cUWVOf3AvDIUWjLSzzTztzSnZNw70Yf9qFGRcTYnaf30V6zPT5fIdeI3Hcxt1FacWrhmU+09u3+9fWW5+yVSY/XeecARAg63O/YCS3zG2tTQ3dX94NczPB3mHXpmMZc62pyTPfRQBhVPvvS0ttNLwYO5ZNTYsVRR/6jOB9bXYDbeq0Os8HclesTn9NRoNymWLBGnKhK7sr9+hCgqHjZZE40GH3/UhyBOZco+5eVrSYFaxltl6m/kp3uUvqMCVt3NahOI/lr0PCXjFWz1W5GzPltAhqqLX5QtomBYdvh80SiG5NZa5zkw5TQP287wurJ8G4Lpk41FpmS2Pu49GOcCfZlWRnFT8PIdcEpef+0TZFzzGNLbSIlm8GF7gNL5mRQ1HILlH1QIKZwlreh6JoEFNXLPbi8P8VtBmcptoszKPiFHKy10puVxyzebrPD5Fc7W3igIDLfQCXqy3KW2BWzyHEaUXKCETbUosjUFzRmoiQQSYjIamkSAeomclRc4Y5e4FDi97ePppS3EA7Qcloas8ZiBKQZsvZZNZwADzY7t7CBGgRJjOzUFu5mU0A3Si2EnQbl3sQ9XQ3TEUHpmGiAlqb4XDjIilJXJJqCtk5Vs6gmw9UPU2/imxDD5zE/wCl5oU/js+X3gAAAABJRU5ErkJggg==\"/>\n",
              "            <a href=\"#!\">\n",
              "                <span class=\"ipyplot-img-close\"/>\n",
              "            </a>\n",
              "            <a href=\"#ipyplot-content-div-Swg3QyCFZDgfjaDn78CPtV-WzUYzX3Qmz7g2icuionV2N\">\n",
              "                <span class=\"ipyplot-img-expand\"/>\n",
              "            </a>\n",
              "        </div>\n",
              "    </div>\n",
              "    \n",
              "    <div class=\"ipyplot-placeholder-div-Swg3QyCFZDgfjaDn78CPtV\">\n",
              "        <div id=\"ipyplot-content-div-Swg3QyCFZDgfjaDn78CPtV-SRkRnMNLHDqSMz68WDcuXn\" class=\"ipyplot-content-div-Swg3QyCFZDgfjaDn78CPtV\">\n",
              "            <h4 style=\"font-size: 12px; word-wrap: break-word;\">4</h4>\n",
              "            <img src=\"data:image/png;base64,iVBORw0KGgoAAAANSUhEUgAAAEAAAAAgCAAAAACH9iFYAAAERElEQVR4nC3VUa4lOREE0Mi0XfW6Z4aR2P8+WBMSQgL63So7MyL4gDWcjxN/u/+4ljFghWjCtkZ1nl/v+6aPfb4dv//2158LY8BCJ6GUan///R9zX0QAQEwEGrL6rMDuz7+fI+zMcxS4mppQBEc4BIk476n5fikUCKcsikK/zdv17v3sTx/mWBdEdWpmIgk7IEn7KOemhQHZsCST55iJ8jVzjM9becePOeJcCuWYTAWAQHQV99xdDIWCICUWGc4srFG642RFjjV+LtQEE06FELC0wV3zw+5EBCy43aCEJYx3fWnX5Zl55f1jJgFPjZUBIUGy6nBWSTWGUxBJ0/YI9FHnIC4DIzNyCMFwSFhpZaJUW5w4rLADsLshQWNGnU9hNDnuhNmXFYxsG0HOhA/IU/Dk2V8OhxKCYQCR3N/vJqLYQJXWuLmGYtodKK2U3S1jzPr1p62oAcAwxYhzvr8/24P1aUS1b8YXsi84VSM6kcWq0/vMZ7U0ATqQQRraZ3/vItmHMIUAzqwVDk5DmUzXVp1Tnn6efSHkLBhwU7XrPUYII5V7aAJV+U7e2TmEYZLubjWn+3m/Fu0GYaLfU9zdTUyMtWccpKPexMmlhEYmUM06zTrT57P3mkmOsPu8u3xqmE1lsmn5mcbm/IqccyZyGAqdzVM1H7zvkdIKqdWPOqT0V72RNqGIU2uSVPDrCwsT48hdVe/u+c/fn3/9dkZn0Ko6R2mMMT2XZzk2MZNMuNtkKIZSbJ+n9lua31/Pfv4iAHJzP3sE1tyQKwLKAXkOHjsSyMK4mX10Kj+fzZjnuZ+n6zItdh/xClH81DuiujAkiqevq+LiGy656zR7F43pc77/844YdFOGtYMMR8zRD4nFZNzZc8TXFSfvUrvernMsjkn2+/6asdhIx7BXhp1X/vQYT2gxObI5EZfl/ZlGeZ8654QxLVd9bhBEOO+NH3c89dZYjtsRvnBiXYE14gNAlN7o93myGT2H9sXnj6O0BiLv8ePG2gNuhm/3NCexVlzCV0NxgoendvUxPDv3j8MdmnYjfc85c4xxyXt0dMsFYGEtcQzS1n4P6lGLGLNzPp/nE2qknBP3yITvS/zS/2hcjOUrR7pMZZ/njL2xZWhKfL4+95oHKV15X8sCEk7YaOXo4Yy1gjEoUtW79TZJB2eIfD4/fU4sOWdEoilI0lG5HVIiBsJ0ZnSX2eflOXR6wj34PGcWgojVUyMaKp/+HEtK+ArHbIXoVhfOkRLqIUwi1fs5lxs5ulZNREJQ9+6yocgIgw6cqrNb3UTARCdmG6vAZ7bb6+5XecXU7HCzZcLDPRiGh+p91CWhYYlWzE70Le7lWUBacRIyVK6WpQQNBDGLcb63S+paTUqAJ8zhFjvtZHvWqrSdNMI66EgEELOz3vccKuU0aktIT3AuZrgn06YwKnOQrYpA0xG6AmlCddSF/P/MQpr+Lz7KqijBissgAAAAAElFTkSuQmCC\"/>\n",
              "            <a href=\"#!\">\n",
              "                <span class=\"ipyplot-img-close\"/>\n",
              "            </a>\n",
              "            <a href=\"#ipyplot-content-div-Swg3QyCFZDgfjaDn78CPtV-SRkRnMNLHDqSMz68WDcuXn\">\n",
              "                <span class=\"ipyplot-img-expand\"/>\n",
              "            </a>\n",
              "        </div>\n",
              "    </div>\n",
              "    \n",
              "    <div class=\"ipyplot-placeholder-div-Swg3QyCFZDgfjaDn78CPtV\">\n",
              "        <div id=\"ipyplot-content-div-Swg3QyCFZDgfjaDn78CPtV-oDLUJrVcEw3NqCodqMSLzu\" class=\"ipyplot-content-div-Swg3QyCFZDgfjaDn78CPtV\">\n",
              "            <h4 style=\"font-size: 12px; word-wrap: break-word;\">5</h4>\n",
              "            <img src=\"data:image/png;base64,iVBORw0KGgoAAAANSUhEUgAAAEAAAAAgCAAAAACH9iFYAAAEO0lEQVR4nAXBWZYkxw0EQMcSWdU9lO5/CF5MT3/D6cqMAOBOM/vbX6+YvCBIjXFRI+Wbn7LrZUU+vz+K1xcuizCXWSiRkvj53/9TAN0MDhONEFQtVM/+Z35d1sL9e9/XX7gqoIQlHGYUrPdG3n8BAsUQDCJVZxQ6NZ/zOJuY3XvitWZWuDlNBp8Bdg3y9NKY0QcOUt09LemZfob2c4ZeLqkR3QoIDoBw9rnPzplKRzsMDWq65W7YuyDGUypKef33++UBodNEuUlUT53Jz/fqhBVg1PCQNrrG4vj3qKZk4fHrey1YgCzAjHIbTdVU7vNSmzNo1j1EyMIM8RbmtAm5bF3jx2jm7SfTCbh69mGnD9pN3i5Wm2gKW7wowRiXpcEWHJpOCUDPcnFsekadfU7Qe0maISQZrgiGT9OWfJ2Rv13iKMRZ0L6Cpi6JyNkjKcoSMkCEZU93tVmhyrcKr+1Z6reZfGeIjBY1++n8WTUBol1mNgMbxsyc1nACxCwOJgIsES64SWpoau/J+/t0mnE4cG9R0GGziOOGC3oRho2vwU+mhddKU9OkUz2JriZSGjuLHG7JG30kujvUMEGbdPYvhZaZDCT6PNOTvXedq1yVDlWfKWdlc8ZpIm1wcrTLkncuUypNlHpP7TvP89xxDTCGHvU+jWJ08lzWUdSsXRY209NvpqXDD1X7fp6n8on7dR3by8utZ+7pPrpmr/m8d1Z3dCFppkPNewU0mLbz7D8/++TP9Xmfc2EG5r1vwWesoL5XFUdmSDYY6UaXFORM45l772159qvv5SId3izv/F4tdRdRPQgSoiZe0ILc9bwwZXP/+ZxG8vOfJ6+Aj1mOnIl0806m5McN9M53X18XrjwtHGPWxrnvrrEk2J93rCk3a9rEMsWk5DbfN93pyKBW+hWCtcc0qmp/7pGl20k73uvOtEFkfF146hyGc3FCEicv9+vyToADVNTP/jMNY0bvXLVU0wuTtq7XUjxQzwzITjFlFq83sPw6msY857nvIrJy7Lwwe7VMdOe13IIv82Kn1inLCbPLMyQPTtHqbJ5/zjSwcuTPr93fBeYYL7vcgv7Oqib5TuMFWEQoiJFO9L5L+9QRZElXP7jaPl5ftOWzrAUhCTbpDjMPW+GCsYfV/TTvfThmk+l4MhyzcX0imoT1OIW0bTB1mLmHmZEmic9WHT2lZsrcjZiGamZ2dZ85AgWAxgEIgww+6IZmTtXZNc+sFwecBE3nfA9bTuuuClcAboOgucHlDnlDU93nvnmmaKsoElkOH9NQDQ8+kYmFcFrS1xAjDwu4Dx29n6kmbdxFjJgj00s93T7Ox3fEK4LudGXDAJnMRMtD1M9nGpoKAPGYTUq2ABnMpebjZ0XLwkGPcYrLqEqCOuc+Z2gDIPdxYJQ2me5usQgquvJxz9VGmuVus8YSRNj0s0t0wQbdsgvkvwNKYKxGOeiEAAAAAElFTkSuQmCC\"/>\n",
              "            <a href=\"#!\">\n",
              "                <span class=\"ipyplot-img-close\"/>\n",
              "            </a>\n",
              "            <a href=\"#ipyplot-content-div-Swg3QyCFZDgfjaDn78CPtV-oDLUJrVcEw3NqCodqMSLzu\">\n",
              "                <span class=\"ipyplot-img-expand\"/>\n",
              "            </a>\n",
              "        </div>\n",
              "    </div>\n",
              "    \n",
              "    <div class=\"ipyplot-placeholder-div-Swg3QyCFZDgfjaDn78CPtV\">\n",
              "        <div id=\"ipyplot-content-div-Swg3QyCFZDgfjaDn78CPtV-ARasU6ZqrdM5n7TNt3Wq8d\" class=\"ipyplot-content-div-Swg3QyCFZDgfjaDn78CPtV\">\n",
              "            <h4 style=\"font-size: 12px; word-wrap: break-word;\">6</h4>\n",
              "            <img src=\"data:image/png;base64,iVBORw0KGgoAAAANSUhEUgAAAEAAAAAgCAAAAACH9iFYAAAEzklEQVR4nAXB2a4kRxUF0DNERGZV9b3dbpsXZCQ+gZ/h33kFISQs5HZNmRFn2qzFf99//dsviTGIz/vzfbi3z88Prn/988y/6v0f9bP897f88pc/0/gT3SMkpO96bfbj3+d/7jGaQhcTpRHcjmw2rpcv2/L926+P388sv7f+80H+49oBAidFSy27321W8tYw2L2sC9n5ZJiO/UI52riuP+Z6z/fRZf+qW//8UItaUMYqtcd9lkG5SS+eHCUehhMayXJi7HcZH/U/n7yp8JfP/fb9EpEu4VtseK9pMUGZrYHn1EK4pW1vEPtBgc7n+Jgfz2t8lcJ2+7j08ioHkrbHT+daMydLWHv2l7+GUsWh+pwp+5RzLHy4MuklFssQVcljFkcVyESWvmzZWVnV8L7NVntIVH8+TbO+P6fYmj1srepANR70QJZqmPMovxxyvuoMC0ETzt/ophCm98NNmZ5+fL4zZdfijamFN3+E1Q4pLmDki6edsFolaLq5/rFNqeSz3GqMdsxR+coNuu2mleHe3FXkEOYipknncYZ5haAlnPkdm23ZeXHlex2WyRmmkj5Tc/rNZZiWJQZlL6znaWdEIqsZsfNJNdLTEU6vG0BS8n3FLThso1VTyHlVkVXP+lL+smVsAKEFYn41Iq9a4oBD9m/yJV/76/iOOPruzLRxCJEmp1RqTLNAUaZS42Njf/60cnczXcmtfQxc4zVPWWGPUaJ5S9phWZGRdZlqBEkYMbLlSXy2c9C9ZnJxbsEdctbrx2UdT9l4PiPaODchOCqVJUsTbEIBiFEUyu10d1RVD10SB19IyMZlu5ZqE9lUGUlMJA6baZ5QgLUt8dGnosUiX9QgNl6K1W9zC7pM39fOo7curl6iiDGPDPYqFEhbvPYMkQsBNZaQULzomzZst53eAmnjxkNqbW1KdqusF2qiwAEhaW32HmvELcU3QXTwrSXfkkW0r12bmHfNa6PX0DkmWwRHMlHlUG7SALv249pmkxJ2vlD3PVOQ80Foi7yy7UXJHxNBUZMJEOYS4tZa5aric35sj08ptgsoaN0xbNXhpYSl/fMc76x3sGdYAcFEYFUdLcci0GI+LpvsEUSxhJ4rKj3iBQZnK5+TXI6cmcupkplRqqLUpGT11SS0pOa+pPM5maoiLMxJnAVyrwHCikA4sqJxFDVIU/GkZliNmgokqH2c9jonRk8vgi044EeLiJWlnkXKlSxRLKpbY86JaMWVhbGdfVdP7N4NRCFdMsagMiCREUUgpAoxiAByuTAXl9dGOc2TWl7ItOLUMCImgo7KWvGuteyk5EIpczIzJ6NtYWjkbEWYaUReKeeeRK1zz62IkduLixEWgQKAasM0waIl7KyRmxjn5hHXEwa4sCUaE4t3jTZLHMtAVprqhG5dOaFQOYilqT6SRaSDYukgvcAaaHSqS3aawa+CVZwoQyhR9ehJnaxkbUrSojlGFWQCmn3YYEqJqKyKZVsqJ9xqQ3QuVU1AiRgpG7hvhSbcSluEToxNOVqhlkumWNHByUJEHQLmxoNFlyggaFS9F11pDPl6zCwfJ3n3dOHVT/Z9UnK1AHkPTlBKNS5RjkHRqIGu9LhKvza+NecmlMoBR8QiipgpQVRUYG6FaipKzUgIaAn9P+oMWmts8GntAAAAAElFTkSuQmCC\"/>\n",
              "            <a href=\"#!\">\n",
              "                <span class=\"ipyplot-img-close\"/>\n",
              "            </a>\n",
              "            <a href=\"#ipyplot-content-div-Swg3QyCFZDgfjaDn78CPtV-ARasU6ZqrdM5n7TNt3Wq8d\">\n",
              "                <span class=\"ipyplot-img-expand\"/>\n",
              "            </a>\n",
              "        </div>\n",
              "    </div>\n",
              "    \n",
              "    <div class=\"ipyplot-placeholder-div-Swg3QyCFZDgfjaDn78CPtV\">\n",
              "        <div id=\"ipyplot-content-div-Swg3QyCFZDgfjaDn78CPtV-QagJnEhdQe6ir3JfWgRtKp\" class=\"ipyplot-content-div-Swg3QyCFZDgfjaDn78CPtV\">\n",
              "            <h4 style=\"font-size: 12px; word-wrap: break-word;\">7</h4>\n",
              "            <img src=\"data:image/png;base64,iVBORw0KGgoAAAANSUhEUgAAAEAAAAAgCAAAAACH9iFYAAAElUlEQVR4nAXBWXIlxxEEwMilqvrhASMah5TpoDqyfkSjyFkAdHflEnKXf1eKtcsQrCKG6XrF3//z8dB+PJ9dW/K/5dvL3g4rla6U6n0i5scfP8LFLwPK7tEhmK3qKc8//9r5xV6+XJoZcfLz54uZ16CUlOyq3Vn5vmEeZAywEEIZW8yE1H/1dZ52dPbO+9OtMJZslvdFxw7emqyCtvOcm6CUlrk8qAoKH18/IwTnvjtd2ON4iFeiIHWi6y6nVibC22T0aM0U4xjBNENveRtnHMkQnQI9BlxHtAjat7YqoNUS7eeoGWLy2DbcY7q1Ve8La8Ydcc8FtTEcYIYpXNsFLCiqm+VbPdwsbPqy8tWqGUHRtFK5S1JN2fcozkHpUWL3QKl2Jm9xSU81HTqEHLa1NCrV/KIJxxQUm1HuoNJUhlzO6Rd2VTU9rbiXGWTcArPesRmKO4sLkXBuT6BVcWk/ZW2HBES6smEOFXLrCmsTRGxYdE5k75CFLbA4Kd45N5U6ZZZWC6uis82vV5GI1VC0CPburiJYXXeNIdXTErMSqFafoSKju5Nxxcb2Oyc9qi2Nohv98yNpog95rB0m7sceniYtYfXCDTUhk3cErcX7/RXtFSqtDCDvsyhGHKFqkQeiO0/z/a7HlzW6AZDF/GRQylF7O0/d1j5YeNFnyH00j2vT7nZl8T5lpI1j+dzXYbur8r4309S5HWRfVhAT+MsXZ90sayV4w6mxE6vLj9GgsHd/lnycVe3SbtwycKFFwrieh9t1E2zVQ+PhbJ6ur6yq5aZVmijQj78q2dZuMaysr6GqparuMs7NTxtqqSZBcdDbhcMtq4VRpD5fP1tV2zHh8Gi25nZkhO2PrG6tb1QRbclyryFjrg5YYZP9yX/En2EQX7/gPuvYYpZQIIg7WgZlo4TahDBGcaUw8zqkig77gcdvf2+K//Nrfq89pKnGrsxxvmNLytWa7JbuXL0GIdtRmxaoFS/jWs7vF/X3t3G8SURWm3cLKiNBZPKODl7R2sOmZjODWpvp1+SrxPr6Ky5/4dH86Cx3owq9p4fVaF1gjzrIXHRRGWa7Ncq5hT1GF79+O12bzZGyS3Wimoa3O4SvQpNSFDo8sVYNQpHa5bfKqNeMc7z+dOs/TkGOXfe8VrgsG5Yr0CZaqlpNST2aaDJBsc7RINZk6nD96/uAiR4f9f6s58eB53EvndKGfGgZUlsRKpKZIHmJVB0v70ve/mPmcXooXPyjmocMcMJUt82WcU7XFteSEjLvQHWluexyq/vx5X35j/c4f78scASvqqEcY8wQZhi0WBxIgSUakJvZw0tkD9M9f/n81X9mRiNbD4QESiljhUtYFESrbN+Dwp3MzjLjcIqa+PXt5XW++88bU9Zt91hA8mNQ1j2GyRENQ3LFPCnZ1Sxq2QJXXRJ2SdDpPfUEXB7XQwDRZDbUH6uZtFICFwoJyDZwqAlCYsq+59Gk10LdClD2PBJENXSkiQJkeRFWN0lAy33EFPTZD/bHs2yqQ2HxcM1BU08lJDTdVNqbFdpy6SWt3lM5ZNSSrsewexwv/fjt/yrQ6BnnbUlLAAAAAElFTkSuQmCC\"/>\n",
              "            <a href=\"#!\">\n",
              "                <span class=\"ipyplot-img-close\"/>\n",
              "            </a>\n",
              "            <a href=\"#ipyplot-content-div-Swg3QyCFZDgfjaDn78CPtV-QagJnEhdQe6ir3JfWgRtKp\">\n",
              "                <span class=\"ipyplot-img-expand\"/>\n",
              "            </a>\n",
              "        </div>\n",
              "    </div>\n",
              "    \n",
              "    <div class=\"ipyplot-placeholder-div-Swg3QyCFZDgfjaDn78CPtV\">\n",
              "        <div id=\"ipyplot-content-div-Swg3QyCFZDgfjaDn78CPtV-kpjjbaQumh4hKKDYRuYDXP\" class=\"ipyplot-content-div-Swg3QyCFZDgfjaDn78CPtV\">\n",
              "            <h4 style=\"font-size: 12px; word-wrap: break-word;\">8</h4>\n",
              "            <img src=\"data:image/png;base64,iVBORw0KGgoAAAANSUhEUgAAAEAAAAAgCAAAAACH9iFYAAAD+klEQVR4nCXQQZbk2A0DQICklN0zvrwP6p17KqVPAF74BvGC/17e3L7YLLgf6/v9nk//9a/G5/NLgvyfP39+fr6c9/78vq4U4gd442c5y/x8NtWLQp7V8/y4w59w+6/fbfF8//z3HJvYynWThB0tzsOaM9RqKYLM5vke92fGOt98797gnH++BoZXLJ2pdlkv/KozAan4VJpQ/Xwf9Oe6P88/zx88lbL97I79qYIM+7KJiD55MQLGPhqzyOefNa/rGsfPVxdSOXtYzgczp6Dm2wSEnPhovgMgluFi9g0qro6COsv8RF5+che2rz0CDBJJzJydh+G1eX8J5pHiBlC+zke1OjmV6S5sZouk3SFj29J7RoKfBrYMpXxYcw9vvvOr+l3dmTSwiAMM1hlGKsNr19qvYQrE0Lo+NTWpvuH5TE1TTICA+yphEBWcdSUcx5OFi0RO1cyAKqF+eUUgoCaptICXA5YJYh1YNeaInQIDFXsqXtcyXXFVOi0GUmEpzUc9WSPFnx2NtsHDlDu9XVDyMhXkfY68B4wf9J6Ksx9WBwkrYeg5//zNUw0vgpo6hi099CpeZzOi3k6Cq+7yoGgX5JPOQO9V2IrFQMsLjffy8VvHPoaxjU7UdV3DMA0z4h7QE78V2qytyhI9d2r/7nzL1pN9+xCIVLn6/1uJibxLYMg9nySV7UHY1PH6+5nf/ZHX76vX1naabFTJIUA/m3EGjs+ELjwgr9vZKuXZ3OFCdZXz1fbvcqGpuJNCvODhVJ1sBTB8/i/kpete+efluldwhI+rulBA4ooRm2VNNWNd30aKKKv56SzHj48WEJTrWnYVmwFjEInE2u3JZ8++v9jKTjmH1zW13MeoUA1tpVOYOlH7gOaBpL5esAbkDBKaFsqAbTSJyIKSgsJ0Ywz56NCJVTOXOe2uxz1lIAkY7FJwblxPhALgFGIkbXFVhqNq1t/PUFcPq88QgDctEGT/peb8PgeLmARoIw6SldtMn9wz90Hx1Qeht3XvZYyvQvOjK6+l8EmJqliAU29AAC9DTH2ICz1Hsz7XuYRsBw2gJtHIcbmDJxDWSsIFKqnB1C/UO761HmmrD64mojYdh3B8L+P1iaONAAb67FzUXL+MAB+bVzk6lG93PCQlBz4gopWMw3UtGHqS/PLMp4DLxduWUcmT8rWIM3UsZGM61lFWcr8mOaeKd/EM3LiPxmTvLTNS6QKZY1uREGOpta1NWTWTpsOi51OT6e8IffPloR1DVaJlKw4EKJYRIG5O435LhXd6Pq5Pan3fWx+ZHMXW5cGx13irImChGHFyg7OYL24YmOb0wY25bbZ50JJTUZI3ShYRoIQW0VWcYj++5l7V/wAByReaAmtFxwAAAABJRU5ErkJggg==\"/>\n",
              "            <a href=\"#!\">\n",
              "                <span class=\"ipyplot-img-close\"/>\n",
              "            </a>\n",
              "            <a href=\"#ipyplot-content-div-Swg3QyCFZDgfjaDn78CPtV-kpjjbaQumh4hKKDYRuYDXP\">\n",
              "                <span class=\"ipyplot-img-expand\"/>\n",
              "            </a>\n",
              "        </div>\n",
              "    </div>\n",
              "    \n",
              "    <div class=\"ipyplot-placeholder-div-Swg3QyCFZDgfjaDn78CPtV\">\n",
              "        <div id=\"ipyplot-content-div-Swg3QyCFZDgfjaDn78CPtV-RQSRsgiKg4ftC3qGQbM9eF\" class=\"ipyplot-content-div-Swg3QyCFZDgfjaDn78CPtV\">\n",
              "            <h4 style=\"font-size: 12px; word-wrap: break-word;\">9</h4>\n",
              "            <img src=\"data:image/png;base64,iVBORw0KGgoAAAANSUhEUgAAAEAAAAAgCAAAAACH9iFYAAAERElEQVR4nAXBUZIkx24EwAgAWdU9u+TTh3R2XVNG485UZwIRcuf/nncYKNM+5/ns58/nh7/fv/S93ujnH1Otf67nretnLb5rIcI74JJ6VztdJ+2kua3z/Bxdef6vfr4P/tXumv7z+cz7xZvhT3N1AqY9PlO7CMSkmvi0znPIda2YK07rz589dwLQ63ohO2BtsDMs6/j7q0JKMiWDmue0XPW6bnPVefw52nfyr6+VmRFwDmyivHnUEaXsGyPzE9jSsfN63W+C8d2S89r719f7P0l5/Yyc6SSA4J4KlVaL5IwlP9NYvtfviI0sqzlXVtV//rrm2bz29HIgAAATDlWvmGQeGiGdHL5eVySDWfeTybxj/bojsAxQM8F0nLTgTtR07KsJXJqO+qx4X690rMe67r/SRa/F8CAPYlntKGM7ottVz1un0CDymFp3rrtsyd9SXcNrTsV8IpqQVsvQVCslnETNvsLikAoMX1UBaDB75tNNt5rhIRjdph0RUj2GzI56royTpqEZV8ITn4bc8/OcNltCnA6EJ0QgSOh4MBx29TncK+SIaK3VM/LM4FvfPycYZ84t123SAaeBGBtmfbpZ7M3qZQEHGfCe48b3/pk5stGGJr5/BUOvCtSkaJvUc7Krz1uNDEla4/PpE1nS6U8P2HZfmvZWRDKiUAoLYWmoT+3riYNIeKyQrKZ96vfXj1qxhX3vWMqYfT+xeJ0cjzjsY7qeX1LmJKy2gx+gf+61KxJxsKcevTpHyuqaCVNqKAyJYvzbZyYli3IEKPf710qyMoEE635dhHkt9gDCyEJEtDyo3VePQhgBnKPTr//xDjf2Vju3Q/VR1jW1yhioNUn6ILtLz1f3xOeGFM7dj/7rdvmzDv7dA1iBdd+IvGHrk247OqmgDgvHer4wPUJ4fx7H18JRtHHPkA1EMC6t0NPOkacOBemlFVWffWm/wxpAPcO/rzmjnhkiB1gD00rH64xlJ05CzF8WWTnfN7shiu5uvv+u2d2SPZC1mjjFRKquIwkIMcX4OrqmoIcJIdLW7I5fK8bdvNvB3FAgRwuGGHVkSmjGrBzGK0h9rnCOy1sT76+XzMjlyIWsiIwMQgU5TbQx1kbiUJHFqu/zxYLX7C1fr0Izgt2yzJArLkQEue1RDkXARSbvqLxfeb50YRu067KHhE1wQzYolheCZ9SWpQDNhOK1WFGOR79jzVz8MyvdDuczaXt2gEOKQw0x2K0SZnFdPqzIEq4qJOr1bzMTOIAOEdLQZVgJwbTsfqYtZ2hlCRULdd91XxcxfH/3a2pC7BAHRguGZCqU4/GZPXUclRUkI+n6++8V9/utvfMyX8F2WLbd2vIIRjOrOdLsR5NpR62Jr+kV9d+/zXu9t5d97AIkNU35WDMcB9sYyKenYSOMovHqzyvrffnmfVU8gdA/VpW2BFjykSieTn3MidYIqkCQMfGa7+H/AxlqANKEMLOJAAAAAElFTkSuQmCC\"/>\n",
              "            <a href=\"#!\">\n",
              "                <span class=\"ipyplot-img-close\"/>\n",
              "            </a>\n",
              "            <a href=\"#ipyplot-content-div-Swg3QyCFZDgfjaDn78CPtV-RQSRsgiKg4ftC3qGQbM9eF\">\n",
              "                <span class=\"ipyplot-img-expand\"/>\n",
              "            </a>\n",
              "        </div>\n",
              "    </div>\n",
              "    </div>\n",
              "        </textarea>\n",
              "    </div>\n",
              "    "
            ]
          },
          "metadata": {}
        },
        {
          "output_type": "display_data",
          "data": {
            "text/plain": [
              "<IPython.core.display.HTML object>"
            ],
            "text/html": [
              "\n",
              "        <style>\n",
              "        #ipyplot-imgs-container-div-Swg3QyCFZDgfjaDn78CPtV {\n",
              "            width: 100%;\n",
              "            height: 100%;\n",
              "            margin: 0%;\n",
              "            overflow: auto;\n",
              "            position: relative;\n",
              "            overflow-y: scroll;\n",
              "        }\n",
              "\n",
              "        div.ipyplot-placeholder-div-Swg3QyCFZDgfjaDn78CPtV {\n",
              "            width: 200px;\n",
              "            display: inline-block;\n",
              "            margin: 3px;\n",
              "            position: relative;\n",
              "        }\n",
              "\n",
              "        div.ipyplot-content-div-Swg3QyCFZDgfjaDn78CPtV {\n",
              "            width: 200px;\n",
              "            background: white;\n",
              "            display: inline-block;\n",
              "            vertical-align: top;\n",
              "            text-align: center;\n",
              "            position: relative;\n",
              "            border: 2px solid #ddd;\n",
              "            top: 0;\n",
              "            left: 0;\n",
              "        }\n",
              "\n",
              "        div.ipyplot-content-div-Swg3QyCFZDgfjaDn78CPtV span.ipyplot-img-close {\n",
              "            display: none;\n",
              "        }\n",
              "\n",
              "        div.ipyplot-content-div-Swg3QyCFZDgfjaDn78CPtV span {\n",
              "            width: 100%;\n",
              "            height: 100%;\n",
              "            position: absolute;\n",
              "            top: 0;\n",
              "            left: 0;\n",
              "        }\n",
              "\n",
              "        div.ipyplot-content-div-Swg3QyCFZDgfjaDn78CPtV img {\n",
              "            width: 200px;\n",
              "        }\n",
              "\n",
              "        div.ipyplot-content-div-Swg3QyCFZDgfjaDn78CPtV span.ipyplot-img-close:hover {\n",
              "            cursor: zoom-out;\n",
              "        }\n",
              "        div.ipyplot-content-div-Swg3QyCFZDgfjaDn78CPtV span.ipyplot-img-expand:hover {\n",
              "            cursor: zoom-in;\n",
              "        }\n",
              "\n",
              "        div[id^=ipyplot-content-div-Swg3QyCFZDgfjaDn78CPtV]:target {\n",
              "            transform: scale(2.5);\n",
              "            transform-origin: left top;\n",
              "            z-index: 5000;\n",
              "            top: 0;\n",
              "            left: 0;\n",
              "            position: absolute;\n",
              "        }\n",
              "\n",
              "        div[id^=ipyplot-content-div-Swg3QyCFZDgfjaDn78CPtV]:target span.ipyplot-img-close {\n",
              "            display: block;\n",
              "        }\n",
              "\n",
              "        div[id^=ipyplot-content-div-Swg3QyCFZDgfjaDn78CPtV]:target span.ipyplot-img-expand {\n",
              "            display: none;\n",
              "        }\n",
              "        </style>\n",
              "    <div id=\"ipyplot-imgs-container-div-Swg3QyCFZDgfjaDn78CPtV\">\n",
              "    <div class=\"ipyplot-placeholder-div-Swg3QyCFZDgfjaDn78CPtV\">\n",
              "        <div id=\"ipyplot-content-div-Swg3QyCFZDgfjaDn78CPtV-fKZ5zxokiVKxbKatyWEpeH\" class=\"ipyplot-content-div-Swg3QyCFZDgfjaDn78CPtV\">\n",
              "            <h4 style=\"font-size: 12px; word-wrap: break-word;\">0</h4>\n",
              "            <img src=\"data:image/png;base64,iVBORw0KGgoAAAANSUhEUgAAAEAAAAAgCAAAAACH9iFYAAAEPklEQVR4nCXVwXUlyQ0EwEwU6jfJ2V3d5L8Bsktn6e2Qv7sAZOqgcCL4rz/+/FzytuFpd1gQzzO//3OXV4/n/P3EX3/988+vZDiG4gS26rn//vd/c0ZahkiI0ZRHk0zsj++3hXaKofFMgQsGw0GMhH6P8v0hyiY5UM1MqOxrKROqd3l2ro8Bujg5aZomAQPvFvOcliEQlmemZZGhQX4c5znqX+tzcpVcYmcoYhKwy4OTzzmdMkKa0Zw2A57uuf7QlbNnkLmv/aLRMbOpQGe3a+Y++fOPM7QUI3fpiHTwFieuz4vPEytfa1+vNQAYz7WJQLOnu6qzu49oh+h6BuNN0lUziuMcKd1r1LYBRUdeWMA89ZSQPfP+ssOhOUcQa+985rkHfYpJs4aaXDtEL3qUhKb7uTkZ530JHQueGdks7ue5399Voarac4buc10glkRY3jNT55xhzn09X0A5AQjVAIb1vs/jwk/p6PFLe0f0hpZrkTqvqT71nMmf9VGzW0UbcabHetjTdrutCuWsRZLwPso1r2VMS3VXTZ6fX++OaHnMoKeuFbJEt4cbs+K1gvvFsJa1woRrpupUnezn/novYk7YBBEgHVNSOK6zqwkCsIdrQC0w0eW+S+fJd7/f768VqI1YqsEKi4xumiqmPObHMbcY7hWMoHnue/rc+f11//waYM0QgifLR3p/3r0wGLTxzVfE4VqVGaHFaPV5n36eO3/z+/XcrxC1LEOKM+2+gXod1iiD7mJIZ58rFzXZZ+o99/1z8uf1/et9Z1g2qg6E8KvD0UB4K+MFaLyDNGPq6ry7+8b3z9PK+rnq+zxm05RGZC6F7yN34yA8pqX1iUnXxVG5prvv01Zqzn29N3PIGIYMUqadfU45RgMm+Ln0FV2dZ5fn6aozPUh135/fL7rBLWYHI9BM8daHTRL8eAG5doYC95eOXKffp6RIYs5zv8lRNviq/dp54rQAIYYOGMgVr43KNYamQvf77bIrNXV07ljQ2SZfuZaWc3lAg7MnLpmxk9x7So1pl+/TM4jUVN/uei5ZTOe2lmN/nbV0Ps9oO2yaYTLplqvH9fSZ9kpJ3x/3C8wGDESaMK61rnN2JxqGckd6Ddvd8DmT5+mW6LTb9b0j3iYbr8DLKpv7cIdhdpqLsVYRGg1mSvrdJSuU4cH79+evMncP1jY5hkdaNbK8nDCJsTngdFdj7uqRjbSb5+f2UKFG8RUblA3WnJFB14uGpOiDGT3qHkdoAOd4qe6nLnhmqchFIYwwyMDAtiEdYLql6umZ8SIwYPYi23Nqj3rlIdgvR0QDLY8tLJkLFqd81MftFinLzAmKqnvP1WvIB7rw/6caEhviAAiyFnSOeojDJXAUStBJ2YYDaKx2gJUWoJly75C1zhZr3vOIbgRXl+xxhiO1BuHeskIlTWo0R3If6omEYgD5QTUZTXGOHRj+DxCpk+oUZXpBAAAAAElFTkSuQmCC\"/>\n",
              "            <a href=\"#!\">\n",
              "                <span class=\"ipyplot-img-close\"/>\n",
              "            </a>\n",
              "            <a href=\"#ipyplot-content-div-Swg3QyCFZDgfjaDn78CPtV-fKZ5zxokiVKxbKatyWEpeH\">\n",
              "                <span class=\"ipyplot-img-expand\"/>\n",
              "            </a>\n",
              "        </div>\n",
              "    </div>\n",
              "    \n",
              "    <div class=\"ipyplot-placeholder-div-Swg3QyCFZDgfjaDn78CPtV\">\n",
              "        <div id=\"ipyplot-content-div-Swg3QyCFZDgfjaDn78CPtV-S2zzR3BYjvwo4QfjVoYxni\" class=\"ipyplot-content-div-Swg3QyCFZDgfjaDn78CPtV\">\n",
              "            <h4 style=\"font-size: 12px; word-wrap: break-word;\">1</h4>\n",
              "            <img src=\"data:image/png;base64,iVBORw0KGgoAAAANSUhEUgAAAEAAAAAgCAAAAACH9iFYAAAD9klEQVR4nC3VS7JkSw0EwAhJp+p2Y8YEdsqmmfJ7VZmSIhjAEnzk/Nuvv/z1lzMykLG5hFM63f2J308FMr//+OLPf3oDFZsQAFP0+f7rn3//1O49v4iIyHQIAHZ0vmfxxyd+IurdezaJh2s4SBuMhTTfW3Venu8DGgINCOERae0fg+eVqBhk398pizJtG8bMfDqq9vbcNAtpyAZgi4WVWjqv2hSL3KAMYBOBXQv3DLe83TNBgxtcKITAmrGZaThjFfEipgCFuHTa6vPdadS3vtNZpAYLbmzA9AXyZRmaYtD0zv+dgAXN3KseVs9uJwFkehmO9eKMGa+cS2kep5udyyBoR+7K6r6tLg++r/WW5UHIAdlrM1CvEm1hEztNRjACY49nZrrnlvf89HteG5ANcSFbDNOZueRtBchdOhLMxw1oRrozU+PdmRwkYHsBriWkHBvYNLZSopvhfaSwsZ7b53zPVLdudzlXDzELY42NkYYKriccguEl4bR+0FaPduegevqs5A52rC1hbWuMfotC8gZSRNsMVW6TbXn6HrtCUq84D1UYWN0C5RMIzH1jhjRsLJ8N6wUvRup7NVHafr6/u3AfaofedaMG4yC9CEhwfRymkUyA9Lg/d1ZRUt/3ntoJYk3ZzjHLmwUwMzi5BEwosCsYPdvn7pq1unX+83zfnvIugOfpkvlShpEiflaZsWl4GNJip/vz+e7atRu3zklRba0Z3FzpApUCHjyxtlhp71OAJ690v32+Ey5v6U5rh5C8b4HAo4b2tyOYacKjSjtNary3u7d7mC4KmttfMh0ObwbkTNs+E8iIVGWgIlLbjlvS/dx7r+woBj07M04+IhUwMopTK2yud8vIJBSQF7V7uz9HqySLYXo/WVsR5ivs4Bor05BLsNIJA9ICmpjT/T23xNoqGInpLgcZYBLIRWIh212bacCRBkMhte69pw1HuEAqsL547XlqnncTEZxaBTxi+gmHSccEV9b5ntMXiBCLRUMU1EpVOUUjSzOg8NhOEoVkLiCPdO69bTIgVpZvbUArQt+opkg4nlxihXAQzIChHVzPuX3vSghjK3OtBEaRkzfqFhcJBAmgJkjkAvDM7mLuPd1yCBvc+glU0oYkic+//S4FqRBsC2JS8MS21QvrnN0p4CiAoo2kNxcy1RPzCxWW/xdIbK6Cxuz4jns+uxKCRnpRpp+sZXGk1Elav8axZQmGVtgHtKSV5+7MBjNJcuyiiIcFRV36pk2hKqLhYZjugCyQXsztWRFRcniprRSTzIoo7GqBs6p3BimuRGEhAWlrZmcABp9pxyJQdFa/n9cjv/t6L2xnb5AGJoRlLEFKc3rEQtOCwMDqvxpaRq2T1fhqAAAAAElFTkSuQmCC\"/>\n",
              "            <a href=\"#!\">\n",
              "                <span class=\"ipyplot-img-close\"/>\n",
              "            </a>\n",
              "            <a href=\"#ipyplot-content-div-Swg3QyCFZDgfjaDn78CPtV-S2zzR3BYjvwo4QfjVoYxni\">\n",
              "                <span class=\"ipyplot-img-expand\"/>\n",
              "            </a>\n",
              "        </div>\n",
              "    </div>\n",
              "    \n",
              "    <div class=\"ipyplot-placeholder-div-Swg3QyCFZDgfjaDn78CPtV\">\n",
              "        <div id=\"ipyplot-content-div-Swg3QyCFZDgfjaDn78CPtV-H5cqZNPjkvQi5jdWc9Uvxw\" class=\"ipyplot-content-div-Swg3QyCFZDgfjaDn78CPtV\">\n",
              "            <h4 style=\"font-size: 12px; word-wrap: break-word;\">2</h4>\n",
              "            <img src=\"data:image/png;base64,iVBORw0KGgoAAAANSUhEUgAAAEAAAAAgCAAAAACH9iFYAAAEhElEQVR4nAXB2ZJcuQ0FwIOFvNWLwvM2EfPd/kzbUktddUkCOHCm/Pv9nx8PYBDkqr2y21UK8vvXdTW/fs1P+8+3/vX3ACjFGmN+6Pt0A/f++fRAFZqjAUqyS10EynqX10/h6SO4eARmYSViAkkP6xSP55P+/Mhi81gXGxkwKw7r4Nvizfit4+Ny+bw+oVuPl7Q0UAKctdu8uPtYV3ez2QpCe7+hQdNHfOugyMN+/Guo1GG6OlRMpYXnhPhZ+ww0tJlkCxtdElECvPGcodNkPH64Ycyc7GGjHtJARW3C/3d9VnVDULp2JFvJEQ3IaOANUwZ0CKMzLYFURZVUSxx2OZ4RewKWUudORA1WUcwwsLaEK6V7KYo7SvTwMatb5JwTuH2c/RoYVehcL68lKFjAt1g02GZVCTXHjsV+n9xuinJ24Lx8YAfR0sUqYxZChKeMrWqyR65dui88er9wFBgR7wrJjD5ZTj21TbtNxBfOzWxBNmBqEnfc8aev+5p3f9eoB7cZ2SBZcV7LnzM31TJB+LXI+1RDgLkfHcUlBx1WmaiwbmYR6c7syDuP/35/rIrZpeyxWtCes32GPTgsFHiv1FFuLzEdMM3WTqo071hPz+f73helzFa7uqpcbPdWDJu2J84VbXlGEw9x1UcLkNbx2vX69mVfHz8+nu9IeqgMvKnE9sbm1XlndEkP6lG8c2qbikCkwTjs+ONL55/FONp9EExxfasYOfZTwQFJR7vPpoqqNlyM42jwdfi6w1+P5+Pn51/3o3fhgOLXuIadnlfollUml/iYMnSHbFNI5UTO7995v170MH7+9++QMGYz24aoqyMkHMLJ8iED4nOMRZVEl4T06677eW91lmI9P82S3YlE9tWFPLG3nC2cAODSpL/1SUShgOTOr3snXLr3/P5UaZZ2G6CVUJYO7v2ipU/BFLBDpQ9NsK+MOPuOFaLdss7+uiOYIpKtKk0TyBwqQoWkTdU5xEEKooWVe5177WpRAZK4vypXJvHW1PF2CfqOlRSgU/ZuE5OBiq6Kw18Z6/fCgcLdSrr9/v1eCRrNRFSzS7MzRPcMnZ0hQDBAoAI78zujMgFXQJDoL5coszU0dIgNyqkPpdYwuwYaaQkYm5STr9rPF3cMd5rGOjn4soC15JXHWu1iS0hd1Xo9ML3RelhkAnH6ZNQtSnEhiis+xiYh4fNY32ImqjqbLo5LzGDCjMzIKuQdFXX2EU0H2K8IMd5C5ZwhFj0bqkgxoD3NQ03yziJ7dzRzF6XVQO82qXMK6EyF3YPjcGYLGNvC4hrpNdaI01yaxElGu72qhtCrtLglypU5trEeO43dmpHIpHHZGilbI6uqb1qygWEQBDyMIgoQF6TG8oIK11XIOiHo+yGQlNlVt0SfOlWm5/JsqaKjhROnA1eOOkp8XyPRFFTtKZnPK81Z0N29OpRQO28XTKlCB3p4z36UftQShBqrmKrK7tWZjy1jwa7q3AdLpdvbvTlvEg6I6Rjjve4xT6pXa2oMlWxkdOElj6Nyh1VFVNtV2RhB8Mri/wFy+zbXRm3E0AAAAABJRU5ErkJggg==\"/>\n",
              "            <a href=\"#!\">\n",
              "                <span class=\"ipyplot-img-close\"/>\n",
              "            </a>\n",
              "            <a href=\"#ipyplot-content-div-Swg3QyCFZDgfjaDn78CPtV-H5cqZNPjkvQi5jdWc9Uvxw\">\n",
              "                <span class=\"ipyplot-img-expand\"/>\n",
              "            </a>\n",
              "        </div>\n",
              "    </div>\n",
              "    \n",
              "    <div class=\"ipyplot-placeholder-div-Swg3QyCFZDgfjaDn78CPtV\">\n",
              "        <div id=\"ipyplot-content-div-Swg3QyCFZDgfjaDn78CPtV-WzUYzX3Qmz7g2icuionV2N\" class=\"ipyplot-content-div-Swg3QyCFZDgfjaDn78CPtV\">\n",
              "            <h4 style=\"font-size: 12px; word-wrap: break-word;\">3</h4>\n",
              "            <img src=\"data:image/png;base64,iVBORw0KGgoAAAANSUhEUgAAAEAAAAAgCAAAAACH9iFYAAAEQklEQVR4nCXUS5YcRw4EQAcCkVVNSgvp/leYg817WlHsygx83Gcxdgiz//z86wrOwkyfc9qGwobhfMonjxy/fuHaX3+/QwKN5sHtG5O///nv78ifgygXYB6yHFjBoKGf9poC6P3Mu4tLcvdYC+bUoLMsvn82WnIaYNK0CdC726G08zwUEP66NnTMnZe5Y0kzc5dWZPeYKEgkB6QvDHbZ62vlOTm2/b3jHVf3mK2JNodMnl3+xH2mXZCR00PJbAnisvDz1F7Tsa/3j9d7WQ1c1jHWTqqMw/h+spfgnNL0jEmDIJauvVZ+zrquvb9+xC4ZNLSguDgzzKKinsNy0AaaLiOXgDZJRGMLfvkrON+QOL1EbZRDXedIsdrSZVhOVYPj4+HNmeN12vc2U4LmSwZL5xjCSE2nAuFzvmAAiTGf0TBY3d0F9smxafp+28tVANo5wKI43TSP01njEN3MYZ1iwJWniazvZDS5V149giYwHr0IVuewKu4fVblBUAs2rTNGa6V9r3luDQfKMMph1peFsAbeo8pTijn3+/UKyacNrRr1tND9cW/ZKjfTPATXWgvhgKuXNOc+VGAysx0jiRQ0Lh3HzQrDa1yzZLpLs+IPunPDhRp15vCJes79/nLDOGAwub3z0qnOl2GljFau3c+8+Hm3w1xQo567+snoPJ+vrqAwGri/EejqPz5zLbzI+TmPXe+H8yzqa2K2IcH6PPXkHbfd/ucxmVqkSL9sv7y3GV+3vBfeMLxfbWz0GNaYs5F33ndNfNa/113hrlary0C/vN32DTBlfl2xes+FSLjaZ2x6+tG/32cUWVOf3AvDIUWjLSzzTztzSnZNw70Yf9qFGRcTYnaf30V6zPT5fIdeI3Hcxt1FacWrhmU+09u3+9fWW5+yVSY/XeecARAg63O/YCS3zG2tTQ3dX94NczPB3mHXpmMZc62pyTPfRQBhVPvvS0ttNLwYO5ZNTYsVRR/6jOB9bXYDbeq0Os8HclesTn9NRoNymWLBGnKhK7sr9+hCgqHjZZE40GH3/UhyBOZco+5eVrSYFaxltl6m/kp3uUvqMCVt3NahOI/lr0PCXjFWz1W5GzPltAhqqLX5QtomBYdvh80SiG5NZa5zkw5TQP287wurJ8G4Lpk41FpmS2Pu49GOcCfZlWRnFT8PIdcEpef+0TZFzzGNLbSIlm8GF7gNL5mRQ1HILlH1QIKZwlreh6JoEFNXLPbi8P8VtBmcptoszKPiFHKy10puVxyzebrPD5Fc7W3igIDLfQCXqy3KW2BWzyHEaUXKCETbUosjUFzRmoiQQSYjIamkSAeomclRc4Y5e4FDi97ePppS3EA7Qcloas8ZiBKQZsvZZNZwADzY7t7CBGgRJjOzUFu5mU0A3Si2EnQbl3sQ9XQ3TEUHpmGiAlqb4XDjIilJXJJqCtk5Vs6gmw9UPU2/imxDD5zE/wCl5oU/js+X3gAAAABJRU5ErkJggg==\"/>\n",
              "            <a href=\"#!\">\n",
              "                <span class=\"ipyplot-img-close\"/>\n",
              "            </a>\n",
              "            <a href=\"#ipyplot-content-div-Swg3QyCFZDgfjaDn78CPtV-WzUYzX3Qmz7g2icuionV2N\">\n",
              "                <span class=\"ipyplot-img-expand\"/>\n",
              "            </a>\n",
              "        </div>\n",
              "    </div>\n",
              "    \n",
              "    <div class=\"ipyplot-placeholder-div-Swg3QyCFZDgfjaDn78CPtV\">\n",
              "        <div id=\"ipyplot-content-div-Swg3QyCFZDgfjaDn78CPtV-SRkRnMNLHDqSMz68WDcuXn\" class=\"ipyplot-content-div-Swg3QyCFZDgfjaDn78CPtV\">\n",
              "            <h4 style=\"font-size: 12px; word-wrap: break-word;\">4</h4>\n",
              "            <img src=\"data:image/png;base64,iVBORw0KGgoAAAANSUhEUgAAAEAAAAAgCAAAAACH9iFYAAAERElEQVR4nC3VUa4lOREE0Mi0XfW6Z4aR2P8+WBMSQgL63So7MyL4gDWcjxN/u/+4ljFghWjCtkZ1nl/v+6aPfb4dv//2158LY8BCJ6GUan///R9zX0QAQEwEGrL6rMDuz7+fI+zMcxS4mppQBEc4BIk476n5fikUCKcsikK/zdv17v3sTx/mWBdEdWpmIgk7IEn7KOemhQHZsCST55iJ8jVzjM9becePOeJcCuWYTAWAQHQV99xdDIWCICUWGc4srFG642RFjjV+LtQEE06FELC0wV3zw+5EBCy43aCEJYx3fWnX5Zl55f1jJgFPjZUBIUGy6nBWSTWGUxBJ0/YI9FHnIC4DIzNyCMFwSFhpZaJUW5w4rLADsLshQWNGnU9hNDnuhNmXFYxsG0HOhA/IU/Dk2V8OhxKCYQCR3N/vJqLYQJXWuLmGYtodKK2U3S1jzPr1p62oAcAwxYhzvr8/24P1aUS1b8YXsi84VSM6kcWq0/vMZ7U0ATqQQRraZ3/vItmHMIUAzqwVDk5DmUzXVp1Tnn6efSHkLBhwU7XrPUYII5V7aAJV+U7e2TmEYZLubjWn+3m/Fu0GYaLfU9zdTUyMtWccpKPexMmlhEYmUM06zTrT57P3mkmOsPu8u3xqmE1lsmn5mcbm/IqccyZyGAqdzVM1H7zvkdIKqdWPOqT0V72RNqGIU2uSVPDrCwsT48hdVe/u+c/fn3/9dkZn0Ko6R2mMMT2XZzk2MZNMuNtkKIZSbJ+n9lua31/Pfv4iAHJzP3sE1tyQKwLKAXkOHjsSyMK4mX10Kj+fzZjnuZ+n6zItdh/xClH81DuiujAkiqevq+LiGy656zR7F43pc77/844YdFOGtYMMR8zRD4nFZNzZc8TXFSfvUrvernMsjkn2+/6asdhIx7BXhp1X/vQYT2gxObI5EZfl/ZlGeZ8654QxLVd9bhBEOO+NH3c89dZYjtsRvnBiXYE14gNAlN7o93myGT2H9sXnj6O0BiLv8ePG2gNuhm/3NCexVlzCV0NxgoendvUxPDv3j8MdmnYjfc85c4xxyXt0dMsFYGEtcQzS1n4P6lGLGLNzPp/nE2qknBP3yITvS/zS/2hcjOUrR7pMZZ/njL2xZWhKfL4+95oHKV15X8sCEk7YaOXo4Yy1gjEoUtW79TZJB2eIfD4/fU4sOWdEoilI0lG5HVIiBsJ0ZnSX2eflOXR6wj34PGcWgojVUyMaKp/+HEtK+ArHbIXoVhfOkRLqIUwi1fs5lxs5ulZNREJQ9+6yocgIgw6cqrNb3UTARCdmG6vAZ7bb6+5XecXU7HCzZcLDPRiGh+p91CWhYYlWzE70Le7lWUBacRIyVK6WpQQNBDGLcb63S+paTUqAJ8zhFjvtZHvWqrSdNMI66EgEELOz3vccKuU0aktIT3AuZrgn06YwKnOQrYpA0xG6AmlCddSF/P/MQpr+Lz7KqijBissgAAAAAElFTkSuQmCC\"/>\n",
              "            <a href=\"#!\">\n",
              "                <span class=\"ipyplot-img-close\"/>\n",
              "            </a>\n",
              "            <a href=\"#ipyplot-content-div-Swg3QyCFZDgfjaDn78CPtV-SRkRnMNLHDqSMz68WDcuXn\">\n",
              "                <span class=\"ipyplot-img-expand\"/>\n",
              "            </a>\n",
              "        </div>\n",
              "    </div>\n",
              "    \n",
              "    <div class=\"ipyplot-placeholder-div-Swg3QyCFZDgfjaDn78CPtV\">\n",
              "        <div id=\"ipyplot-content-div-Swg3QyCFZDgfjaDn78CPtV-oDLUJrVcEw3NqCodqMSLzu\" class=\"ipyplot-content-div-Swg3QyCFZDgfjaDn78CPtV\">\n",
              "            <h4 style=\"font-size: 12px; word-wrap: break-word;\">5</h4>\n",
              "            <img src=\"data:image/png;base64,iVBORw0KGgoAAAANSUhEUgAAAEAAAAAgCAAAAACH9iFYAAAEO0lEQVR4nAXBWZYkxw0EQMcSWdU9lO5/CF5MT3/D6cqMAOBOM/vbX6+YvCBIjXFRI+Wbn7LrZUU+vz+K1xcuizCXWSiRkvj53/9TAN0MDhONEFQtVM/+Z35d1sL9e9/XX7gqoIQlHGYUrPdG3n8BAsUQDCJVZxQ6NZ/zOJuY3XvitWZWuDlNBp8Bdg3y9NKY0QcOUt09LemZfob2c4ZeLqkR3QoIDoBw9rnPzplKRzsMDWq65W7YuyDGUypKef33++UBodNEuUlUT53Jz/fqhBVg1PCQNrrG4vj3qKZk4fHrey1YgCzAjHIbTdVU7vNSmzNo1j1EyMIM8RbmtAm5bF3jx2jm7SfTCbh69mGnD9pN3i5Wm2gKW7wowRiXpcEWHJpOCUDPcnFsekadfU7Qe0maISQZrgiGT9OWfJ2Rv13iKMRZ0L6Cpi6JyNkjKcoSMkCEZU93tVmhyrcKr+1Z6reZfGeIjBY1++n8WTUBol1mNgMbxsyc1nACxCwOJgIsES64SWpoau/J+/t0mnE4cG9R0GGziOOGC3oRho2vwU+mhddKU9OkUz2JriZSGjuLHG7JG30kujvUMEGbdPYvhZaZDCT6PNOTvXedq1yVDlWfKWdlc8ZpIm1wcrTLkncuUypNlHpP7TvP89xxDTCGHvU+jWJ08lzWUdSsXRY209NvpqXDD1X7fp6n8on7dR3by8utZ+7pPrpmr/m8d1Z3dCFppkPNewU0mLbz7D8/++TP9Xmfc2EG5r1vwWesoL5XFUdmSDYY6UaXFORM45l772159qvv5SId3izv/F4tdRdRPQgSoiZe0ILc9bwwZXP/+ZxG8vOfJ6+Aj1mOnIl0806m5McN9M53X18XrjwtHGPWxrnvrrEk2J93rCk3a9rEMsWk5DbfN93pyKBW+hWCtcc0qmp/7pGl20k73uvOtEFkfF146hyGc3FCEicv9+vyToADVNTP/jMNY0bvXLVU0wuTtq7XUjxQzwzITjFlFq83sPw6msY857nvIrJy7Lwwe7VMdOe13IIv82Kn1inLCbPLMyQPTtHqbJ5/zjSwcuTPr93fBeYYL7vcgv7Oqib5TuMFWEQoiJFO9L5L+9QRZElXP7jaPl5ftOWzrAUhCTbpDjMPW+GCsYfV/TTvfThmk+l4MhyzcX0imoT1OIW0bTB1mLmHmZEmic9WHT2lZsrcjZiGamZ2dZ85AgWAxgEIgww+6IZmTtXZNc+sFwecBE3nfA9bTuuuClcAboOgucHlDnlDU93nvnmmaKsoElkOH9NQDQ8+kYmFcFrS1xAjDwu4Dx29n6kmbdxFjJgj00s93T7Ox3fEK4LudGXDAJnMRMtD1M9nGpoKAPGYTUq2ABnMpebjZ0XLwkGPcYrLqEqCOuc+Z2gDIPdxYJQ2me5usQgquvJxz9VGmuVus8YSRNj0s0t0wQbdsgvkvwNKYKxGOeiEAAAAAElFTkSuQmCC\"/>\n",
              "            <a href=\"#!\">\n",
              "                <span class=\"ipyplot-img-close\"/>\n",
              "            </a>\n",
              "            <a href=\"#ipyplot-content-div-Swg3QyCFZDgfjaDn78CPtV-oDLUJrVcEw3NqCodqMSLzu\">\n",
              "                <span class=\"ipyplot-img-expand\"/>\n",
              "            </a>\n",
              "        </div>\n",
              "    </div>\n",
              "    \n",
              "    <div class=\"ipyplot-placeholder-div-Swg3QyCFZDgfjaDn78CPtV\">\n",
              "        <div id=\"ipyplot-content-div-Swg3QyCFZDgfjaDn78CPtV-ARasU6ZqrdM5n7TNt3Wq8d\" class=\"ipyplot-content-div-Swg3QyCFZDgfjaDn78CPtV\">\n",
              "            <h4 style=\"font-size: 12px; word-wrap: break-word;\">6</h4>\n",
              "            <img src=\"data:image/png;base64,iVBORw0KGgoAAAANSUhEUgAAAEAAAAAgCAAAAACH9iFYAAAEzklEQVR4nAXB2a4kRxUF0DNERGZV9b3dbpsXZCQ+gZ/h33kFISQs5HZNmRFn2qzFf99//dsviTGIz/vzfbi3z88Prn/988y/6v0f9bP897f88pc/0/gT3SMkpO96bfbj3+d/7jGaQhcTpRHcjmw2rpcv2/L926+P388sv7f+80H+49oBAidFSy27321W8tYw2L2sC9n5ZJiO/UI52riuP+Z6z/fRZf+qW//8UItaUMYqtcd9lkG5SS+eHCUehhMayXJi7HcZH/U/n7yp8JfP/fb9EpEu4VtseK9pMUGZrYHn1EK4pW1vEPtBgc7n+Jgfz2t8lcJ2+7j08ioHkrbHT+daMydLWHv2l7+GUsWh+pwp+5RzLHy4MuklFssQVcljFkcVyESWvmzZWVnV8L7NVntIVH8+TbO+P6fYmj1srepANR70QJZqmPMovxxyvuoMC0ETzt/ophCm98NNmZ5+fL4zZdfijamFN3+E1Q4pLmDki6edsFolaLq5/rFNqeSz3GqMdsxR+coNuu2mleHe3FXkEOYipknncYZ5haAlnPkdm23ZeXHlex2WyRmmkj5Tc/rNZZiWJQZlL6znaWdEIqsZsfNJNdLTEU6vG0BS8n3FLThso1VTyHlVkVXP+lL+smVsAKEFYn41Iq9a4oBD9m/yJV/76/iOOPruzLRxCJEmp1RqTLNAUaZS42Njf/60cnczXcmtfQxc4zVPWWGPUaJ5S9phWZGRdZlqBEkYMbLlSXy2c9C9ZnJxbsEdctbrx2UdT9l4PiPaODchOCqVJUsTbEIBiFEUyu10d1RVD10SB19IyMZlu5ZqE9lUGUlMJA6baZ5QgLUt8dGnosUiX9QgNl6K1W9zC7pM39fOo7curl6iiDGPDPYqFEhbvPYMkQsBNZaQULzomzZst53eAmnjxkNqbW1KdqusF2qiwAEhaW32HmvELcU3QXTwrSXfkkW0r12bmHfNa6PX0DkmWwRHMlHlUG7SALv249pmkxJ2vlD3PVOQ80Foi7yy7UXJHxNBUZMJEOYS4tZa5aric35sj08ptgsoaN0xbNXhpYSl/fMc76x3sGdYAcFEYFUdLcci0GI+LpvsEUSxhJ4rKj3iBQZnK5+TXI6cmcupkplRqqLUpGT11SS0pOa+pPM5maoiLMxJnAVyrwHCikA4sqJxFDVIU/GkZliNmgokqH2c9jonRk8vgi044EeLiJWlnkXKlSxRLKpbY86JaMWVhbGdfVdP7N4NRCFdMsagMiCREUUgpAoxiAByuTAXl9dGOc2TWl7ItOLUMCImgo7KWvGuteyk5EIpczIzJ6NtYWjkbEWYaUReKeeeRK1zz62IkduLixEWgQKAasM0waIl7KyRmxjn5hHXEwa4sCUaE4t3jTZLHMtAVprqhG5dOaFQOYilqT6SRaSDYukgvcAaaHSqS3aawa+CVZwoQyhR9ehJnaxkbUrSojlGFWQCmn3YYEqJqKyKZVsqJ9xqQ3QuVU1AiRgpG7hvhSbcSluEToxNOVqhlkumWNHByUJEHQLmxoNFlyggaFS9F11pDPl6zCwfJ3n3dOHVT/Z9UnK1AHkPTlBKNS5RjkHRqIGu9LhKvza+NecmlMoBR8QiipgpQVRUYG6FaipKzUgIaAn9P+oMWmts8GntAAAAAElFTkSuQmCC\"/>\n",
              "            <a href=\"#!\">\n",
              "                <span class=\"ipyplot-img-close\"/>\n",
              "            </a>\n",
              "            <a href=\"#ipyplot-content-div-Swg3QyCFZDgfjaDn78CPtV-ARasU6ZqrdM5n7TNt3Wq8d\">\n",
              "                <span class=\"ipyplot-img-expand\"/>\n",
              "            </a>\n",
              "        </div>\n",
              "    </div>\n",
              "    \n",
              "    <div class=\"ipyplot-placeholder-div-Swg3QyCFZDgfjaDn78CPtV\">\n",
              "        <div id=\"ipyplot-content-div-Swg3QyCFZDgfjaDn78CPtV-QagJnEhdQe6ir3JfWgRtKp\" class=\"ipyplot-content-div-Swg3QyCFZDgfjaDn78CPtV\">\n",
              "            <h4 style=\"font-size: 12px; word-wrap: break-word;\">7</h4>\n",
              "            <img src=\"data:image/png;base64,iVBORw0KGgoAAAANSUhEUgAAAEAAAAAgCAAAAACH9iFYAAAElUlEQVR4nAXBWXIlxxEEwMilqvrhASMah5TpoDqyfkSjyFkAdHflEnKXf1eKtcsQrCKG6XrF3//z8dB+PJ9dW/K/5dvL3g4rla6U6n0i5scfP8LFLwPK7tEhmK3qKc8//9r5xV6+XJoZcfLz54uZ16CUlOyq3Vn5vmEeZAywEEIZW8yE1H/1dZ52dPbO+9OtMJZslvdFxw7emqyCtvOcm6CUlrk8qAoKH18/IwTnvjtd2ON4iFeiIHWi6y6nVibC22T0aM0U4xjBNENveRtnHMkQnQI9BlxHtAjat7YqoNUS7eeoGWLy2DbcY7q1Ve8La8Ydcc8FtTEcYIYpXNsFLCiqm+VbPdwsbPqy8tWqGUHRtFK5S1JN2fcozkHpUWL3QKl2Jm9xSU81HTqEHLa1NCrV/KIJxxQUm1HuoNJUhlzO6Rd2VTU9rbiXGWTcArPesRmKO4sLkXBuT6BVcWk/ZW2HBES6smEOFXLrCmsTRGxYdE5k75CFLbA4Kd45N5U6ZZZWC6uis82vV5GI1VC0CPburiJYXXeNIdXTErMSqFafoSKju5Nxxcb2Oyc9qi2Nohv98yNpog95rB0m7sceniYtYfXCDTUhk3cErcX7/RXtFSqtDCDvsyhGHKFqkQeiO0/z/a7HlzW6AZDF/GRQylF7O0/d1j5YeNFnyH00j2vT7nZl8T5lpI1j+dzXYbur8r4309S5HWRfVhAT+MsXZ90sayV4w6mxE6vLj9GgsHd/lnycVe3SbtwycKFFwrieh9t1E2zVQ+PhbJ6ur6yq5aZVmijQj78q2dZuMaysr6GqparuMs7NTxtqqSZBcdDbhcMtq4VRpD5fP1tV2zHh8Gi25nZkhO2PrG6tb1QRbclyryFjrg5YYZP9yX/En2EQX7/gPuvYYpZQIIg7WgZlo4TahDBGcaUw8zqkig77gcdvf2+K//Nrfq89pKnGrsxxvmNLytWa7JbuXL0GIdtRmxaoFS/jWs7vF/X3t3G8SURWm3cLKiNBZPKODl7R2sOmZjODWpvp1+SrxPr6Ky5/4dH86Cx3owq9p4fVaF1gjzrIXHRRGWa7Ncq5hT1GF79+O12bzZGyS3Wimoa3O4SvQpNSFDo8sVYNQpHa5bfKqNeMc7z+dOs/TkGOXfe8VrgsG5Yr0CZaqlpNST2aaDJBsc7RINZk6nD96/uAiR4f9f6s58eB53EvndKGfGgZUlsRKpKZIHmJVB0v70ve/mPmcXooXPyjmocMcMJUt82WcU7XFteSEjLvQHWluexyq/vx5X35j/c4f78scASvqqEcY8wQZhi0WBxIgSUakJvZw0tkD9M9f/n81X9mRiNbD4QESiljhUtYFESrbN+Dwp3MzjLjcIqa+PXt5XW++88bU9Zt91hA8mNQ1j2GyRENQ3LFPCnZ1Sxq2QJXXRJ2SdDpPfUEXB7XQwDRZDbUH6uZtFICFwoJyDZwqAlCYsq+59Gk10LdClD2PBJENXSkiQJkeRFWN0lAy33EFPTZD/bHs2yqQ2HxcM1BU08lJDTdVNqbFdpy6SWt3lM5ZNSSrsewexwv/fjt/yrQ6BnnbUlLAAAAAElFTkSuQmCC\"/>\n",
              "            <a href=\"#!\">\n",
              "                <span class=\"ipyplot-img-close\"/>\n",
              "            </a>\n",
              "            <a href=\"#ipyplot-content-div-Swg3QyCFZDgfjaDn78CPtV-QagJnEhdQe6ir3JfWgRtKp\">\n",
              "                <span class=\"ipyplot-img-expand\"/>\n",
              "            </a>\n",
              "        </div>\n",
              "    </div>\n",
              "    \n",
              "    <div class=\"ipyplot-placeholder-div-Swg3QyCFZDgfjaDn78CPtV\">\n",
              "        <div id=\"ipyplot-content-div-Swg3QyCFZDgfjaDn78CPtV-kpjjbaQumh4hKKDYRuYDXP\" class=\"ipyplot-content-div-Swg3QyCFZDgfjaDn78CPtV\">\n",
              "            <h4 style=\"font-size: 12px; word-wrap: break-word;\">8</h4>\n",
              "            <img src=\"data:image/png;base64,iVBORw0KGgoAAAANSUhEUgAAAEAAAAAgCAAAAACH9iFYAAAD+klEQVR4nCXQQZbk2A0DQICklN0zvrwP6p17KqVPAF74BvGC/17e3L7YLLgf6/v9nk//9a/G5/NLgvyfP39+fr6c9/78vq4U4gd442c5y/x8NtWLQp7V8/y4w59w+6/fbfF8//z3HJvYynWThB0tzsOaM9RqKYLM5vke92fGOt98797gnH++BoZXLJ2pdlkv/KozAan4VJpQ/Xwf9Oe6P88/zx88lbL97I79qYIM+7KJiD55MQLGPhqzyOefNa/rGsfPVxdSOXtYzgczp6Dm2wSEnPhovgMgluFi9g0qro6COsv8RF5+che2rz0CDBJJzJydh+G1eX8J5pHiBlC+zke1OjmV6S5sZouk3SFj29J7RoKfBrYMpXxYcw9vvvOr+l3dmTSwiAMM1hlGKsNr19qvYQrE0Lo+NTWpvuH5TE1TTICA+yphEBWcdSUcx5OFi0RO1cyAKqF+eUUgoCaptICXA5YJYh1YNeaInQIDFXsqXtcyXXFVOi0GUmEpzUc9WSPFnx2NtsHDlDu9XVDyMhXkfY68B4wf9J6Ksx9WBwkrYeg5//zNUw0vgpo6hi099CpeZzOi3k6Cq+7yoGgX5JPOQO9V2IrFQMsLjffy8VvHPoaxjU7UdV3DMA0z4h7QE78V2qytyhI9d2r/7nzL1pN9+xCIVLn6/1uJibxLYMg9nySV7UHY1PH6+5nf/ZHX76vX1naabFTJIUA/m3EGjs+ELjwgr9vZKuXZ3OFCdZXz1fbvcqGpuJNCvODhVJ1sBTB8/i/kpete+efluldwhI+rulBA4ooRm2VNNWNd30aKKKv56SzHj48WEJTrWnYVmwFjEInE2u3JZ8++v9jKTjmH1zW13MeoUA1tpVOYOlH7gOaBpL5esAbkDBKaFsqAbTSJyIKSgsJ0Ywz56NCJVTOXOe2uxz1lIAkY7FJwblxPhALgFGIkbXFVhqNq1t/PUFcPq88QgDctEGT/peb8PgeLmARoIw6SldtMn9wz90Hx1Qeht3XvZYyvQvOjK6+l8EmJqliAU29AAC9DTH2ICz1Hsz7XuYRsBw2gJtHIcbmDJxDWSsIFKqnB1C/UO761HmmrD64mojYdh3B8L+P1iaONAAb67FzUXL+MAB+bVzk6lG93PCQlBz4gopWMw3UtGHqS/PLMp4DLxduWUcmT8rWIM3UsZGM61lFWcr8mOaeKd/EM3LiPxmTvLTNS6QKZY1uREGOpta1NWTWTpsOi51OT6e8IffPloR1DVaJlKw4EKJYRIG5O435LhXd6Pq5Pan3fWx+ZHMXW5cGx13irImChGHFyg7OYL24YmOb0wY25bbZ50JJTUZI3ShYRoIQW0VWcYj++5l7V/wAByReaAmtFxwAAAABJRU5ErkJggg==\"/>\n",
              "            <a href=\"#!\">\n",
              "                <span class=\"ipyplot-img-close\"/>\n",
              "            </a>\n",
              "            <a href=\"#ipyplot-content-div-Swg3QyCFZDgfjaDn78CPtV-kpjjbaQumh4hKKDYRuYDXP\">\n",
              "                <span class=\"ipyplot-img-expand\"/>\n",
              "            </a>\n",
              "        </div>\n",
              "    </div>\n",
              "    \n",
              "    <div class=\"ipyplot-placeholder-div-Swg3QyCFZDgfjaDn78CPtV\">\n",
              "        <div id=\"ipyplot-content-div-Swg3QyCFZDgfjaDn78CPtV-RQSRsgiKg4ftC3qGQbM9eF\" class=\"ipyplot-content-div-Swg3QyCFZDgfjaDn78CPtV\">\n",
              "            <h4 style=\"font-size: 12px; word-wrap: break-word;\">9</h4>\n",
              "            <img src=\"data:image/png;base64,iVBORw0KGgoAAAANSUhEUgAAAEAAAAAgCAAAAACH9iFYAAAERElEQVR4nAXBUZIkx24EwAgAWdU9u+TTh3R2XVNG485UZwIRcuf/nncYKNM+5/ns58/nh7/fv/S93ujnH1Otf67nretnLb5rIcI74JJ6VztdJ+2kua3z/Bxdef6vfr4P/tXumv7z+cz7xZvhT3N1AqY9PlO7CMSkmvi0znPIda2YK07rz589dwLQ63ohO2BtsDMs6/j7q0JKMiWDmue0XPW6bnPVefw52nfyr6+VmRFwDmyivHnUEaXsGyPzE9jSsfN63W+C8d2S89r719f7P0l5/Yyc6SSA4J4KlVaL5IwlP9NYvtfviI0sqzlXVtV//rrm2bz29HIgAAATDlWvmGQeGiGdHL5eVySDWfeTybxj/bojsAxQM8F0nLTgTtR07KsJXJqO+qx4X690rMe67r/SRa/F8CAPYlntKGM7ottVz1un0CDymFp3rrtsyd9SXcNrTsV8IpqQVsvQVCslnETNvsLikAoMX1UBaDB75tNNt5rhIRjdph0RUj2GzI56royTpqEZV8ITn4bc8/OcNltCnA6EJ0QgSOh4MBx29TncK+SIaK3VM/LM4FvfPycYZ84t123SAaeBGBtmfbpZ7M3qZQEHGfCe48b3/pk5stGGJr5/BUOvCtSkaJvUc7Krz1uNDEla4/PpE1nS6U8P2HZfmvZWRDKiUAoLYWmoT+3riYNIeKyQrKZ96vfXj1qxhX3vWMqYfT+xeJ0cjzjsY7qeX1LmJKy2gx+gf+61KxJxsKcevTpHyuqaCVNqKAyJYvzbZyYli3IEKPf710qyMoEE635dhHkt9gDCyEJEtDyo3VePQhgBnKPTr//xDjf2Vju3Q/VR1jW1yhioNUn6ILtLz1f3xOeGFM7dj/7rdvmzDv7dA1iBdd+IvGHrk247OqmgDgvHer4wPUJ4fx7H18JRtHHPkA1EMC6t0NPOkacOBemlFVWffWm/wxpAPcO/rzmjnhkiB1gD00rH64xlJ05CzF8WWTnfN7shiu5uvv+u2d2SPZC1mjjFRKquIwkIMcX4OrqmoIcJIdLW7I5fK8bdvNvB3FAgRwuGGHVkSmjGrBzGK0h9rnCOy1sT76+XzMjlyIWsiIwMQgU5TbQx1kbiUJHFqu/zxYLX7C1fr0Izgt2yzJArLkQEue1RDkXARSbvqLxfeb50YRu067KHhE1wQzYolheCZ9SWpQDNhOK1WFGOR79jzVz8MyvdDuczaXt2gEOKQw0x2K0SZnFdPqzIEq4qJOr1bzMTOIAOEdLQZVgJwbTsfqYtZ2hlCRULdd91XxcxfH/3a2pC7BAHRguGZCqU4/GZPXUclRUkI+n6++8V9/utvfMyX8F2WLbd2vIIRjOrOdLsR5NpR62Jr+kV9d+/zXu9t5d97AIkNU35WDMcB9sYyKenYSOMovHqzyvrffnmfVU8gdA/VpW2BFjykSieTn3MidYIqkCQMfGa7+H/AxlqANKEMLOJAAAAAElFTkSuQmCC\"/>\n",
              "            <a href=\"#!\">\n",
              "                <span class=\"ipyplot-img-close\"/>\n",
              "            </a>\n",
              "            <a href=\"#ipyplot-content-div-Swg3QyCFZDgfjaDn78CPtV-RQSRsgiKg4ftC3qGQbM9eF\">\n",
              "                <span class=\"ipyplot-img-expand\"/>\n",
              "            </a>\n",
              "        </div>\n",
              "    </div>\n",
              "    </div>"
            ]
          },
          "metadata": {}
        }
      ]
    },
    {
      "cell_type": "markdown",
      "source": [
        "Отрисуйте все предсказания."
      ],
      "metadata": {
        "id": "LzmfZBw1GAQ9"
      }
    },
    {
      "cell_type": "code",
      "source": [
        "import numpy as np\n",
        "import matplotlib.pyplot as plt\n",
        "import ipyplot\n",
        "\n",
        "preds = np.array([pred.reshape((32, 64)) for pred in preds])  # Пример reshape\n",
        "\n",
        "img_count = 10\n",
        "\n",
        "ipyplot.plot_images(preds[:img_count], [str(x) for x in range(img_count)], max_images=img_count, img_width=200)\n",
        "plt.show()\n",
        "\n",
        "# Настройки для отрисовки\n",
        "n_faces = 5\n",
        "n_cols = 2\n",
        "image_shape = (64, 64)\n",
        "plt.figure(figsize=(3 * n_cols, 3 * n_faces))\n",
        "\n",
        "for i in range(n_faces):\n",
        "    true_face = np.vstack((X_test[i], y_test[i]))\n",
        "\n",
        "    if i:\n",
        "        sub = plt.subplot(n_faces, n_cols, i * n_cols + 1)\n",
        "    else:\n",
        "        sub = plt.subplot(n_faces, n_cols, i * n_cols + 1, title=\"true faces\")\n",
        "\n",
        "    sub.axis(\"off\")\n",
        "    sub.imshow(true_face.reshape(image_shape), cmap=plt.cm.gray, interpolation=\"nearest\")\n",
        "\n",
        "    # Преобразуем preds[i], чтобы добавить ось канала\n",
        "    preds_i = np.expand_dims(preds[i], axis=-1)  # Добавляем ось канала\n",
        "\n",
        "    completed_face = np.vstack((X_test[i], preds_i))\n",
        "\n",
        "    if i:\n",
        "        sub = plt.subplot(n_faces, n_cols, i * n_cols + 2)\n",
        "    else:\n",
        "        sub = plt.subplot(n_faces, n_cols, i * n_cols + 2, title=\"completed faces\")\n",
        "\n",
        "    sub.axis(\"off\")\n",
        "    sub.imshow(completed_face.reshape(image_shape), cmap=plt.cm.gray, interpolation=\"nearest\")\n",
        "\n",
        "plt.show()"
      ],
      "metadata": {
        "colab": {
          "base_uri": "https://localhost:8080/",
          "height": 1000
        },
        "id": "6g07OPDl66d1",
        "outputId": "79dada79-1915-42b1-f0ad-c47cb1d8f0ab"
      },
      "execution_count": null,
      "outputs": [
        {
          "output_type": "display_data",
          "data": {
            "text/plain": [
              "<IPython.core.display.HTML object>"
            ],
            "text/html": [
              "\n",
              "    <style>\n",
              "        #ipyplot-html-viewer-toggle-o8dn5DNCWrQq27XequR9PK {\n",
              "            position: absolute;\n",
              "            top: -9999px;\n",
              "            left: -9999px;\n",
              "            visibility: hidden;\n",
              "        }\n",
              "\n",
              "        #ipyplot-html-viewer-label-o8dn5DNCWrQq27XequR9PK { \n",
              "            position: relative;\n",
              "            display: inline-block;\n",
              "            cursor: pointer;\n",
              "            color: blue;\n",
              "            text-decoration: underline;\n",
              "        }\n",
              "\n",
              "        #ipyplot-html-viewer-textarea-o8dn5DNCWrQq27XequR9PK {\n",
              "            background: lightgrey;\n",
              "            width: 100%;\n",
              "            height: 0px;\n",
              "            display: none;\n",
              "        }\n",
              "\n",
              "        #ipyplot-html-viewer-toggle-o8dn5DNCWrQq27XequR9PK:checked ~ #ipyplot-html-viewer-textarea-o8dn5DNCWrQq27XequR9PK {\n",
              "            height: 200px;\n",
              "            display: block;\n",
              "        }\n",
              "\n",
              "        #ipyplot-html-viewer-toggle-o8dn5DNCWrQq27XequR9PK:checked + #ipyplot-html-viewer-label-o8dn5DNCWrQq27XequR9PK:after {\n",
              "            content: \"hide html\";\n",
              "            position: absolute;\n",
              "            top: 0;\n",
              "            left: 0;\n",
              "            right: 0;\n",
              "            bottom: 0;\n",
              "            background: white;\n",
              "            cursor: pointer;\n",
              "            color: blue;\n",
              "            text-decoration: underline;\n",
              "        }\n",
              "    </style>\n",
              "    <div>\n",
              "        <input type=\"checkbox\" id=\"ipyplot-html-viewer-toggle-o8dn5DNCWrQq27XequR9PK\">\n",
              "        <label id=\"ipyplot-html-viewer-label-o8dn5DNCWrQq27XequR9PK\" for=\"ipyplot-html-viewer-toggle-o8dn5DNCWrQq27XequR9PK\">show html</label>\n",
              "        <textarea id=\"ipyplot-html-viewer-textarea-o8dn5DNCWrQq27XequR9PK\" readonly>\n",
              "            \n",
              "        <style>\n",
              "        #ipyplot-imgs-container-div-fB7unjcHKrQqMBezywsYYS {\n",
              "            width: 100%;\n",
              "            height: 100%;\n",
              "            margin: 0%;\n",
              "            overflow: auto;\n",
              "            position: relative;\n",
              "            overflow-y: scroll;\n",
              "        }\n",
              "\n",
              "        div.ipyplot-placeholder-div-fB7unjcHKrQqMBezywsYYS {\n",
              "            width: 200px;\n",
              "            display: inline-block;\n",
              "            margin: 3px;\n",
              "            position: relative;\n",
              "        }\n",
              "\n",
              "        div.ipyplot-content-div-fB7unjcHKrQqMBezywsYYS {\n",
              "            width: 200px;\n",
              "            background: white;\n",
              "            display: inline-block;\n",
              "            vertical-align: top;\n",
              "            text-align: center;\n",
              "            position: relative;\n",
              "            border: 2px solid #ddd;\n",
              "            top: 0;\n",
              "            left: 0;\n",
              "        }\n",
              "\n",
              "        div.ipyplot-content-div-fB7unjcHKrQqMBezywsYYS span.ipyplot-img-close {\n",
              "            display: none;\n",
              "        }\n",
              "\n",
              "        div.ipyplot-content-div-fB7unjcHKrQqMBezywsYYS span {\n",
              "            width: 100%;\n",
              "            height: 100%;\n",
              "            position: absolute;\n",
              "            top: 0;\n",
              "            left: 0;\n",
              "        }\n",
              "\n",
              "        div.ipyplot-content-div-fB7unjcHKrQqMBezywsYYS img {\n",
              "            width: 200px;\n",
              "        }\n",
              "\n",
              "        div.ipyplot-content-div-fB7unjcHKrQqMBezywsYYS span.ipyplot-img-close:hover {\n",
              "            cursor: zoom-out;\n",
              "        }\n",
              "        div.ipyplot-content-div-fB7unjcHKrQqMBezywsYYS span.ipyplot-img-expand:hover {\n",
              "            cursor: zoom-in;\n",
              "        }\n",
              "\n",
              "        div[id^=ipyplot-content-div-fB7unjcHKrQqMBezywsYYS]:target {\n",
              "            transform: scale(2.5);\n",
              "            transform-origin: left top;\n",
              "            z-index: 5000;\n",
              "            top: 0;\n",
              "            left: 0;\n",
              "            position: absolute;\n",
              "        }\n",
              "\n",
              "        div[id^=ipyplot-content-div-fB7unjcHKrQqMBezywsYYS]:target span.ipyplot-img-close {\n",
              "            display: block;\n",
              "        }\n",
              "\n",
              "        div[id^=ipyplot-content-div-fB7unjcHKrQqMBezywsYYS]:target span.ipyplot-img-expand {\n",
              "            display: none;\n",
              "        }\n",
              "        </style>\n",
              "    <div id=\"ipyplot-imgs-container-div-fB7unjcHKrQqMBezywsYYS\">\n",
              "    <div class=\"ipyplot-placeholder-div-fB7unjcHKrQqMBezywsYYS\">\n",
              "        <div id=\"ipyplot-content-div-fB7unjcHKrQqMBezywsYYS-5hpTTcN4Qgva7BWXeEdC7S\" class=\"ipyplot-content-div-fB7unjcHKrQqMBezywsYYS\">\n",
              "            <h4 style=\"font-size: 12px; word-wrap: break-word;\">0</h4>\n",
              "            <img src=\"data:image/png;base64,iVBORw0KGgoAAAANSUhEUgAAAEAAAAAgCAAAAACH9iFYAAAEPklEQVR4nCXVwXUlyQ0EwEwU6jfJ2V3d5L8Bsktn6e2Qv7sAZOqgcCL4rz/+/FzytuFpd1gQzzO//3OXV4/n/P3EX3/988+vZDiG4gS26rn//vd/c0ZahkiI0ZRHk0zsj++3hXaKofFMgQsGw0GMhH6P8v0hyiY5UM1MqOxrKROqd3l2ro8Bujg5aZomAQPvFvOcliEQlmemZZGhQX4c5znqX+tzcpVcYmcoYhKwy4OTzzmdMkKa0Zw2A57uuf7QlbNnkLmv/aLRMbOpQGe3a+Y++fOPM7QUI3fpiHTwFieuz4vPEytfa1+vNQAYz7WJQLOnu6qzu49oh+h6BuNN0lUziuMcKd1r1LYBRUdeWMA89ZSQPfP+ssOhOUcQa+985rkHfYpJs4aaXDtEL3qUhKb7uTkZ530JHQueGdks7ue5399Voarac4buc10glkRY3jNT55xhzn09X0A5AQjVAIb1vs/jwk/p6PFLe0f0hpZrkTqvqT71nMmf9VGzW0UbcabHetjTdrutCuWsRZLwPso1r2VMS3VXTZ6fX++OaHnMoKeuFbJEt4cbs+K1gvvFsJa1woRrpupUnezn/novYk7YBBEgHVNSOK6zqwkCsIdrQC0w0eW+S+fJd7/f768VqI1YqsEKi4xumiqmPObHMbcY7hWMoHnue/rc+f11//waYM0QgifLR3p/3r0wGLTxzVfE4VqVGaHFaPV5n36eO3/z+/XcrxC1LEOKM+2+gXod1iiD7mJIZ58rFzXZZ+o99/1z8uf1/et9Z1g2qg6E8KvD0UB4K+MFaLyDNGPq6ry7+8b3z9PK+rnq+zxm05RGZC6F7yN34yA8pqX1iUnXxVG5prvv01Zqzn29N3PIGIYMUqadfU45RgMm+Ln0FV2dZ5fn6aozPUh135/fL7rBLWYHI9BM8daHTRL8eAG5doYC95eOXKffp6RIYs5zv8lRNviq/dp54rQAIYYOGMgVr43KNYamQvf77bIrNXV07ljQ2SZfuZaWc3lAg7MnLpmxk9x7So1pl+/TM4jUVN/uei5ZTOe2lmN/nbV0Ps9oO2yaYTLplqvH9fSZ9kpJ3x/3C8wGDESaMK61rnN2JxqGckd6Ddvd8DmT5+mW6LTb9b0j3iYbr8DLKpv7cIdhdpqLsVYRGg1mSvrdJSuU4cH79+evMncP1jY5hkdaNbK8nDCJsTngdFdj7uqRjbSb5+f2UKFG8RUblA3WnJFB14uGpOiDGT3qHkdoAOd4qe6nLnhmqchFIYwwyMDAtiEdYLql6umZ8SIwYPYi23Nqj3rlIdgvR0QDLY8tLJkLFqd81MftFinLzAmKqnvP1WvIB7rw/6caEhviAAiyFnSOeojDJXAUStBJ2YYDaKx2gJUWoJly75C1zhZr3vOIbgRXl+xxhiO1BuHeskIlTWo0R3If6omEYgD5QTUZTXGOHRj+DxCpk+oUZXpBAAAAAElFTkSuQmCC\"/>\n",
              "            <a href=\"#!\">\n",
              "                <span class=\"ipyplot-img-close\"/>\n",
              "            </a>\n",
              "            <a href=\"#ipyplot-content-div-fB7unjcHKrQqMBezywsYYS-5hpTTcN4Qgva7BWXeEdC7S\">\n",
              "                <span class=\"ipyplot-img-expand\"/>\n",
              "            </a>\n",
              "        </div>\n",
              "    </div>\n",
              "    \n",
              "    <div class=\"ipyplot-placeholder-div-fB7unjcHKrQqMBezywsYYS\">\n",
              "        <div id=\"ipyplot-content-div-fB7unjcHKrQqMBezywsYYS-bkFV3Nwq7FyZNVNa4vZBsf\" class=\"ipyplot-content-div-fB7unjcHKrQqMBezywsYYS\">\n",
              "            <h4 style=\"font-size: 12px; word-wrap: break-word;\">1</h4>\n",
              "            <img src=\"data:image/png;base64,iVBORw0KGgoAAAANSUhEUgAAAEAAAAAgCAAAAACH9iFYAAAD9klEQVR4nC3VS7JkSw0EwAhJp+p2Y8YEdsqmmfJ7VZmSIhjAEnzk/Nuvv/z1lzMykLG5hFM63f2J308FMr//+OLPf3oDFZsQAFP0+f7rn3//1O49v4iIyHQIAHZ0vmfxxyd+IurdezaJh2s4SBuMhTTfW3Venu8DGgINCOERae0fg+eVqBhk398pizJtG8bMfDqq9vbcNAtpyAZgi4WVWjqv2hSL3KAMYBOBXQv3DLe83TNBgxtcKITAmrGZaThjFfEipgCFuHTa6vPdadS3vtNZpAYLbmzA9AXyZRmaYtD0zv+dgAXN3KseVs9uJwFkehmO9eKMGa+cS2kep5udyyBoR+7K6r6tLg++r/WW5UHIAdlrM1CvEm1hEztNRjACY49nZrrnlvf89HteG5ANcSFbDNOZueRtBchdOhLMxw1oRrozU+PdmRwkYHsBriWkHBvYNLZSopvhfaSwsZ7b53zPVLdudzlXDzELY42NkYYKriccguEl4bR+0FaPduegevqs5A52rC1hbWuMfotC8gZSRNsMVW6TbXn6HrtCUq84D1UYWN0C5RMIzH1jhjRsLJ8N6wUvRup7NVHafr6/u3AfaofedaMG4yC9CEhwfRymkUyA9Lg/d1ZRUt/3ntoJYk3ZzjHLmwUwMzi5BEwosCsYPdvn7pq1unX+83zfnvIugOfpkvlShpEiflaZsWl4GNJip/vz+e7atRu3zklRba0Z3FzpApUCHjyxtlhp71OAJ690v32+Ey5v6U5rh5C8b4HAo4b2tyOYacKjSjtNary3u7d7mC4KmttfMh0ObwbkTNs+E8iIVGWgIlLbjlvS/dx7r+woBj07M04+IhUwMopTK2yud8vIJBSQF7V7uz9HqySLYXo/WVsR5ivs4Bor05BLsNIJA9ICmpjT/T23xNoqGInpLgcZYBLIRWIh212bacCRBkMhte69pw1HuEAqsL547XlqnncTEZxaBTxi+gmHSccEV9b5ntMXiBCLRUMU1EpVOUUjSzOg8NhOEoVkLiCPdO69bTIgVpZvbUArQt+opkg4nlxihXAQzIChHVzPuX3vSghjK3OtBEaRkzfqFhcJBAmgJkjkAvDM7mLuPd1yCBvc+glU0oYkic+//S4FqRBsC2JS8MS21QvrnN0p4CiAoo2kNxcy1RPzCxWW/xdIbK6Cxuz4jns+uxKCRnpRpp+sZXGk1Elav8axZQmGVtgHtKSV5+7MBjNJcuyiiIcFRV36pk2hKqLhYZjugCyQXsztWRFRcniprRSTzIoo7GqBs6p3BimuRGEhAWlrZmcABp9pxyJQdFa/n9cjv/t6L2xnb5AGJoRlLEFKc3rEQtOCwMDqvxpaRq2T1fhqAAAAAElFTkSuQmCC\"/>\n",
              "            <a href=\"#!\">\n",
              "                <span class=\"ipyplot-img-close\"/>\n",
              "            </a>\n",
              "            <a href=\"#ipyplot-content-div-fB7unjcHKrQqMBezywsYYS-bkFV3Nwq7FyZNVNa4vZBsf\">\n",
              "                <span class=\"ipyplot-img-expand\"/>\n",
              "            </a>\n",
              "        </div>\n",
              "    </div>\n",
              "    \n",
              "    <div class=\"ipyplot-placeholder-div-fB7unjcHKrQqMBezywsYYS\">\n",
              "        <div id=\"ipyplot-content-div-fB7unjcHKrQqMBezywsYYS-RPwkovu3VztxpfQsoDZYC5\" class=\"ipyplot-content-div-fB7unjcHKrQqMBezywsYYS\">\n",
              "            <h4 style=\"font-size: 12px; word-wrap: break-word;\">2</h4>\n",
              "            <img src=\"data:image/png;base64,iVBORw0KGgoAAAANSUhEUgAAAEAAAAAgCAAAAACH9iFYAAAEhElEQVR4nAXB2ZJcuQ0FwIOFvNWLwvM2EfPd/kzbUktddUkCOHCm/Pv9nx8PYBDkqr2y21UK8vvXdTW/fs1P+8+3/vX3ACjFGmN+6Pt0A/f++fRAFZqjAUqyS10EynqX10/h6SO4eARmYSViAkkP6xSP55P+/Mhi81gXGxkwKw7r4Nvizfit4+Ny+bw+oVuPl7Q0UAKctdu8uPtYV3ez2QpCe7+hQdNHfOugyMN+/Guo1GG6OlRMpYXnhPhZ+ww0tJlkCxtdElECvPGcodNkPH64Ycyc7GGjHtJARW3C/3d9VnVDULp2JFvJEQ3IaOANUwZ0CKMzLYFURZVUSxx2OZ4RewKWUudORA1WUcwwsLaEK6V7KYo7SvTwMatb5JwTuH2c/RoYVehcL68lKFjAt1g02GZVCTXHjsV+n9xuinJ24Lx8YAfR0sUqYxZChKeMrWqyR65dui88er9wFBgR7wrJjD5ZTj21TbtNxBfOzWxBNmBqEnfc8aev+5p3f9eoB7cZ2SBZcV7LnzM31TJB+LXI+1RDgLkfHcUlBx1WmaiwbmYR6c7syDuP/35/rIrZpeyxWtCes32GPTgsFHiv1FFuLzEdMM3WTqo071hPz+f73helzFa7uqpcbPdWDJu2J84VbXlGEw9x1UcLkNbx2vX69mVfHz8+nu9IeqgMvKnE9sbm1XlndEkP6lG8c2qbikCkwTjs+ONL55/FONp9EExxfasYOfZTwQFJR7vPpoqqNlyM42jwdfi6w1+P5+Pn51/3o3fhgOLXuIadnlfollUml/iYMnSHbFNI5UTO7995v170MH7+9++QMGYz24aoqyMkHMLJ8iED4nOMRZVEl4T06677eW91lmI9P82S3YlE9tWFPLG3nC2cAODSpL/1SUShgOTOr3snXLr3/P5UaZZ2G6CVUJYO7v2ipU/BFLBDpQ9NsK+MOPuOFaLdss7+uiOYIpKtKk0TyBwqQoWkTdU5xEEKooWVe5177WpRAZK4vypXJvHW1PF2CfqOlRSgU/ZuE5OBiq6Kw18Z6/fCgcLdSrr9/v1eCRrNRFSzS7MzRPcMnZ0hQDBAoAI78zujMgFXQJDoL5coszU0dIgNyqkPpdYwuwYaaQkYm5STr9rPF3cMd5rGOjn4soC15JXHWu1iS0hd1Xo9ML3RelhkAnH6ZNQtSnEhiis+xiYh4fNY32ImqjqbLo5LzGDCjMzIKuQdFXX2EU0H2K8IMd5C5ZwhFj0bqkgxoD3NQ03yziJ7dzRzF6XVQO82qXMK6EyF3YPjcGYLGNvC4hrpNdaI01yaxElGu72qhtCrtLglypU5trEeO43dmpHIpHHZGilbI6uqb1qygWEQBDyMIgoQF6TG8oIK11XIOiHo+yGQlNlVt0SfOlWm5/JsqaKjhROnA1eOOkp8XyPRFFTtKZnPK81Z0N29OpRQO28XTKlCB3p4z36UftQShBqrmKrK7tWZjy1jwa7q3AdLpdvbvTlvEg6I6Rjjve4xT6pXa2oMlWxkdOElj6Nyh1VFVNtV2RhB8Mri/wFy+zbXRm3E0AAAAABJRU5ErkJggg==\"/>\n",
              "            <a href=\"#!\">\n",
              "                <span class=\"ipyplot-img-close\"/>\n",
              "            </a>\n",
              "            <a href=\"#ipyplot-content-div-fB7unjcHKrQqMBezywsYYS-RPwkovu3VztxpfQsoDZYC5\">\n",
              "                <span class=\"ipyplot-img-expand\"/>\n",
              "            </a>\n",
              "        </div>\n",
              "    </div>\n",
              "    \n",
              "    <div class=\"ipyplot-placeholder-div-fB7unjcHKrQqMBezywsYYS\">\n",
              "        <div id=\"ipyplot-content-div-fB7unjcHKrQqMBezywsYYS-c2MQdhAovkvNNw7ofZQ5aF\" class=\"ipyplot-content-div-fB7unjcHKrQqMBezywsYYS\">\n",
              "            <h4 style=\"font-size: 12px; word-wrap: break-word;\">3</h4>\n",
              "            <img src=\"data:image/png;base64,iVBORw0KGgoAAAANSUhEUgAAAEAAAAAgCAAAAACH9iFYAAAEQklEQVR4nCXUS5YcRw4EQAcCkVVNSgvp/leYg817WlHsygx83Gcxdgiz//z86wrOwkyfc9qGwobhfMonjxy/fuHaX3+/QwKN5sHtG5O///nv78ifgygXYB6yHFjBoKGf9poC6P3Mu4tLcvdYC+bUoLMsvn82WnIaYNK0CdC726G08zwUEP66NnTMnZe5Y0kzc5dWZPeYKEgkB6QvDHbZ62vlOTm2/b3jHVf3mK2JNodMnl3+xH2mXZCR00PJbAnisvDz1F7Tsa/3j9d7WQ1c1jHWTqqMw/h+spfgnNL0jEmDIJauvVZ+zrquvb9+xC4ZNLSguDgzzKKinsNy0AaaLiOXgDZJRGMLfvkrON+QOL1EbZRDXedIsdrSZVhOVYPj4+HNmeN12vc2U4LmSwZL5xjCSE2nAuFzvmAAiTGf0TBY3d0F9smxafp+28tVANo5wKI43TSP01njEN3MYZ1iwJWniazvZDS5V149giYwHr0IVuewKu4fVblBUAs2rTNGa6V9r3luDQfKMMph1peFsAbeo8pTijn3+/UKyacNrRr1tND9cW/ZKjfTPATXWgvhgKuXNOc+VGAysx0jiRQ0Lh3HzQrDa1yzZLpLs+IPunPDhRp15vCJes79/nLDOGAwub3z0qnOl2GljFau3c+8+Hm3w1xQo567+snoPJ+vrqAwGri/EejqPz5zLbzI+TmPXe+H8yzqa2K2IcH6PPXkHbfd/ucxmVqkSL9sv7y3GV+3vBfeMLxfbWz0GNaYs5F33ndNfNa/113hrlary0C/vN32DTBlfl2xes+FSLjaZ2x6+tG/32cUWVOf3AvDIUWjLSzzTztzSnZNw70Yf9qFGRcTYnaf30V6zPT5fIdeI3Hcxt1FacWrhmU+09u3+9fWW5+yVSY/XeecARAg63O/YCS3zG2tTQ3dX94NczPB3mHXpmMZc62pyTPfRQBhVPvvS0ttNLwYO5ZNTYsVRR/6jOB9bXYDbeq0Os8HclesTn9NRoNymWLBGnKhK7sr9+hCgqHjZZE40GH3/UhyBOZco+5eVrSYFaxltl6m/kp3uUvqMCVt3NahOI/lr0PCXjFWz1W5GzPltAhqqLX5QtomBYdvh80SiG5NZa5zkw5TQP287wurJ8G4Lpk41FpmS2Pu49GOcCfZlWRnFT8PIdcEpef+0TZFzzGNLbSIlm8GF7gNL5mRQ1HILlH1QIKZwlreh6JoEFNXLPbi8P8VtBmcptoszKPiFHKy10puVxyzebrPD5Fc7W3igIDLfQCXqy3KW2BWzyHEaUXKCETbUosjUFzRmoiQQSYjIamkSAeomclRc4Y5e4FDi97ePppS3EA7Qcloas8ZiBKQZsvZZNZwADzY7t7CBGgRJjOzUFu5mU0A3Si2EnQbl3sQ9XQ3TEUHpmGiAlqb4XDjIilJXJJqCtk5Vs6gmw9UPU2/imxDD5zE/wCl5oU/js+X3gAAAABJRU5ErkJggg==\"/>\n",
              "            <a href=\"#!\">\n",
              "                <span class=\"ipyplot-img-close\"/>\n",
              "            </a>\n",
              "            <a href=\"#ipyplot-content-div-fB7unjcHKrQqMBezywsYYS-c2MQdhAovkvNNw7ofZQ5aF\">\n",
              "                <span class=\"ipyplot-img-expand\"/>\n",
              "            </a>\n",
              "        </div>\n",
              "    </div>\n",
              "    \n",
              "    <div class=\"ipyplot-placeholder-div-fB7unjcHKrQqMBezywsYYS\">\n",
              "        <div id=\"ipyplot-content-div-fB7unjcHKrQqMBezywsYYS-FDyGcq3rLfXabM6ZyhctM9\" class=\"ipyplot-content-div-fB7unjcHKrQqMBezywsYYS\">\n",
              "            <h4 style=\"font-size: 12px; word-wrap: break-word;\">4</h4>\n",
              "            <img src=\"data:image/png;base64,iVBORw0KGgoAAAANSUhEUgAAAEAAAAAgCAAAAACH9iFYAAAERElEQVR4nC3VUa4lOREE0Mi0XfW6Z4aR2P8+WBMSQgL63So7MyL4gDWcjxN/u/+4ljFghWjCtkZ1nl/v+6aPfb4dv//2158LY8BCJ6GUan///R9zX0QAQEwEGrL6rMDuz7+fI+zMcxS4mppQBEc4BIk476n5fikUCKcsikK/zdv17v3sTx/mWBdEdWpmIgk7IEn7KOemhQHZsCST55iJ8jVzjM9becePOeJcCuWYTAWAQHQV99xdDIWCICUWGc4srFG642RFjjV+LtQEE06FELC0wV3zw+5EBCy43aCEJYx3fWnX5Zl55f1jJgFPjZUBIUGy6nBWSTWGUxBJ0/YI9FHnIC4DIzNyCMFwSFhpZaJUW5w4rLADsLshQWNGnU9hNDnuhNmXFYxsG0HOhA/IU/Dk2V8OhxKCYQCR3N/vJqLYQJXWuLmGYtodKK2U3S1jzPr1p62oAcAwxYhzvr8/24P1aUS1b8YXsi84VSM6kcWq0/vMZ7U0ATqQQRraZ3/vItmHMIUAzqwVDk5DmUzXVp1Tnn6efSHkLBhwU7XrPUYII5V7aAJV+U7e2TmEYZLubjWn+3m/Fu0GYaLfU9zdTUyMtWccpKPexMmlhEYmUM06zTrT57P3mkmOsPu8u3xqmE1lsmn5mcbm/IqccyZyGAqdzVM1H7zvkdIKqdWPOqT0V72RNqGIU2uSVPDrCwsT48hdVe/u+c/fn3/9dkZn0Ko6R2mMMT2XZzk2MZNMuNtkKIZSbJ+n9lua31/Pfv4iAHJzP3sE1tyQKwLKAXkOHjsSyMK4mX10Kj+fzZjnuZ+n6zItdh/xClH81DuiujAkiqevq+LiGy656zR7F43pc77/844YdFOGtYMMR8zRD4nFZNzZc8TXFSfvUrvernMsjkn2+/6asdhIx7BXhp1X/vQYT2gxObI5EZfl/ZlGeZ8654QxLVd9bhBEOO+NH3c89dZYjtsRvnBiXYE14gNAlN7o93myGT2H9sXnj6O0BiLv8ePG2gNuhm/3NCexVlzCV0NxgoendvUxPDv3j8MdmnYjfc85c4xxyXt0dMsFYGEtcQzS1n4P6lGLGLNzPp/nE2qknBP3yITvS/zS/2hcjOUrR7pMZZ/njL2xZWhKfL4+95oHKV15X8sCEk7YaOXo4Yy1gjEoUtW79TZJB2eIfD4/fU4sOWdEoilI0lG5HVIiBsJ0ZnSX2eflOXR6wj34PGcWgojVUyMaKp/+HEtK+ArHbIXoVhfOkRLqIUwi1fs5lxs5ulZNREJQ9+6yocgIgw6cqrNb3UTARCdmG6vAZ7bb6+5XecXU7HCzZcLDPRiGh+p91CWhYYlWzE70Le7lWUBacRIyVK6WpQQNBDGLcb63S+paTUqAJ8zhFjvtZHvWqrSdNMI66EgEELOz3vccKuU0aktIT3AuZrgn06YwKnOQrYpA0xG6AmlCddSF/P/MQpr+Lz7KqijBissgAAAAAElFTkSuQmCC\"/>\n",
              "            <a href=\"#!\">\n",
              "                <span class=\"ipyplot-img-close\"/>\n",
              "            </a>\n",
              "            <a href=\"#ipyplot-content-div-fB7unjcHKrQqMBezywsYYS-FDyGcq3rLfXabM6ZyhctM9\">\n",
              "                <span class=\"ipyplot-img-expand\"/>\n",
              "            </a>\n",
              "        </div>\n",
              "    </div>\n",
              "    \n",
              "    <div class=\"ipyplot-placeholder-div-fB7unjcHKrQqMBezywsYYS\">\n",
              "        <div id=\"ipyplot-content-div-fB7unjcHKrQqMBezywsYYS-mMQP5Jp4u2QDnuZLacjRzq\" class=\"ipyplot-content-div-fB7unjcHKrQqMBezywsYYS\">\n",
              "            <h4 style=\"font-size: 12px; word-wrap: break-word;\">5</h4>\n",
              "            <img src=\"data:image/png;base64,iVBORw0KGgoAAAANSUhEUgAAAEAAAAAgCAAAAACH9iFYAAAEO0lEQVR4nAXBWZYkxw0EQMcSWdU9lO5/CF5MT3/D6cqMAOBOM/vbX6+YvCBIjXFRI+Wbn7LrZUU+vz+K1xcuizCXWSiRkvj53/9TAN0MDhONEFQtVM/+Z35d1sL9e9/XX7gqoIQlHGYUrPdG3n8BAsUQDCJVZxQ6NZ/zOJuY3XvitWZWuDlNBp8Bdg3y9NKY0QcOUt09LemZfob2c4ZeLqkR3QoIDoBw9rnPzplKRzsMDWq65W7YuyDGUypKef33++UBodNEuUlUT53Jz/fqhBVg1PCQNrrG4vj3qKZk4fHrey1YgCzAjHIbTdVU7vNSmzNo1j1EyMIM8RbmtAm5bF3jx2jm7SfTCbh69mGnD9pN3i5Wm2gKW7wowRiXpcEWHJpOCUDPcnFsekadfU7Qe0maISQZrgiGT9OWfJ2Rv13iKMRZ0L6Cpi6JyNkjKcoSMkCEZU93tVmhyrcKr+1Z6reZfGeIjBY1++n8WTUBol1mNgMbxsyc1nACxCwOJgIsES64SWpoau/J+/t0mnE4cG9R0GGziOOGC3oRho2vwU+mhddKU9OkUz2JriZSGjuLHG7JG30kujvUMEGbdPYvhZaZDCT6PNOTvXedq1yVDlWfKWdlc8ZpIm1wcrTLkncuUypNlHpP7TvP89xxDTCGHvU+jWJ08lzWUdSsXRY209NvpqXDD1X7fp6n8on7dR3by8utZ+7pPrpmr/m8d1Z3dCFppkPNewU0mLbz7D8/++TP9Xmfc2EG5r1vwWesoL5XFUdmSDYY6UaXFORM45l772159qvv5SId3izv/F4tdRdRPQgSoiZe0ILc9bwwZXP/+ZxG8vOfJ6+Aj1mOnIl0806m5McN9M53X18XrjwtHGPWxrnvrrEk2J93rCk3a9rEMsWk5DbfN93pyKBW+hWCtcc0qmp/7pGl20k73uvOtEFkfF146hyGc3FCEicv9+vyToADVNTP/jMNY0bvXLVU0wuTtq7XUjxQzwzITjFlFq83sPw6msY857nvIrJy7Lwwe7VMdOe13IIv82Kn1inLCbPLMyQPTtHqbJ5/zjSwcuTPr93fBeYYL7vcgv7Oqib5TuMFWEQoiJFO9L5L+9QRZElXP7jaPl5ftOWzrAUhCTbpDjMPW+GCsYfV/TTvfThmk+l4MhyzcX0imoT1OIW0bTB1mLmHmZEmic9WHT2lZsrcjZiGamZ2dZ85AgWAxgEIgww+6IZmTtXZNc+sFwecBE3nfA9bTuuuClcAboOgucHlDnlDU93nvnmmaKsoElkOH9NQDQ8+kYmFcFrS1xAjDwu4Dx29n6kmbdxFjJgj00s93T7Ox3fEK4LudGXDAJnMRMtD1M9nGpoKAPGYTUq2ABnMpebjZ0XLwkGPcYrLqEqCOuc+Z2gDIPdxYJQ2me5usQgquvJxz9VGmuVus8YSRNj0s0t0wQbdsgvkvwNKYKxGOeiEAAAAAElFTkSuQmCC\"/>\n",
              "            <a href=\"#!\">\n",
              "                <span class=\"ipyplot-img-close\"/>\n",
              "            </a>\n",
              "            <a href=\"#ipyplot-content-div-fB7unjcHKrQqMBezywsYYS-mMQP5Jp4u2QDnuZLacjRzq\">\n",
              "                <span class=\"ipyplot-img-expand\"/>\n",
              "            </a>\n",
              "        </div>\n",
              "    </div>\n",
              "    \n",
              "    <div class=\"ipyplot-placeholder-div-fB7unjcHKrQqMBezywsYYS\">\n",
              "        <div id=\"ipyplot-content-div-fB7unjcHKrQqMBezywsYYS-eZ3hA8Zu7uSmxiwwRCSoku\" class=\"ipyplot-content-div-fB7unjcHKrQqMBezywsYYS\">\n",
              "            <h4 style=\"font-size: 12px; word-wrap: break-word;\">6</h4>\n",
              "            <img src=\"data:image/png;base64,iVBORw0KGgoAAAANSUhEUgAAAEAAAAAgCAAAAACH9iFYAAAEzklEQVR4nAXB2a4kRxUF0DNERGZV9b3dbpsXZCQ+gZ/h33kFISQs5HZNmRFn2qzFf99//dsviTGIz/vzfbi3z88Prn/988y/6v0f9bP897f88pc/0/gT3SMkpO96bfbj3+d/7jGaQhcTpRHcjmw2rpcv2/L926+P388sv7f+80H+49oBAidFSy27321W8tYw2L2sC9n5ZJiO/UI52riuP+Z6z/fRZf+qW//8UItaUMYqtcd9lkG5SS+eHCUehhMayXJi7HcZH/U/n7yp8JfP/fb9EpEu4VtseK9pMUGZrYHn1EK4pW1vEPtBgc7n+Jgfz2t8lcJ2+7j08ioHkrbHT+daMydLWHv2l7+GUsWh+pwp+5RzLHy4MuklFssQVcljFkcVyESWvmzZWVnV8L7NVntIVH8+TbO+P6fYmj1srepANR70QJZqmPMovxxyvuoMC0ETzt/ophCm98NNmZ5+fL4zZdfijamFN3+E1Q4pLmDki6edsFolaLq5/rFNqeSz3GqMdsxR+coNuu2mleHe3FXkEOYipknncYZ5haAlnPkdm23ZeXHlex2WyRmmkj5Tc/rNZZiWJQZlL6znaWdEIqsZsfNJNdLTEU6vG0BS8n3FLThso1VTyHlVkVXP+lL+smVsAKEFYn41Iq9a4oBD9m/yJV/76/iOOPruzLRxCJEmp1RqTLNAUaZS42Njf/60cnczXcmtfQxc4zVPWWGPUaJ5S9phWZGRdZlqBEkYMbLlSXy2c9C9ZnJxbsEdctbrx2UdT9l4PiPaODchOCqVJUsTbEIBiFEUyu10d1RVD10SB19IyMZlu5ZqE9lUGUlMJA6baZ5QgLUt8dGnosUiX9QgNl6K1W9zC7pM39fOo7curl6iiDGPDPYqFEhbvPYMkQsBNZaQULzomzZst53eAmnjxkNqbW1KdqusF2qiwAEhaW32HmvELcU3QXTwrSXfkkW0r12bmHfNa6PX0DkmWwRHMlHlUG7SALv249pmkxJ2vlD3PVOQ80Foi7yy7UXJHxNBUZMJEOYS4tZa5aric35sj08ptgsoaN0xbNXhpYSl/fMc76x3sGdYAcFEYFUdLcci0GI+LpvsEUSxhJ4rKj3iBQZnK5+TXI6cmcupkplRqqLUpGT11SS0pOa+pPM5maoiLMxJnAVyrwHCikA4sqJxFDVIU/GkZliNmgokqH2c9jonRk8vgi044EeLiJWlnkXKlSxRLKpbY86JaMWVhbGdfVdP7N4NRCFdMsagMiCREUUgpAoxiAByuTAXl9dGOc2TWl7ItOLUMCImgo7KWvGuteyk5EIpczIzJ6NtYWjkbEWYaUReKeeeRK1zz62IkduLixEWgQKAasM0waIl7KyRmxjn5hHXEwa4sCUaE4t3jTZLHMtAVprqhG5dOaFQOYilqT6SRaSDYukgvcAaaHSqS3aawa+CVZwoQyhR9ehJnaxkbUrSojlGFWQCmn3YYEqJqKyKZVsqJ9xqQ3QuVU1AiRgpG7hvhSbcSluEToxNOVqhlkumWNHByUJEHQLmxoNFlyggaFS9F11pDPl6zCwfJ3n3dOHVT/Z9UnK1AHkPTlBKNS5RjkHRqIGu9LhKvza+NecmlMoBR8QiipgpQVRUYG6FaipKzUgIaAn9P+oMWmts8GntAAAAAElFTkSuQmCC\"/>\n",
              "            <a href=\"#!\">\n",
              "                <span class=\"ipyplot-img-close\"/>\n",
              "            </a>\n",
              "            <a href=\"#ipyplot-content-div-fB7unjcHKrQqMBezywsYYS-eZ3hA8Zu7uSmxiwwRCSoku\">\n",
              "                <span class=\"ipyplot-img-expand\"/>\n",
              "            </a>\n",
              "        </div>\n",
              "    </div>\n",
              "    \n",
              "    <div class=\"ipyplot-placeholder-div-fB7unjcHKrQqMBezywsYYS\">\n",
              "        <div id=\"ipyplot-content-div-fB7unjcHKrQqMBezywsYYS-2YidQsPHPaeJ6hxZo56wXA\" class=\"ipyplot-content-div-fB7unjcHKrQqMBezywsYYS\">\n",
              "            <h4 style=\"font-size: 12px; word-wrap: break-word;\">7</h4>\n",
              "            <img src=\"data:image/png;base64,iVBORw0KGgoAAAANSUhEUgAAAEAAAAAgCAAAAACH9iFYAAAElUlEQVR4nAXBWXIlxxEEwMilqvrhASMah5TpoDqyfkSjyFkAdHflEnKXf1eKtcsQrCKG6XrF3//z8dB+PJ9dW/K/5dvL3g4rla6U6n0i5scfP8LFLwPK7tEhmK3qKc8//9r5xV6+XJoZcfLz54uZ16CUlOyq3Vn5vmEeZAywEEIZW8yE1H/1dZ52dPbO+9OtMJZslvdFxw7emqyCtvOcm6CUlrk8qAoKH18/IwTnvjtd2ON4iFeiIHWi6y6nVibC22T0aM0U4xjBNENveRtnHMkQnQI9BlxHtAjat7YqoNUS7eeoGWLy2DbcY7q1Ve8La8Ydcc8FtTEcYIYpXNsFLCiqm+VbPdwsbPqy8tWqGUHRtFK5S1JN2fcozkHpUWL3QKl2Jm9xSU81HTqEHLa1NCrV/KIJxxQUm1HuoNJUhlzO6Rd2VTU9rbiXGWTcArPesRmKO4sLkXBuT6BVcWk/ZW2HBES6smEOFXLrCmsTRGxYdE5k75CFLbA4Kd45N5U6ZZZWC6uis82vV5GI1VC0CPburiJYXXeNIdXTErMSqFafoSKju5Nxxcb2Oyc9qi2Nohv98yNpog95rB0m7sceniYtYfXCDTUhk3cErcX7/RXtFSqtDCDvsyhGHKFqkQeiO0/z/a7HlzW6AZDF/GRQylF7O0/d1j5YeNFnyH00j2vT7nZl8T5lpI1j+dzXYbur8r4309S5HWRfVhAT+MsXZ90sayV4w6mxE6vLj9GgsHd/lnycVe3SbtwycKFFwrieh9t1E2zVQ+PhbJ6ur6yq5aZVmijQj78q2dZuMaysr6GqparuMs7NTxtqqSZBcdDbhcMtq4VRpD5fP1tV2zHh8Gi25nZkhO2PrG6tb1QRbclyryFjrg5YYZP9yX/En2EQX7/gPuvYYpZQIIg7WgZlo4TahDBGcaUw8zqkig77gcdvf2+K//Nrfq89pKnGrsxxvmNLytWa7JbuXL0GIdtRmxaoFS/jWs7vF/X3t3G8SURWm3cLKiNBZPKODl7R2sOmZjODWpvp1+SrxPr6Ky5/4dH86Cx3owq9p4fVaF1gjzrIXHRRGWa7Ncq5hT1GF79+O12bzZGyS3Wimoa3O4SvQpNSFDo8sVYNQpHa5bfKqNeMc7z+dOs/TkGOXfe8VrgsG5Yr0CZaqlpNST2aaDJBsc7RINZk6nD96/uAiR4f9f6s58eB53EvndKGfGgZUlsRKpKZIHmJVB0v70ve/mPmcXooXPyjmocMcMJUt82WcU7XFteSEjLvQHWluexyq/vx5X35j/c4f78scASvqqEcY8wQZhi0WBxIgSUakJvZw0tkD9M9f/n81X9mRiNbD4QESiljhUtYFESrbN+Dwp3MzjLjcIqa+PXt5XW++88bU9Zt91hA8mNQ1j2GyRENQ3LFPCnZ1Sxq2QJXXRJ2SdDpPfUEXB7XQwDRZDbUH6uZtFICFwoJyDZwqAlCYsq+59Gk10LdClD2PBJENXSkiQJkeRFWN0lAy33EFPTZD/bHs2yqQ2HxcM1BU08lJDTdVNqbFdpy6SWt3lM5ZNSSrsewexwv/fjt/yrQ6BnnbUlLAAAAAElFTkSuQmCC\"/>\n",
              "            <a href=\"#!\">\n",
              "                <span class=\"ipyplot-img-close\"/>\n",
              "            </a>\n",
              "            <a href=\"#ipyplot-content-div-fB7unjcHKrQqMBezywsYYS-2YidQsPHPaeJ6hxZo56wXA\">\n",
              "                <span class=\"ipyplot-img-expand\"/>\n",
              "            </a>\n",
              "        </div>\n",
              "    </div>\n",
              "    \n",
              "    <div class=\"ipyplot-placeholder-div-fB7unjcHKrQqMBezywsYYS\">\n",
              "        <div id=\"ipyplot-content-div-fB7unjcHKrQqMBezywsYYS-Drn2kyC6nc4MzYC85gjksj\" class=\"ipyplot-content-div-fB7unjcHKrQqMBezywsYYS\">\n",
              "            <h4 style=\"font-size: 12px; word-wrap: break-word;\">8</h4>\n",
              "            <img src=\"data:image/png;base64,iVBORw0KGgoAAAANSUhEUgAAAEAAAAAgCAAAAACH9iFYAAAD+klEQVR4nCXQQZbk2A0DQICklN0zvrwP6p17KqVPAF74BvGC/17e3L7YLLgf6/v9nk//9a/G5/NLgvyfP39+fr6c9/78vq4U4gd442c5y/x8NtWLQp7V8/y4w59w+6/fbfF8//z3HJvYynWThB0tzsOaM9RqKYLM5vke92fGOt98797gnH++BoZXLJ2pdlkv/KozAan4VJpQ/Xwf9Oe6P88/zx88lbL97I79qYIM+7KJiD55MQLGPhqzyOefNa/rGsfPVxdSOXtYzgczp6Dm2wSEnPhovgMgluFi9g0qro6COsv8RF5+che2rz0CDBJJzJydh+G1eX8J5pHiBlC+zke1OjmV6S5sZouk3SFj29J7RoKfBrYMpXxYcw9vvvOr+l3dmTSwiAMM1hlGKsNr19qvYQrE0Lo+NTWpvuH5TE1TTICA+yphEBWcdSUcx5OFi0RO1cyAKqF+eUUgoCaptICXA5YJYh1YNeaInQIDFXsqXtcyXXFVOi0GUmEpzUc9WSPFnx2NtsHDlDu9XVDyMhXkfY68B4wf9J6Ksx9WBwkrYeg5//zNUw0vgpo6hi099CpeZzOi3k6Cq+7yoGgX5JPOQO9V2IrFQMsLjffy8VvHPoaxjU7UdV3DMA0z4h7QE78V2qytyhI9d2r/7nzL1pN9+xCIVLn6/1uJibxLYMg9nySV7UHY1PH6+5nf/ZHX76vX1naabFTJIUA/m3EGjs+ELjwgr9vZKuXZ3OFCdZXz1fbvcqGpuJNCvODhVJ1sBTB8/i/kpete+efluldwhI+rulBA4ooRm2VNNWNd30aKKKv56SzHj48WEJTrWnYVmwFjEInE2u3JZ8++v9jKTjmH1zW13MeoUA1tpVOYOlH7gOaBpL5esAbkDBKaFsqAbTSJyIKSgsJ0Ywz56NCJVTOXOe2uxz1lIAkY7FJwblxPhALgFGIkbXFVhqNq1t/PUFcPq88QgDctEGT/peb8PgeLmARoIw6SldtMn9wz90Hx1Qeht3XvZYyvQvOjK6+l8EmJqliAU29AAC9DTH2ICz1Hsz7XuYRsBw2gJtHIcbmDJxDWSsIFKqnB1C/UO761HmmrD64mojYdh3B8L+P1iaONAAb67FzUXL+MAB+bVzk6lG93PCQlBz4gopWMw3UtGHqS/PLMp4DLxduWUcmT8rWIM3UsZGM61lFWcr8mOaeKd/EM3LiPxmTvLTNS6QKZY1uREGOpta1NWTWTpsOi51OT6e8IffPloR1DVaJlKw4EKJYRIG5O435LhXd6Pq5Pan3fWx+ZHMXW5cGx13irImChGHFyg7OYL24YmOb0wY25bbZ50JJTUZI3ShYRoIQW0VWcYj++5l7V/wAByReaAmtFxwAAAABJRU5ErkJggg==\"/>\n",
              "            <a href=\"#!\">\n",
              "                <span class=\"ipyplot-img-close\"/>\n",
              "            </a>\n",
              "            <a href=\"#ipyplot-content-div-fB7unjcHKrQqMBezywsYYS-Drn2kyC6nc4MzYC85gjksj\">\n",
              "                <span class=\"ipyplot-img-expand\"/>\n",
              "            </a>\n",
              "        </div>\n",
              "    </div>\n",
              "    \n",
              "    <div class=\"ipyplot-placeholder-div-fB7unjcHKrQqMBezywsYYS\">\n",
              "        <div id=\"ipyplot-content-div-fB7unjcHKrQqMBezywsYYS-TWsgsMchALoKwHdxyzLqdX\" class=\"ipyplot-content-div-fB7unjcHKrQqMBezywsYYS\">\n",
              "            <h4 style=\"font-size: 12px; word-wrap: break-word;\">9</h4>\n",
              "            <img src=\"data:image/png;base64,iVBORw0KGgoAAAANSUhEUgAAAEAAAAAgCAAAAACH9iFYAAAERElEQVR4nAXBUZIkx24EwAgAWdU9u+TTh3R2XVNG485UZwIRcuf/nncYKNM+5/ns58/nh7/fv/S93ujnH1Otf67nretnLb5rIcI74JJ6VztdJ+2kua3z/Bxdef6vfr4P/tXumv7z+cz7xZvhT3N1AqY9PlO7CMSkmvi0znPIda2YK07rz589dwLQ63ohO2BtsDMs6/j7q0JKMiWDmue0XPW6bnPVefw52nfyr6+VmRFwDmyivHnUEaXsGyPzE9jSsfN63W+C8d2S89r719f7P0l5/Yyc6SSA4J4KlVaL5IwlP9NYvtfviI0sqzlXVtV//rrm2bz29HIgAAATDlWvmGQeGiGdHL5eVySDWfeTybxj/bojsAxQM8F0nLTgTtR07KsJXJqO+qx4X690rMe67r/SRa/F8CAPYlntKGM7ottVz1un0CDymFp3rrtsyd9SXcNrTsV8IpqQVsvQVCslnETNvsLikAoMX1UBaDB75tNNt5rhIRjdph0RUj2GzI56royTpqEZV8ITn4bc8/OcNltCnA6EJ0QgSOh4MBx29TncK+SIaK3VM/LM4FvfPycYZ84t123SAaeBGBtmfbpZ7M3qZQEHGfCe48b3/pk5stGGJr5/BUOvCtSkaJvUc7Krz1uNDEla4/PpE1nS6U8P2HZfmvZWRDKiUAoLYWmoT+3riYNIeKyQrKZ96vfXj1qxhX3vWMqYfT+xeJ0cjzjsY7qeX1LmJKy2gx+gf+61KxJxsKcevTpHyuqaCVNqKAyJYvzbZyYli3IEKPf710qyMoEE635dhHkt9gDCyEJEtDyo3VePQhgBnKPTr//xDjf2Vju3Q/VR1jW1yhioNUn6ILtLz1f3xOeGFM7dj/7rdvmzDv7dA1iBdd+IvGHrk247OqmgDgvHer4wPUJ4fx7H18JRtHHPkA1EMC6t0NPOkacOBemlFVWffWm/wxpAPcO/rzmjnhkiB1gD00rH64xlJ05CzF8WWTnfN7shiu5uvv+u2d2SPZC1mjjFRKquIwkIMcX4OrqmoIcJIdLW7I5fK8bdvNvB3FAgRwuGGHVkSmjGrBzGK0h9rnCOy1sT76+XzMjlyIWsiIwMQgU5TbQx1kbiUJHFqu/zxYLX7C1fr0Izgt2yzJArLkQEue1RDkXARSbvqLxfeb50YRu067KHhE1wQzYolheCZ9SWpQDNhOK1WFGOR79jzVz8MyvdDuczaXt2gEOKQw0x2K0SZnFdPqzIEq4qJOr1bzMTOIAOEdLQZVgJwbTsfqYtZ2hlCRULdd91XxcxfH/3a2pC7BAHRguGZCqU4/GZPXUclRUkI+n6++8V9/utvfMyX8F2WLbd2vIIRjOrOdLsR5NpR62Jr+kV9d+/zXu9t5d97AIkNU35WDMcB9sYyKenYSOMovHqzyvrffnmfVU8gdA/VpW2BFjykSieTn3MidYIqkCQMfGa7+H/AxlqANKEMLOJAAAAAElFTkSuQmCC\"/>\n",
              "            <a href=\"#!\">\n",
              "                <span class=\"ipyplot-img-close\"/>\n",
              "            </a>\n",
              "            <a href=\"#ipyplot-content-div-fB7unjcHKrQqMBezywsYYS-TWsgsMchALoKwHdxyzLqdX\">\n",
              "                <span class=\"ipyplot-img-expand\"/>\n",
              "            </a>\n",
              "        </div>\n",
              "    </div>\n",
              "    </div>\n",
              "        </textarea>\n",
              "    </div>\n",
              "    "
            ]
          },
          "metadata": {}
        },
        {
          "output_type": "display_data",
          "data": {
            "text/plain": [
              "<IPython.core.display.HTML object>"
            ],
            "text/html": [
              "\n",
              "        <style>\n",
              "        #ipyplot-imgs-container-div-fB7unjcHKrQqMBezywsYYS {\n",
              "            width: 100%;\n",
              "            height: 100%;\n",
              "            margin: 0%;\n",
              "            overflow: auto;\n",
              "            position: relative;\n",
              "            overflow-y: scroll;\n",
              "        }\n",
              "\n",
              "        div.ipyplot-placeholder-div-fB7unjcHKrQqMBezywsYYS {\n",
              "            width: 200px;\n",
              "            display: inline-block;\n",
              "            margin: 3px;\n",
              "            position: relative;\n",
              "        }\n",
              "\n",
              "        div.ipyplot-content-div-fB7unjcHKrQqMBezywsYYS {\n",
              "            width: 200px;\n",
              "            background: white;\n",
              "            display: inline-block;\n",
              "            vertical-align: top;\n",
              "            text-align: center;\n",
              "            position: relative;\n",
              "            border: 2px solid #ddd;\n",
              "            top: 0;\n",
              "            left: 0;\n",
              "        }\n",
              "\n",
              "        div.ipyplot-content-div-fB7unjcHKrQqMBezywsYYS span.ipyplot-img-close {\n",
              "            display: none;\n",
              "        }\n",
              "\n",
              "        div.ipyplot-content-div-fB7unjcHKrQqMBezywsYYS span {\n",
              "            width: 100%;\n",
              "            height: 100%;\n",
              "            position: absolute;\n",
              "            top: 0;\n",
              "            left: 0;\n",
              "        }\n",
              "\n",
              "        div.ipyplot-content-div-fB7unjcHKrQqMBezywsYYS img {\n",
              "            width: 200px;\n",
              "        }\n",
              "\n",
              "        div.ipyplot-content-div-fB7unjcHKrQqMBezywsYYS span.ipyplot-img-close:hover {\n",
              "            cursor: zoom-out;\n",
              "        }\n",
              "        div.ipyplot-content-div-fB7unjcHKrQqMBezywsYYS span.ipyplot-img-expand:hover {\n",
              "            cursor: zoom-in;\n",
              "        }\n",
              "\n",
              "        div[id^=ipyplot-content-div-fB7unjcHKrQqMBezywsYYS]:target {\n",
              "            transform: scale(2.5);\n",
              "            transform-origin: left top;\n",
              "            z-index: 5000;\n",
              "            top: 0;\n",
              "            left: 0;\n",
              "            position: absolute;\n",
              "        }\n",
              "\n",
              "        div[id^=ipyplot-content-div-fB7unjcHKrQqMBezywsYYS]:target span.ipyplot-img-close {\n",
              "            display: block;\n",
              "        }\n",
              "\n",
              "        div[id^=ipyplot-content-div-fB7unjcHKrQqMBezywsYYS]:target span.ipyplot-img-expand {\n",
              "            display: none;\n",
              "        }\n",
              "        </style>\n",
              "    <div id=\"ipyplot-imgs-container-div-fB7unjcHKrQqMBezywsYYS\">\n",
              "    <div class=\"ipyplot-placeholder-div-fB7unjcHKrQqMBezywsYYS\">\n",
              "        <div id=\"ipyplot-content-div-fB7unjcHKrQqMBezywsYYS-5hpTTcN4Qgva7BWXeEdC7S\" class=\"ipyplot-content-div-fB7unjcHKrQqMBezywsYYS\">\n",
              "            <h4 style=\"font-size: 12px; word-wrap: break-word;\">0</h4>\n",
              "            <img src=\"data:image/png;base64,iVBORw0KGgoAAAANSUhEUgAAAEAAAAAgCAAAAACH9iFYAAAEPklEQVR4nCXVwXUlyQ0EwEwU6jfJ2V3d5L8Bsktn6e2Qv7sAZOqgcCL4rz/+/FzytuFpd1gQzzO//3OXV4/n/P3EX3/988+vZDiG4gS26rn//vd/c0ZahkiI0ZRHk0zsj++3hXaKofFMgQsGw0GMhH6P8v0hyiY5UM1MqOxrKROqd3l2ro8Bujg5aZomAQPvFvOcliEQlmemZZGhQX4c5znqX+tzcpVcYmcoYhKwy4OTzzmdMkKa0Zw2A57uuf7QlbNnkLmv/aLRMbOpQGe3a+Y++fOPM7QUI3fpiHTwFieuz4vPEytfa1+vNQAYz7WJQLOnu6qzu49oh+h6BuNN0lUziuMcKd1r1LYBRUdeWMA89ZSQPfP+ssOhOUcQa+985rkHfYpJs4aaXDtEL3qUhKb7uTkZ530JHQueGdks7ue5399Voarac4buc10glkRY3jNT55xhzn09X0A5AQjVAIb1vs/jwk/p6PFLe0f0hpZrkTqvqT71nMmf9VGzW0UbcabHetjTdrutCuWsRZLwPso1r2VMS3VXTZ6fX++OaHnMoKeuFbJEt4cbs+K1gvvFsJa1woRrpupUnezn/novYk7YBBEgHVNSOK6zqwkCsIdrQC0w0eW+S+fJd7/f768VqI1YqsEKi4xumiqmPObHMbcY7hWMoHnue/rc+f11//waYM0QgifLR3p/3r0wGLTxzVfE4VqVGaHFaPV5n36eO3/z+/XcrxC1LEOKM+2+gXod1iiD7mJIZ58rFzXZZ+o99/1z8uf1/et9Z1g2qg6E8KvD0UB4K+MFaLyDNGPq6ry7+8b3z9PK+rnq+zxm05RGZC6F7yN34yA8pqX1iUnXxVG5prvv01Zqzn29N3PIGIYMUqadfU45RgMm+Ln0FV2dZ5fn6aozPUh135/fL7rBLWYHI9BM8daHTRL8eAG5doYC95eOXKffp6RIYs5zv8lRNviq/dp54rQAIYYOGMgVr43KNYamQvf77bIrNXV07ljQ2SZfuZaWc3lAg7MnLpmxk9x7So1pl+/TM4jUVN/uei5ZTOe2lmN/nbV0Ps9oO2yaYTLplqvH9fSZ9kpJ3x/3C8wGDESaMK61rnN2JxqGckd6Ddvd8DmT5+mW6LTb9b0j3iYbr8DLKpv7cIdhdpqLsVYRGg1mSvrdJSuU4cH79+evMncP1jY5hkdaNbK8nDCJsTngdFdj7uqRjbSb5+f2UKFG8RUblA3WnJFB14uGpOiDGT3qHkdoAOd4qe6nLnhmqchFIYwwyMDAtiEdYLql6umZ8SIwYPYi23Nqj3rlIdgvR0QDLY8tLJkLFqd81MftFinLzAmKqnvP1WvIB7rw/6caEhviAAiyFnSOeojDJXAUStBJ2YYDaKx2gJUWoJly75C1zhZr3vOIbgRXl+xxhiO1BuHeskIlTWo0R3If6omEYgD5QTUZTXGOHRj+DxCpk+oUZXpBAAAAAElFTkSuQmCC\"/>\n",
              "            <a href=\"#!\">\n",
              "                <span class=\"ipyplot-img-close\"/>\n",
              "            </a>\n",
              "            <a href=\"#ipyplot-content-div-fB7unjcHKrQqMBezywsYYS-5hpTTcN4Qgva7BWXeEdC7S\">\n",
              "                <span class=\"ipyplot-img-expand\"/>\n",
              "            </a>\n",
              "        </div>\n",
              "    </div>\n",
              "    \n",
              "    <div class=\"ipyplot-placeholder-div-fB7unjcHKrQqMBezywsYYS\">\n",
              "        <div id=\"ipyplot-content-div-fB7unjcHKrQqMBezywsYYS-bkFV3Nwq7FyZNVNa4vZBsf\" class=\"ipyplot-content-div-fB7unjcHKrQqMBezywsYYS\">\n",
              "            <h4 style=\"font-size: 12px; word-wrap: break-word;\">1</h4>\n",
              "            <img src=\"data:image/png;base64,iVBORw0KGgoAAAANSUhEUgAAAEAAAAAgCAAAAACH9iFYAAAD9klEQVR4nC3VS7JkSw0EwAhJp+p2Y8YEdsqmmfJ7VZmSIhjAEnzk/Nuvv/z1lzMykLG5hFM63f2J308FMr//+OLPf3oDFZsQAFP0+f7rn3//1O49v4iIyHQIAHZ0vmfxxyd+IurdezaJh2s4SBuMhTTfW3Venu8DGgINCOERae0fg+eVqBhk398pizJtG8bMfDqq9vbcNAtpyAZgi4WVWjqv2hSL3KAMYBOBXQv3DLe83TNBgxtcKITAmrGZaThjFfEipgCFuHTa6vPdadS3vtNZpAYLbmzA9AXyZRmaYtD0zv+dgAXN3KseVs9uJwFkehmO9eKMGa+cS2kep5udyyBoR+7K6r6tLg++r/WW5UHIAdlrM1CvEm1hEztNRjACY49nZrrnlvf89HteG5ANcSFbDNOZueRtBchdOhLMxw1oRrozU+PdmRwkYHsBriWkHBvYNLZSopvhfaSwsZ7b53zPVLdudzlXDzELY42NkYYKriccguEl4bR+0FaPduegevqs5A52rC1hbWuMfotC8gZSRNsMVW6TbXn6HrtCUq84D1UYWN0C5RMIzH1jhjRsLJ8N6wUvRup7NVHafr6/u3AfaofedaMG4yC9CEhwfRymkUyA9Lg/d1ZRUt/3ntoJYk3ZzjHLmwUwMzi5BEwosCsYPdvn7pq1unX+83zfnvIugOfpkvlShpEiflaZsWl4GNJip/vz+e7atRu3zklRba0Z3FzpApUCHjyxtlhp71OAJ690v32+Ey5v6U5rh5C8b4HAo4b2tyOYacKjSjtNary3u7d7mC4KmttfMh0ObwbkTNs+E8iIVGWgIlLbjlvS/dx7r+woBj07M04+IhUwMopTK2yud8vIJBSQF7V7uz9HqySLYXo/WVsR5ivs4Bor05BLsNIJA9ICmpjT/T23xNoqGInpLgcZYBLIRWIh212bacCRBkMhte69pw1HuEAqsL547XlqnncTEZxaBTxi+gmHSccEV9b5ntMXiBCLRUMU1EpVOUUjSzOg8NhOEoVkLiCPdO69bTIgVpZvbUArQt+opkg4nlxihXAQzIChHVzPuX3vSghjK3OtBEaRkzfqFhcJBAmgJkjkAvDM7mLuPd1yCBvc+glU0oYkic+//S4FqRBsC2JS8MS21QvrnN0p4CiAoo2kNxcy1RPzCxWW/xdIbK6Cxuz4jns+uxKCRnpRpp+sZXGk1Elav8axZQmGVtgHtKSV5+7MBjNJcuyiiIcFRV36pk2hKqLhYZjugCyQXsztWRFRcniprRSTzIoo7GqBs6p3BimuRGEhAWlrZmcABp9pxyJQdFa/n9cjv/t6L2xnb5AGJoRlLEFKc3rEQtOCwMDqvxpaRq2T1fhqAAAAAElFTkSuQmCC\"/>\n",
              "            <a href=\"#!\">\n",
              "                <span class=\"ipyplot-img-close\"/>\n",
              "            </a>\n",
              "            <a href=\"#ipyplot-content-div-fB7unjcHKrQqMBezywsYYS-bkFV3Nwq7FyZNVNa4vZBsf\">\n",
              "                <span class=\"ipyplot-img-expand\"/>\n",
              "            </a>\n",
              "        </div>\n",
              "    </div>\n",
              "    \n",
              "    <div class=\"ipyplot-placeholder-div-fB7unjcHKrQqMBezywsYYS\">\n",
              "        <div id=\"ipyplot-content-div-fB7unjcHKrQqMBezywsYYS-RPwkovu3VztxpfQsoDZYC5\" class=\"ipyplot-content-div-fB7unjcHKrQqMBezywsYYS\">\n",
              "            <h4 style=\"font-size: 12px; word-wrap: break-word;\">2</h4>\n",
              "            <img src=\"data:image/png;base64,iVBORw0KGgoAAAANSUhEUgAAAEAAAAAgCAAAAACH9iFYAAAEhElEQVR4nAXB2ZJcuQ0FwIOFvNWLwvM2EfPd/kzbUktddUkCOHCm/Pv9nx8PYBDkqr2y21UK8vvXdTW/fs1P+8+3/vX3ACjFGmN+6Pt0A/f++fRAFZqjAUqyS10EynqX10/h6SO4eARmYSViAkkP6xSP55P+/Mhi81gXGxkwKw7r4Nvizfit4+Ny+bw+oVuPl7Q0UAKctdu8uPtYV3ez2QpCe7+hQdNHfOugyMN+/Guo1GG6OlRMpYXnhPhZ+ww0tJlkCxtdElECvPGcodNkPH64Ycyc7GGjHtJARW3C/3d9VnVDULp2JFvJEQ3IaOANUwZ0CKMzLYFURZVUSxx2OZ4RewKWUudORA1WUcwwsLaEK6V7KYo7SvTwMatb5JwTuH2c/RoYVehcL68lKFjAt1g02GZVCTXHjsV+n9xuinJ24Lx8YAfR0sUqYxZChKeMrWqyR65dui88er9wFBgR7wrJjD5ZTj21TbtNxBfOzWxBNmBqEnfc8aev+5p3f9eoB7cZ2SBZcV7LnzM31TJB+LXI+1RDgLkfHcUlBx1WmaiwbmYR6c7syDuP/35/rIrZpeyxWtCes32GPTgsFHiv1FFuLzEdMM3WTqo071hPz+f73helzFa7uqpcbPdWDJu2J84VbXlGEw9x1UcLkNbx2vX69mVfHz8+nu9IeqgMvKnE9sbm1XlndEkP6lG8c2qbikCkwTjs+ONL55/FONp9EExxfasYOfZTwQFJR7vPpoqqNlyM42jwdfi6w1+P5+Pn51/3o3fhgOLXuIadnlfollUml/iYMnSHbFNI5UTO7995v170MH7+9++QMGYz24aoqyMkHMLJ8iED4nOMRZVEl4T06677eW91lmI9P82S3YlE9tWFPLG3nC2cAODSpL/1SUShgOTOr3snXLr3/P5UaZZ2G6CVUJYO7v2ipU/BFLBDpQ9NsK+MOPuOFaLdss7+uiOYIpKtKk0TyBwqQoWkTdU5xEEKooWVe5177WpRAZK4vypXJvHW1PF2CfqOlRSgU/ZuE5OBiq6Kw18Z6/fCgcLdSrr9/v1eCRrNRFSzS7MzRPcMnZ0hQDBAoAI78zujMgFXQJDoL5coszU0dIgNyqkPpdYwuwYaaQkYm5STr9rPF3cMd5rGOjn4soC15JXHWu1iS0hd1Xo9ML3RelhkAnH6ZNQtSnEhiis+xiYh4fNY32ImqjqbLo5LzGDCjMzIKuQdFXX2EU0H2K8IMd5C5ZwhFj0bqkgxoD3NQ03yziJ7dzRzF6XVQO82qXMK6EyF3YPjcGYLGNvC4hrpNdaI01yaxElGu72qhtCrtLglypU5trEeO43dmpHIpHHZGilbI6uqb1qygWEQBDyMIgoQF6TG8oIK11XIOiHo+yGQlNlVt0SfOlWm5/JsqaKjhROnA1eOOkp8XyPRFFTtKZnPK81Z0N29OpRQO28XTKlCB3p4z36UftQShBqrmKrK7tWZjy1jwa7q3AdLpdvbvTlvEg6I6Rjjve4xT6pXa2oMlWxkdOElj6Nyh1VFVNtV2RhB8Mri/wFy+zbXRm3E0AAAAABJRU5ErkJggg==\"/>\n",
              "            <a href=\"#!\">\n",
              "                <span class=\"ipyplot-img-close\"/>\n",
              "            </a>\n",
              "            <a href=\"#ipyplot-content-div-fB7unjcHKrQqMBezywsYYS-RPwkovu3VztxpfQsoDZYC5\">\n",
              "                <span class=\"ipyplot-img-expand\"/>\n",
              "            </a>\n",
              "        </div>\n",
              "    </div>\n",
              "    \n",
              "    <div class=\"ipyplot-placeholder-div-fB7unjcHKrQqMBezywsYYS\">\n",
              "        <div id=\"ipyplot-content-div-fB7unjcHKrQqMBezywsYYS-c2MQdhAovkvNNw7ofZQ5aF\" class=\"ipyplot-content-div-fB7unjcHKrQqMBezywsYYS\">\n",
              "            <h4 style=\"font-size: 12px; word-wrap: break-word;\">3</h4>\n",
              "            <img src=\"data:image/png;base64,iVBORw0KGgoAAAANSUhEUgAAAEAAAAAgCAAAAACH9iFYAAAEQklEQVR4nCXUS5YcRw4EQAcCkVVNSgvp/leYg817WlHsygx83Gcxdgiz//z86wrOwkyfc9qGwobhfMonjxy/fuHaX3+/QwKN5sHtG5O///nv78ifgygXYB6yHFjBoKGf9poC6P3Mu4tLcvdYC+bUoLMsvn82WnIaYNK0CdC726G08zwUEP66NnTMnZe5Y0kzc5dWZPeYKEgkB6QvDHbZ62vlOTm2/b3jHVf3mK2JNodMnl3+xH2mXZCR00PJbAnisvDz1F7Tsa/3j9d7WQ1c1jHWTqqMw/h+spfgnNL0jEmDIJauvVZ+zrquvb9+xC4ZNLSguDgzzKKinsNy0AaaLiOXgDZJRGMLfvkrON+QOL1EbZRDXedIsdrSZVhOVYPj4+HNmeN12vc2U4LmSwZL5xjCSE2nAuFzvmAAiTGf0TBY3d0F9smxafp+28tVANo5wKI43TSP01njEN3MYZ1iwJWniazvZDS5V149giYwHr0IVuewKu4fVblBUAs2rTNGa6V9r3luDQfKMMph1peFsAbeo8pTijn3+/UKyacNrRr1tND9cW/ZKjfTPATXWgvhgKuXNOc+VGAysx0jiRQ0Lh3HzQrDa1yzZLpLs+IPunPDhRp15vCJes79/nLDOGAwub3z0qnOl2GljFau3c+8+Hm3w1xQo567+snoPJ+vrqAwGri/EejqPz5zLbzI+TmPXe+H8yzqa2K2IcH6PPXkHbfd/ucxmVqkSL9sv7y3GV+3vBfeMLxfbWz0GNaYs5F33ndNfNa/113hrlary0C/vN32DTBlfl2xes+FSLjaZ2x6+tG/32cUWVOf3AvDIUWjLSzzTztzSnZNw70Yf9qFGRcTYnaf30V6zPT5fIdeI3Hcxt1FacWrhmU+09u3+9fWW5+yVSY/XeecARAg63O/YCS3zG2tTQ3dX94NczPB3mHXpmMZc62pyTPfRQBhVPvvS0ttNLwYO5ZNTYsVRR/6jOB9bXYDbeq0Os8HclesTn9NRoNymWLBGnKhK7sr9+hCgqHjZZE40GH3/UhyBOZco+5eVrSYFaxltl6m/kp3uUvqMCVt3NahOI/lr0PCXjFWz1W5GzPltAhqqLX5QtomBYdvh80SiG5NZa5zkw5TQP287wurJ8G4Lpk41FpmS2Pu49GOcCfZlWRnFT8PIdcEpef+0TZFzzGNLbSIlm8GF7gNL5mRQ1HILlH1QIKZwlreh6JoEFNXLPbi8P8VtBmcptoszKPiFHKy10puVxyzebrPD5Fc7W3igIDLfQCXqy3KW2BWzyHEaUXKCETbUosjUFzRmoiQQSYjIamkSAeomclRc4Y5e4FDi97ePppS3EA7Qcloas8ZiBKQZsvZZNZwADzY7t7CBGgRJjOzUFu5mU0A3Si2EnQbl3sQ9XQ3TEUHpmGiAlqb4XDjIilJXJJqCtk5Vs6gmw9UPU2/imxDD5zE/wCl5oU/js+X3gAAAABJRU5ErkJggg==\"/>\n",
              "            <a href=\"#!\">\n",
              "                <span class=\"ipyplot-img-close\"/>\n",
              "            </a>\n",
              "            <a href=\"#ipyplot-content-div-fB7unjcHKrQqMBezywsYYS-c2MQdhAovkvNNw7ofZQ5aF\">\n",
              "                <span class=\"ipyplot-img-expand\"/>\n",
              "            </a>\n",
              "        </div>\n",
              "    </div>\n",
              "    \n",
              "    <div class=\"ipyplot-placeholder-div-fB7unjcHKrQqMBezywsYYS\">\n",
              "        <div id=\"ipyplot-content-div-fB7unjcHKrQqMBezywsYYS-FDyGcq3rLfXabM6ZyhctM9\" class=\"ipyplot-content-div-fB7unjcHKrQqMBezywsYYS\">\n",
              "            <h4 style=\"font-size: 12px; word-wrap: break-word;\">4</h4>\n",
              "            <img src=\"data:image/png;base64,iVBORw0KGgoAAAANSUhEUgAAAEAAAAAgCAAAAACH9iFYAAAERElEQVR4nC3VUa4lOREE0Mi0XfW6Z4aR2P8+WBMSQgL63So7MyL4gDWcjxN/u/+4ljFghWjCtkZ1nl/v+6aPfb4dv//2158LY8BCJ6GUan///R9zX0QAQEwEGrL6rMDuz7+fI+zMcxS4mppQBEc4BIk476n5fikUCKcsikK/zdv17v3sTx/mWBdEdWpmIgk7IEn7KOemhQHZsCST55iJ8jVzjM9becePOeJcCuWYTAWAQHQV99xdDIWCICUWGc4srFG642RFjjV+LtQEE06FELC0wV3zw+5EBCy43aCEJYx3fWnX5Zl55f1jJgFPjZUBIUGy6nBWSTWGUxBJ0/YI9FHnIC4DIzNyCMFwSFhpZaJUW5w4rLADsLshQWNGnU9hNDnuhNmXFYxsG0HOhA/IU/Dk2V8OhxKCYQCR3N/vJqLYQJXWuLmGYtodKK2U3S1jzPr1p62oAcAwxYhzvr8/24P1aUS1b8YXsi84VSM6kcWq0/vMZ7U0ATqQQRraZ3/vItmHMIUAzqwVDk5DmUzXVp1Tnn6efSHkLBhwU7XrPUYII5V7aAJV+U7e2TmEYZLubjWn+3m/Fu0GYaLfU9zdTUyMtWccpKPexMmlhEYmUM06zTrT57P3mkmOsPu8u3xqmE1lsmn5mcbm/IqccyZyGAqdzVM1H7zvkdIKqdWPOqT0V72RNqGIU2uSVPDrCwsT48hdVe/u+c/fn3/9dkZn0Ko6R2mMMT2XZzk2MZNMuNtkKIZSbJ+n9lua31/Pfv4iAHJzP3sE1tyQKwLKAXkOHjsSyMK4mX10Kj+fzZjnuZ+n6zItdh/xClH81DuiujAkiqevq+LiGy656zR7F43pc77/844YdFOGtYMMR8zRD4nFZNzZc8TXFSfvUrvernMsjkn2+/6asdhIx7BXhp1X/vQYT2gxObI5EZfl/ZlGeZ8654QxLVd9bhBEOO+NH3c89dZYjtsRvnBiXYE14gNAlN7o93myGT2H9sXnj6O0BiLv8ePG2gNuhm/3NCexVlzCV0NxgoendvUxPDv3j8MdmnYjfc85c4xxyXt0dMsFYGEtcQzS1n4P6lGLGLNzPp/nE2qknBP3yITvS/zS/2hcjOUrR7pMZZ/njL2xZWhKfL4+95oHKV15X8sCEk7YaOXo4Yy1gjEoUtW79TZJB2eIfD4/fU4sOWdEoilI0lG5HVIiBsJ0ZnSX2eflOXR6wj34PGcWgojVUyMaKp/+HEtK+ArHbIXoVhfOkRLqIUwi1fs5lxs5ulZNREJQ9+6yocgIgw6cqrNb3UTARCdmG6vAZ7bb6+5XecXU7HCzZcLDPRiGh+p91CWhYYlWzE70Le7lWUBacRIyVK6WpQQNBDGLcb63S+paTUqAJ8zhFjvtZHvWqrSdNMI66EgEELOz3vccKuU0aktIT3AuZrgn06YwKnOQrYpA0xG6AmlCddSF/P/MQpr+Lz7KqijBissgAAAAAElFTkSuQmCC\"/>\n",
              "            <a href=\"#!\">\n",
              "                <span class=\"ipyplot-img-close\"/>\n",
              "            </a>\n",
              "            <a href=\"#ipyplot-content-div-fB7unjcHKrQqMBezywsYYS-FDyGcq3rLfXabM6ZyhctM9\">\n",
              "                <span class=\"ipyplot-img-expand\"/>\n",
              "            </a>\n",
              "        </div>\n",
              "    </div>\n",
              "    \n",
              "    <div class=\"ipyplot-placeholder-div-fB7unjcHKrQqMBezywsYYS\">\n",
              "        <div id=\"ipyplot-content-div-fB7unjcHKrQqMBezywsYYS-mMQP5Jp4u2QDnuZLacjRzq\" class=\"ipyplot-content-div-fB7unjcHKrQqMBezywsYYS\">\n",
              "            <h4 style=\"font-size: 12px; word-wrap: break-word;\">5</h4>\n",
              "            <img src=\"data:image/png;base64,iVBORw0KGgoAAAANSUhEUgAAAEAAAAAgCAAAAACH9iFYAAAEO0lEQVR4nAXBWZYkxw0EQMcSWdU9lO5/CF5MT3/D6cqMAOBOM/vbX6+YvCBIjXFRI+Wbn7LrZUU+vz+K1xcuizCXWSiRkvj53/9TAN0MDhONEFQtVM/+Z35d1sL9e9/XX7gqoIQlHGYUrPdG3n8BAsUQDCJVZxQ6NZ/zOJuY3XvitWZWuDlNBp8Bdg3y9NKY0QcOUt09LemZfob2c4ZeLqkR3QoIDoBw9rnPzplKRzsMDWq65W7YuyDGUypKef33++UBodNEuUlUT53Jz/fqhBVg1PCQNrrG4vj3qKZk4fHrey1YgCzAjHIbTdVU7vNSmzNo1j1EyMIM8RbmtAm5bF3jx2jm7SfTCbh69mGnD9pN3i5Wm2gKW7wowRiXpcEWHJpOCUDPcnFsekadfU7Qe0maISQZrgiGT9OWfJ2Rv13iKMRZ0L6Cpi6JyNkjKcoSMkCEZU93tVmhyrcKr+1Z6reZfGeIjBY1++n8WTUBol1mNgMbxsyc1nACxCwOJgIsES64SWpoau/J+/t0mnE4cG9R0GGziOOGC3oRho2vwU+mhddKU9OkUz2JriZSGjuLHG7JG30kujvUMEGbdPYvhZaZDCT6PNOTvXedq1yVDlWfKWdlc8ZpIm1wcrTLkncuUypNlHpP7TvP89xxDTCGHvU+jWJ08lzWUdSsXRY209NvpqXDD1X7fp6n8on7dR3by8utZ+7pPrpmr/m8d1Z3dCFppkPNewU0mLbz7D8/++TP9Xmfc2EG5r1vwWesoL5XFUdmSDYY6UaXFORM45l772159qvv5SId3izv/F4tdRdRPQgSoiZe0ILc9bwwZXP/+ZxG8vOfJ6+Aj1mOnIl0806m5McN9M53X18XrjwtHGPWxrnvrrEk2J93rCk3a9rEMsWk5DbfN93pyKBW+hWCtcc0qmp/7pGl20k73uvOtEFkfF146hyGc3FCEicv9+vyToADVNTP/jMNY0bvXLVU0wuTtq7XUjxQzwzITjFlFq83sPw6msY857nvIrJy7Lwwe7VMdOe13IIv82Kn1inLCbPLMyQPTtHqbJ5/zjSwcuTPr93fBeYYL7vcgv7Oqib5TuMFWEQoiJFO9L5L+9QRZElXP7jaPl5ftOWzrAUhCTbpDjMPW+GCsYfV/TTvfThmk+l4MhyzcX0imoT1OIW0bTB1mLmHmZEmic9WHT2lZsrcjZiGamZ2dZ85AgWAxgEIgww+6IZmTtXZNc+sFwecBE3nfA9bTuuuClcAboOgucHlDnlDU93nvnmmaKsoElkOH9NQDQ8+kYmFcFrS1xAjDwu4Dx29n6kmbdxFjJgj00s93T7Ox3fEK4LudGXDAJnMRMtD1M9nGpoKAPGYTUq2ABnMpebjZ0XLwkGPcYrLqEqCOuc+Z2gDIPdxYJQ2me5usQgquvJxz9VGmuVus8YSRNj0s0t0wQbdsgvkvwNKYKxGOeiEAAAAAElFTkSuQmCC\"/>\n",
              "            <a href=\"#!\">\n",
              "                <span class=\"ipyplot-img-close\"/>\n",
              "            </a>\n",
              "            <a href=\"#ipyplot-content-div-fB7unjcHKrQqMBezywsYYS-mMQP5Jp4u2QDnuZLacjRzq\">\n",
              "                <span class=\"ipyplot-img-expand\"/>\n",
              "            </a>\n",
              "        </div>\n",
              "    </div>\n",
              "    \n",
              "    <div class=\"ipyplot-placeholder-div-fB7unjcHKrQqMBezywsYYS\">\n",
              "        <div id=\"ipyplot-content-div-fB7unjcHKrQqMBezywsYYS-eZ3hA8Zu7uSmxiwwRCSoku\" class=\"ipyplot-content-div-fB7unjcHKrQqMBezywsYYS\">\n",
              "            <h4 style=\"font-size: 12px; word-wrap: break-word;\">6</h4>\n",
              "            <img src=\"data:image/png;base64,iVBORw0KGgoAAAANSUhEUgAAAEAAAAAgCAAAAACH9iFYAAAEzklEQVR4nAXB2a4kRxUF0DNERGZV9b3dbpsXZCQ+gZ/h33kFISQs5HZNmRFn2qzFf99//dsviTGIz/vzfbi3z88Prn/988y/6v0f9bP897f88pc/0/gT3SMkpO96bfbj3+d/7jGaQhcTpRHcjmw2rpcv2/L926+P388sv7f+80H+49oBAidFSy27321W8tYw2L2sC9n5ZJiO/UI52riuP+Z6z/fRZf+qW//8UItaUMYqtcd9lkG5SS+eHCUehhMayXJi7HcZH/U/n7yp8JfP/fb9EpEu4VtseK9pMUGZrYHn1EK4pW1vEPtBgc7n+Jgfz2t8lcJ2+7j08ioHkrbHT+daMydLWHv2l7+GUsWh+pwp+5RzLHy4MuklFssQVcljFkcVyESWvmzZWVnV8L7NVntIVH8+TbO+P6fYmj1srepANR70QJZqmPMovxxyvuoMC0ETzt/ophCm98NNmZ5+fL4zZdfijamFN3+E1Q4pLmDki6edsFolaLq5/rFNqeSz3GqMdsxR+coNuu2mleHe3FXkEOYipknncYZ5haAlnPkdm23ZeXHlex2WyRmmkj5Tc/rNZZiWJQZlL6znaWdEIqsZsfNJNdLTEU6vG0BS8n3FLThso1VTyHlVkVXP+lL+smVsAKEFYn41Iq9a4oBD9m/yJV/76/iOOPruzLRxCJEmp1RqTLNAUaZS42Njf/60cnczXcmtfQxc4zVPWWGPUaJ5S9phWZGRdZlqBEkYMbLlSXy2c9C9ZnJxbsEdctbrx2UdT9l4PiPaODchOCqVJUsTbEIBiFEUyu10d1RVD10SB19IyMZlu5ZqE9lUGUlMJA6baZ5QgLUt8dGnosUiX9QgNl6K1W9zC7pM39fOo7curl6iiDGPDPYqFEhbvPYMkQsBNZaQULzomzZst53eAmnjxkNqbW1KdqusF2qiwAEhaW32HmvELcU3QXTwrSXfkkW0r12bmHfNa6PX0DkmWwRHMlHlUG7SALv249pmkxJ2vlD3PVOQ80Foi7yy7UXJHxNBUZMJEOYS4tZa5aric35sj08ptgsoaN0xbNXhpYSl/fMc76x3sGdYAcFEYFUdLcci0GI+LpvsEUSxhJ4rKj3iBQZnK5+TXI6cmcupkplRqqLUpGT11SS0pOa+pPM5maoiLMxJnAVyrwHCikA4sqJxFDVIU/GkZliNmgokqH2c9jonRk8vgi044EeLiJWlnkXKlSxRLKpbY86JaMWVhbGdfVdP7N4NRCFdMsagMiCREUUgpAoxiAByuTAXl9dGOc2TWl7ItOLUMCImgo7KWvGuteyk5EIpczIzJ6NtYWjkbEWYaUReKeeeRK1zz62IkduLixEWgQKAasM0waIl7KyRmxjn5hHXEwa4sCUaE4t3jTZLHMtAVprqhG5dOaFQOYilqT6SRaSDYukgvcAaaHSqS3aawa+CVZwoQyhR9ehJnaxkbUrSojlGFWQCmn3YYEqJqKyKZVsqJ9xqQ3QuVU1AiRgpG7hvhSbcSluEToxNOVqhlkumWNHByUJEHQLmxoNFlyggaFS9F11pDPl6zCwfJ3n3dOHVT/Z9UnK1AHkPTlBKNS5RjkHRqIGu9LhKvza+NecmlMoBR8QiipgpQVRUYG6FaipKzUgIaAn9P+oMWmts8GntAAAAAElFTkSuQmCC\"/>\n",
              "            <a href=\"#!\">\n",
              "                <span class=\"ipyplot-img-close\"/>\n",
              "            </a>\n",
              "            <a href=\"#ipyplot-content-div-fB7unjcHKrQqMBezywsYYS-eZ3hA8Zu7uSmxiwwRCSoku\">\n",
              "                <span class=\"ipyplot-img-expand\"/>\n",
              "            </a>\n",
              "        </div>\n",
              "    </div>\n",
              "    \n",
              "    <div class=\"ipyplot-placeholder-div-fB7unjcHKrQqMBezywsYYS\">\n",
              "        <div id=\"ipyplot-content-div-fB7unjcHKrQqMBezywsYYS-2YidQsPHPaeJ6hxZo56wXA\" class=\"ipyplot-content-div-fB7unjcHKrQqMBezywsYYS\">\n",
              "            <h4 style=\"font-size: 12px; word-wrap: break-word;\">7</h4>\n",
              "            <img src=\"data:image/png;base64,iVBORw0KGgoAAAANSUhEUgAAAEAAAAAgCAAAAACH9iFYAAAElUlEQVR4nAXBWXIlxxEEwMilqvrhASMah5TpoDqyfkSjyFkAdHflEnKXf1eKtcsQrCKG6XrF3//z8dB+PJ9dW/K/5dvL3g4rla6U6n0i5scfP8LFLwPK7tEhmK3qKc8//9r5xV6+XJoZcfLz54uZ16CUlOyq3Vn5vmEeZAywEEIZW8yE1H/1dZ52dPbO+9OtMJZslvdFxw7emqyCtvOcm6CUlrk8qAoKH18/IwTnvjtd2ON4iFeiIHWi6y6nVibC22T0aM0U4xjBNENveRtnHMkQnQI9BlxHtAjat7YqoNUS7eeoGWLy2DbcY7q1Ve8La8Ydcc8FtTEcYIYpXNsFLCiqm+VbPdwsbPqy8tWqGUHRtFK5S1JN2fcozkHpUWL3QKl2Jm9xSU81HTqEHLa1NCrV/KIJxxQUm1HuoNJUhlzO6Rd2VTU9rbiXGWTcArPesRmKO4sLkXBuT6BVcWk/ZW2HBES6smEOFXLrCmsTRGxYdE5k75CFLbA4Kd45N5U6ZZZWC6uis82vV5GI1VC0CPburiJYXXeNIdXTErMSqFafoSKju5Nxxcb2Oyc9qi2Nohv98yNpog95rB0m7sceniYtYfXCDTUhk3cErcX7/RXtFSqtDCDvsyhGHKFqkQeiO0/z/a7HlzW6AZDF/GRQylF7O0/d1j5YeNFnyH00j2vT7nZl8T5lpI1j+dzXYbur8r4309S5HWRfVhAT+MsXZ90sayV4w6mxE6vLj9GgsHd/lnycVe3SbtwycKFFwrieh9t1E2zVQ+PhbJ6ur6yq5aZVmijQj78q2dZuMaysr6GqparuMs7NTxtqqSZBcdDbhcMtq4VRpD5fP1tV2zHh8Gi25nZkhO2PrG6tb1QRbclyryFjrg5YYZP9yX/En2EQX7/gPuvYYpZQIIg7WgZlo4TahDBGcaUw8zqkig77gcdvf2+K//Nrfq89pKnGrsxxvmNLytWa7JbuXL0GIdtRmxaoFS/jWs7vF/X3t3G8SURWm3cLKiNBZPKODl7R2sOmZjODWpvp1+SrxPr6Ky5/4dH86Cx3owq9p4fVaF1gjzrIXHRRGWa7Ncq5hT1GF79+O12bzZGyS3Wimoa3O4SvQpNSFDo8sVYNQpHa5bfKqNeMc7z+dOs/TkGOXfe8VrgsG5Yr0CZaqlpNST2aaDJBsc7RINZk6nD96/uAiR4f9f6s58eB53EvndKGfGgZUlsRKpKZIHmJVB0v70ve/mPmcXooXPyjmocMcMJUt82WcU7XFteSEjLvQHWluexyq/vx5X35j/c4f78scASvqqEcY8wQZhi0WBxIgSUakJvZw0tkD9M9f/n81X9mRiNbD4QESiljhUtYFESrbN+Dwp3MzjLjcIqa+PXt5XW++88bU9Zt91hA8mNQ1j2GyRENQ3LFPCnZ1Sxq2QJXXRJ2SdDpPfUEXB7XQwDRZDbUH6uZtFICFwoJyDZwqAlCYsq+59Gk10LdClD2PBJENXSkiQJkeRFWN0lAy33EFPTZD/bHs2yqQ2HxcM1BU08lJDTdVNqbFdpy6SWt3lM5ZNSSrsewexwv/fjt/yrQ6BnnbUlLAAAAAElFTkSuQmCC\"/>\n",
              "            <a href=\"#!\">\n",
              "                <span class=\"ipyplot-img-close\"/>\n",
              "            </a>\n",
              "            <a href=\"#ipyplot-content-div-fB7unjcHKrQqMBezywsYYS-2YidQsPHPaeJ6hxZo56wXA\">\n",
              "                <span class=\"ipyplot-img-expand\"/>\n",
              "            </a>\n",
              "        </div>\n",
              "    </div>\n",
              "    \n",
              "    <div class=\"ipyplot-placeholder-div-fB7unjcHKrQqMBezywsYYS\">\n",
              "        <div id=\"ipyplot-content-div-fB7unjcHKrQqMBezywsYYS-Drn2kyC6nc4MzYC85gjksj\" class=\"ipyplot-content-div-fB7unjcHKrQqMBezywsYYS\">\n",
              "            <h4 style=\"font-size: 12px; word-wrap: break-word;\">8</h4>\n",
              "            <img src=\"data:image/png;base64,iVBORw0KGgoAAAANSUhEUgAAAEAAAAAgCAAAAACH9iFYAAAD+klEQVR4nCXQQZbk2A0DQICklN0zvrwP6p17KqVPAF74BvGC/17e3L7YLLgf6/v9nk//9a/G5/NLgvyfP39+fr6c9/78vq4U4gd442c5y/x8NtWLQp7V8/y4w59w+6/fbfF8//z3HJvYynWThB0tzsOaM9RqKYLM5vke92fGOt98797gnH++BoZXLJ2pdlkv/KozAan4VJpQ/Xwf9Oe6P88/zx88lbL97I79qYIM+7KJiD55MQLGPhqzyOefNa/rGsfPVxdSOXtYzgczp6Dm2wSEnPhovgMgluFi9g0qro6COsv8RF5+che2rz0CDBJJzJydh+G1eX8J5pHiBlC+zke1OjmV6S5sZouk3SFj29J7RoKfBrYMpXxYcw9vvvOr+l3dmTSwiAMM1hlGKsNr19qvYQrE0Lo+NTWpvuH5TE1TTICA+yphEBWcdSUcx5OFi0RO1cyAKqF+eUUgoCaptICXA5YJYh1YNeaInQIDFXsqXtcyXXFVOi0GUmEpzUc9WSPFnx2NtsHDlDu9XVDyMhXkfY68B4wf9J6Ksx9WBwkrYeg5//zNUw0vgpo6hi099CpeZzOi3k6Cq+7yoGgX5JPOQO9V2IrFQMsLjffy8VvHPoaxjU7UdV3DMA0z4h7QE78V2qytyhI9d2r/7nzL1pN9+xCIVLn6/1uJibxLYMg9nySV7UHY1PH6+5nf/ZHX76vX1naabFTJIUA/m3EGjs+ELjwgr9vZKuXZ3OFCdZXz1fbvcqGpuJNCvODhVJ1sBTB8/i/kpete+efluldwhI+rulBA4ooRm2VNNWNd30aKKKv56SzHj48WEJTrWnYVmwFjEInE2u3JZ8++v9jKTjmH1zW13MeoUA1tpVOYOlH7gOaBpL5esAbkDBKaFsqAbTSJyIKSgsJ0Ywz56NCJVTOXOe2uxz1lIAkY7FJwblxPhALgFGIkbXFVhqNq1t/PUFcPq88QgDctEGT/peb8PgeLmARoIw6SldtMn9wz90Hx1Qeht3XvZYyvQvOjK6+l8EmJqliAU29AAC9DTH2ICz1Hsz7XuYRsBw2gJtHIcbmDJxDWSsIFKqnB1C/UO761HmmrD64mojYdh3B8L+P1iaONAAb67FzUXL+MAB+bVzk6lG93PCQlBz4gopWMw3UtGHqS/PLMp4DLxduWUcmT8rWIM3UsZGM61lFWcr8mOaeKd/EM3LiPxmTvLTNS6QKZY1uREGOpta1NWTWTpsOi51OT6e8IffPloR1DVaJlKw4EKJYRIG5O435LhXd6Pq5Pan3fWx+ZHMXW5cGx13irImChGHFyg7OYL24YmOb0wY25bbZ50JJTUZI3ShYRoIQW0VWcYj++5l7V/wAByReaAmtFxwAAAABJRU5ErkJggg==\"/>\n",
              "            <a href=\"#!\">\n",
              "                <span class=\"ipyplot-img-close\"/>\n",
              "            </a>\n",
              "            <a href=\"#ipyplot-content-div-fB7unjcHKrQqMBezywsYYS-Drn2kyC6nc4MzYC85gjksj\">\n",
              "                <span class=\"ipyplot-img-expand\"/>\n",
              "            </a>\n",
              "        </div>\n",
              "    </div>\n",
              "    \n",
              "    <div class=\"ipyplot-placeholder-div-fB7unjcHKrQqMBezywsYYS\">\n",
              "        <div id=\"ipyplot-content-div-fB7unjcHKrQqMBezywsYYS-TWsgsMchALoKwHdxyzLqdX\" class=\"ipyplot-content-div-fB7unjcHKrQqMBezywsYYS\">\n",
              "            <h4 style=\"font-size: 12px; word-wrap: break-word;\">9</h4>\n",
              "            <img src=\"data:image/png;base64,iVBORw0KGgoAAAANSUhEUgAAAEAAAAAgCAAAAACH9iFYAAAERElEQVR4nAXBUZIkx24EwAgAWdU9u+TTh3R2XVNG485UZwIRcuf/nncYKNM+5/ns58/nh7/fv/S93ujnH1Otf67nretnLb5rIcI74JJ6VztdJ+2kua3z/Bxdef6vfr4P/tXumv7z+cz7xZvhT3N1AqY9PlO7CMSkmvi0znPIda2YK07rz589dwLQ63ohO2BtsDMs6/j7q0JKMiWDmue0XPW6bnPVefw52nfyr6+VmRFwDmyivHnUEaXsGyPzE9jSsfN63W+C8d2S89r719f7P0l5/Yyc6SSA4J4KlVaL5IwlP9NYvtfviI0sqzlXVtV//rrm2bz29HIgAAATDlWvmGQeGiGdHL5eVySDWfeTybxj/bojsAxQM8F0nLTgTtR07KsJXJqO+qx4X690rMe67r/SRa/F8CAPYlntKGM7ottVz1un0CDymFp3rrtsyd9SXcNrTsV8IpqQVsvQVCslnETNvsLikAoMX1UBaDB75tNNt5rhIRjdph0RUj2GzI56royTpqEZV8ITn4bc8/OcNltCnA6EJ0QgSOh4MBx29TncK+SIaK3VM/LM4FvfPycYZ84t123SAaeBGBtmfbpZ7M3qZQEHGfCe48b3/pk5stGGJr5/BUOvCtSkaJvUc7Krz1uNDEla4/PpE1nS6U8P2HZfmvZWRDKiUAoLYWmoT+3riYNIeKyQrKZ96vfXj1qxhX3vWMqYfT+xeJ0cjzjsY7qeX1LmJKy2gx+gf+61KxJxsKcevTpHyuqaCVNqKAyJYvzbZyYli3IEKPf710qyMoEE635dhHkt9gDCyEJEtDyo3VePQhgBnKPTr//xDjf2Vju3Q/VR1jW1yhioNUn6ILtLz1f3xOeGFM7dj/7rdvmzDv7dA1iBdd+IvGHrk247OqmgDgvHer4wPUJ4fx7H18JRtHHPkA1EMC6t0NPOkacOBemlFVWffWm/wxpAPcO/rzmjnhkiB1gD00rH64xlJ05CzF8WWTnfN7shiu5uvv+u2d2SPZC1mjjFRKquIwkIMcX4OrqmoIcJIdLW7I5fK8bdvNvB3FAgRwuGGHVkSmjGrBzGK0h9rnCOy1sT76+XzMjlyIWsiIwMQgU5TbQx1kbiUJHFqu/zxYLX7C1fr0Izgt2yzJArLkQEue1RDkXARSbvqLxfeb50YRu067KHhE1wQzYolheCZ9SWpQDNhOK1WFGOR79jzVz8MyvdDuczaXt2gEOKQw0x2K0SZnFdPqzIEq4qJOr1bzMTOIAOEdLQZVgJwbTsfqYtZ2hlCRULdd91XxcxfH/3a2pC7BAHRguGZCqU4/GZPXUclRUkI+n6++8V9/utvfMyX8F2WLbd2vIIRjOrOdLsR5NpR62Jr+kV9d+/zXu9t5d97AIkNU35WDMcB9sYyKenYSOMovHqzyvrffnmfVU8gdA/VpW2BFjykSieTn3MidYIqkCQMfGa7+H/AxlqANKEMLOJAAAAAElFTkSuQmCC\"/>\n",
              "            <a href=\"#!\">\n",
              "                <span class=\"ipyplot-img-close\"/>\n",
              "            </a>\n",
              "            <a href=\"#ipyplot-content-div-fB7unjcHKrQqMBezywsYYS-TWsgsMchALoKwHdxyzLqdX\">\n",
              "                <span class=\"ipyplot-img-expand\"/>\n",
              "            </a>\n",
              "        </div>\n",
              "    </div>\n",
              "    </div>"
            ]
          },
          "metadata": {}
        },
        {
          "output_type": "display_data",
          "data": {
            "text/plain": [
              "<Figure size 600x1500 with 10 Axes>"
            ],
            "image/png": "[encoded data removed]"
          },
          "metadata": {}
        }
      ]
    }
  ]
}